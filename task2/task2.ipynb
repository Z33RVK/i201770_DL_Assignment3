{
 "cells": [
  {
   "cell_type": "code",
   "execution_count": null,
   "metadata": {},
   "outputs": [],
   "source": [
    "# Semantic Product Search and Ranking\n",
    "# interpreting meaning of words and phrases in the context of product searches\n",
    "# understand query and return meaning of query\n",
    "# understand input query, search for relevant products, and rank them based on highest to lowest matches\n",
    "# training data -> query-result pairs\n",
    "# deploy model on web application\n",
    "# put Amazon dataset in a database and create a simple web interface with a text box\n",
    "# user will enter query to the model, which will find the matched products\n",
    "# display these results on the web\n",
    "# use query , product title and product description\n",
    "# recommendation use BERT to see if this works\n",
    "\n",
    "# Requirements\n",
    "# - Load all the data set, combine product_title and product_description columns which will be used for searching.\n",
    "# - Perform text preprocessing: Convert all to lower case, remove stopwords, perform Lemmatization or Stemming, remove Special Character\n",
    "# - Convert text data into numerical representations. Common techniques include: TF-IDF (Term Frequency-Inverse Document Frequency), Word Embeddings (e.g., Word2Vec, GloVe, FastText) for capturing semantic meaning. You can also use Pretrained Language Models (e.g., BERT, GPT) for text representation.\n",
    "# - Divide the dataset into training, validation, and testing sets. Common splits include 70- 80% for training, 10-15% for validation, and 10-15% for testing.\n",
    "# - Select a suitable deep-learning model for training and testing on the given dataset.\n",
    "# - Visualization of the training and testing errors\n",
    "# - Fine-tune the model hyper parameters.\n",
    "# - Select appropriate evaluation metrics for your problem, such as NDCG, MAP, Precision at K (P@K), Recall at K (R@K), F1 at K (R@K) or any relevant metric.\n",
    "# - Deploy the model such that it can be served in the web application. Allow the user to enter a query and it should return the closest matched products.\n",
    "# - Write a detailed description of your solution and the challenges that you face as a report under Experimental Results Section. Show the accuracies obtained for the task and summarize them as a table.\n"
   ]
  },
  {
   "cell_type": "code",
   "execution_count": 2,
   "metadata": {},
   "outputs": [],
   "source": [
    "#loading data\n",
    "import pandas as pd\n",
    "import pandas as pd\n",
    "df_examples = pd.read_parquet('./datasets/shopping_queries_dataset_examples.parquet')\n",
    "df_products = pd.read_parquet('./datasets/shopping_queries_dataset_products.parquet')\n",
    "df_sources = pd.read_csv(\"./datasets/shopping_queries_dataset_sources.csv\")"
   ]
  },
  {
   "cell_type": "code",
   "execution_count": 23,
   "metadata": {},
   "outputs": [
    {
     "data": {
      "text/html": [
       "<div>\n",
       "<style scoped>\n",
       "    .dataframe tbody tr th:only-of-type {\n",
       "        vertical-align: middle;\n",
       "    }\n",
       "\n",
       "    .dataframe tbody tr th {\n",
       "        vertical-align: top;\n",
       "    }\n",
       "\n",
       "    .dataframe thead th {\n",
       "        text-align: right;\n",
       "    }\n",
       "</style>\n",
       "<table border=\"1\" class=\"dataframe\">\n",
       "  <thead>\n",
       "    <tr style=\"text-align: right;\">\n",
       "      <th></th>\n",
       "      <th>example_id</th>\n",
       "      <th>query</th>\n",
       "      <th>query_id</th>\n",
       "      <th>product_id</th>\n",
       "      <th>product_locale</th>\n",
       "      <th>esci_label</th>\n",
       "      <th>small_version</th>\n",
       "      <th>large_version</th>\n",
       "      <th>split</th>\n",
       "    </tr>\n",
       "  </thead>\n",
       "  <tbody>\n",
       "    <tr>\n",
       "      <th>0</th>\n",
       "      <td>0</td>\n",
       "      <td>revent 80 cfm</td>\n",
       "      <td>0</td>\n",
       "      <td>B000MOO21W</td>\n",
       "      <td>us</td>\n",
       "      <td>I</td>\n",
       "      <td>0</td>\n",
       "      <td>1</td>\n",
       "      <td>train</td>\n",
       "    </tr>\n",
       "  </tbody>\n",
       "</table>\n",
       "</div>"
      ],
      "text/plain": [
       "   example_id           query  query_id  product_id product_locale esci_label   \n",
       "0           0   revent 80 cfm         0  B000MOO21W             us          I  \\\n",
       "\n",
       "   small_version  large_version  split  \n",
       "0              0              1  train  "
      ]
     },
     "execution_count": 23,
     "metadata": {},
     "output_type": "execute_result"
    }
   ],
   "source": [
    "df_examples.head(1)"
   ]
  },
  {
   "cell_type": "code",
   "execution_count": 24,
   "metadata": {},
   "outputs": [
    {
     "data": {
      "text/html": [
       "<div>\n",
       "<style scoped>\n",
       "    .dataframe tbody tr th:only-of-type {\n",
       "        vertical-align: middle;\n",
       "    }\n",
       "\n",
       "    .dataframe tbody tr th {\n",
       "        vertical-align: top;\n",
       "    }\n",
       "\n",
       "    .dataframe thead th {\n",
       "        text-align: right;\n",
       "    }\n",
       "</style>\n",
       "<table border=\"1\" class=\"dataframe\">\n",
       "  <thead>\n",
       "    <tr style=\"text-align: right;\">\n",
       "      <th></th>\n",
       "      <th>product_id</th>\n",
       "      <th>product_title</th>\n",
       "      <th>product_description</th>\n",
       "      <th>product_bullet_point</th>\n",
       "      <th>product_brand</th>\n",
       "      <th>product_color</th>\n",
       "      <th>product_locale</th>\n",
       "    </tr>\n",
       "  </thead>\n",
       "  <tbody>\n",
       "    <tr>\n",
       "      <th>0</th>\n",
       "      <td>B079VKKJN7</td>\n",
       "      <td>11 Degrees de los Hombres Playera con Logo, Ne...</td>\n",
       "      <td>Esta playera con el logo de la marca Carrier d...</td>\n",
       "      <td>11 Degrees Negro Playera con logo\\nA estrenar ...</td>\n",
       "      <td>11 Degrees</td>\n",
       "      <td>Negro</td>\n",
       "      <td>es</td>\n",
       "    </tr>\n",
       "  </tbody>\n",
       "</table>\n",
       "</div>"
      ],
      "text/plain": [
       "   product_id                                      product_title   \n",
       "0  B079VKKJN7  11 Degrees de los Hombres Playera con Logo, Ne...  \\\n",
       "\n",
       "                                 product_description   \n",
       "0  Esta playera con el logo de la marca Carrier d...  \\\n",
       "\n",
       "                                product_bullet_point product_brand   \n",
       "0  11 Degrees Negro Playera con logo\\nA estrenar ...    11 Degrees  \\\n",
       "\n",
       "  product_color product_locale  \n",
       "0         Negro             es  "
      ]
     },
     "execution_count": 24,
     "metadata": {},
     "output_type": "execute_result"
    }
   ],
   "source": [
    "df_products.head(1)"
   ]
  },
  {
   "cell_type": "code",
   "execution_count": 25,
   "metadata": {},
   "outputs": [
    {
     "data": {
      "text/html": [
       "<div>\n",
       "<style scoped>\n",
       "    .dataframe tbody tr th:only-of-type {\n",
       "        vertical-align: middle;\n",
       "    }\n",
       "\n",
       "    .dataframe tbody tr th {\n",
       "        vertical-align: top;\n",
       "    }\n",
       "\n",
       "    .dataframe thead th {\n",
       "        text-align: right;\n",
       "    }\n",
       "</style>\n",
       "<table border=\"1\" class=\"dataframe\">\n",
       "  <thead>\n",
       "    <tr style=\"text-align: right;\">\n",
       "      <th></th>\n",
       "      <th>query_id</th>\n",
       "      <th>source</th>\n",
       "    </tr>\n",
       "  </thead>\n",
       "  <tbody>\n",
       "    <tr>\n",
       "      <th>0</th>\n",
       "      <td>0</td>\n",
       "      <td>other</td>\n",
       "    </tr>\n",
       "  </tbody>\n",
       "</table>\n",
       "</div>"
      ],
      "text/plain": [
       "   query_id source\n",
       "0         0  other"
      ]
     },
     "execution_count": 25,
     "metadata": {},
     "output_type": "execute_result"
    }
   ],
   "source": [
    "df_sources.head(1)"
   ]
  },
  {
   "cell_type": "code",
   "execution_count": 30,
   "metadata": {},
   "outputs": [
    {
     "name": "stdout",
     "output_type": "stream",
     "text": [
      "(2621288, 9)\n",
      "(1814924, 7)\n",
      "(130652, 2)\n"
     ]
    }
   ],
   "source": [
    "print(df_examples.shape)\n",
    "print(df_products.shape)\n",
    "print(df_sources.shape)"
   ]
  },
  {
   "cell_type": "code",
   "execution_count": 31,
   "metadata": {},
   "outputs": [],
   "source": [
    "df_examples_products = pd.merge(\n",
    "    df_examples,\n",
    "    df_products,\n",
    "    how='left',\n",
    "    left_on=['product_locale','product_id'],\n",
    "    right_on=['product_locale', 'product_id']\n",
    ")"
   ]
  },
  {
   "cell_type": "code",
   "execution_count": 32,
   "metadata": {},
   "outputs": [],
   "source": [
    "df_examples_products_source = pd.merge(\n",
    "    df_examples_products,\n",
    "    df_sources,\n",
    "    how='left',\n",
    "    left_on=['query_id'],\n",
    "    right_on=['query_id']\n",
    ")"
   ]
  },
  {
   "cell_type": "code",
   "execution_count": 36,
   "metadata": {},
   "outputs": [],
   "source": [
    "df_examples_products_source = df_examples_products_source[df_examples_products_source[\"esci_label\"] == 'E']"
   ]
  },
  {
   "cell_type": "code",
   "execution_count": 39,
   "metadata": {},
   "outputs": [],
   "source": [
    "df_examples_products_source = df_examples_products_source[df_examples_products_source[\"product_locale\"] == 'us']"
   ]
  },
  {
   "cell_type": "code",
   "execution_count": 40,
   "metadata": {},
   "outputs": [
    {
     "data": {
      "text/html": [
       "<div>\n",
       "<style scoped>\n",
       "    .dataframe tbody tr th:only-of-type {\n",
       "        vertical-align: middle;\n",
       "    }\n",
       "\n",
       "    .dataframe tbody tr th {\n",
       "        vertical-align: top;\n",
       "    }\n",
       "\n",
       "    .dataframe thead th {\n",
       "        text-align: right;\n",
       "    }\n",
       "</style>\n",
       "<table border=\"1\" class=\"dataframe\">\n",
       "  <thead>\n",
       "    <tr style=\"text-align: right;\">\n",
       "      <th></th>\n",
       "      <th>example_id</th>\n",
       "      <th>query</th>\n",
       "      <th>query_id</th>\n",
       "      <th>product_id</th>\n",
       "      <th>product_locale</th>\n",
       "      <th>esci_label</th>\n",
       "      <th>small_version</th>\n",
       "      <th>large_version</th>\n",
       "      <th>split</th>\n",
       "      <th>product_title</th>\n",
       "      <th>product_description</th>\n",
       "      <th>product_bullet_point</th>\n",
       "      <th>product_brand</th>\n",
       "      <th>product_color</th>\n",
       "      <th>source</th>\n",
       "    </tr>\n",
       "  </thead>\n",
       "  <tbody>\n",
       "    <tr>\n",
       "      <th>1</th>\n",
       "      <td>1</td>\n",
       "      <td>revent 80 cfm</td>\n",
       "      <td>0</td>\n",
       "      <td>B07X3Y6B1V</td>\n",
       "      <td>us</td>\n",
       "      <td>E</td>\n",
       "      <td>0</td>\n",
       "      <td>1</td>\n",
       "      <td>train</td>\n",
       "      <td>Homewerks 7141-80 Bathroom Fan Integrated LED ...</td>\n",
       "      <td>None</td>\n",
       "      <td>OUTSTANDING PERFORMANCE: This Homewerk's bath ...</td>\n",
       "      <td>Homewerks</td>\n",
       "      <td>80 CFM</td>\n",
       "      <td>other</td>\n",
       "    </tr>\n",
       "    <tr>\n",
       "      <th>2</th>\n",
       "      <td>2</td>\n",
       "      <td>revent 80 cfm</td>\n",
       "      <td>0</td>\n",
       "      <td>B07WDM7MQQ</td>\n",
       "      <td>us</td>\n",
       "      <td>E</td>\n",
       "      <td>0</td>\n",
       "      <td>1</td>\n",
       "      <td>train</td>\n",
       "      <td>Homewerks 7140-80 Bathroom Fan Ceiling Mount E...</td>\n",
       "      <td>None</td>\n",
       "      <td>OUTSTANDING PERFORMANCE: This Homewerk's bath ...</td>\n",
       "      <td>Homewerks</td>\n",
       "      <td>White</td>\n",
       "      <td>other</td>\n",
       "    </tr>\n",
       "    <tr>\n",
       "      <th>3</th>\n",
       "      <td>3</td>\n",
       "      <td>revent 80 cfm</td>\n",
       "      <td>0</td>\n",
       "      <td>B07RH6Z8KW</td>\n",
       "      <td>us</td>\n",
       "      <td>E</td>\n",
       "      <td>0</td>\n",
       "      <td>1</td>\n",
       "      <td>train</td>\n",
       "      <td>Delta Electronics RAD80L BreezRadiance 80 CFM ...</td>\n",
       "      <td>This pre-owned or refurbished product has been...</td>\n",
       "      <td>Quiet operation at 1.5 sones\\nBuilt-in thermos...</td>\n",
       "      <td>DELTA ELECTRONICS (AMERICAS) LTD.</td>\n",
       "      <td>White</td>\n",
       "      <td>other</td>\n",
       "    </tr>\n",
       "    <tr>\n",
       "      <th>4</th>\n",
       "      <td>4</td>\n",
       "      <td>revent 80 cfm</td>\n",
       "      <td>0</td>\n",
       "      <td>B07QJ7WYFQ</td>\n",
       "      <td>us</td>\n",
       "      <td>E</td>\n",
       "      <td>0</td>\n",
       "      <td>1</td>\n",
       "      <td>train</td>\n",
       "      <td>Panasonic FV-08VRE2 Ventilation Fan with Reces...</td>\n",
       "      <td>None</td>\n",
       "      <td>The design solution for Fan/light combinations...</td>\n",
       "      <td>Panasonic</td>\n",
       "      <td>White</td>\n",
       "      <td>other</td>\n",
       "    </tr>\n",
       "    <tr>\n",
       "      <th>5</th>\n",
       "      <td>5</td>\n",
       "      <td>revent 80 cfm</td>\n",
       "      <td>0</td>\n",
       "      <td>B076Q7V5WX</td>\n",
       "      <td>us</td>\n",
       "      <td>E</td>\n",
       "      <td>0</td>\n",
       "      <td>1</td>\n",
       "      <td>train</td>\n",
       "      <td>Panasonic FV-0511VQ1 WhisperCeiling DC Ventila...</td>\n",
       "      <td>None</td>\n",
       "      <td>Installation: Features a 4-inch or 6-inch duct...</td>\n",
       "      <td>Panasonic</td>\n",
       "      <td>White</td>\n",
       "      <td>other</td>\n",
       "    </tr>\n",
       "    <tr>\n",
       "      <th>...</th>\n",
       "      <td>...</td>\n",
       "      <td>...</td>\n",
       "      <td>...</td>\n",
       "      <td>...</td>\n",
       "      <td>...</td>\n",
       "      <td>...</td>\n",
       "      <td>...</td>\n",
       "      <td>...</td>\n",
       "      <td>...</td>\n",
       "      <td>...</td>\n",
       "      <td>...</td>\n",
       "      <td>...</td>\n",
       "      <td>...</td>\n",
       "      <td>...</td>\n",
       "      <td>...</td>\n",
       "    </tr>\n",
       "    <tr>\n",
       "      <th>2618563</th>\n",
       "      <td>2618563</td>\n",
       "      <td>자전거트레일러</td>\n",
       "      <td>130539</td>\n",
       "      <td>B07ZFJJZLF</td>\n",
       "      <td>us</td>\n",
       "      <td>E</td>\n",
       "      <td>1</td>\n",
       "      <td>1</td>\n",
       "      <td>train</td>\n",
       "      <td>LivTee 5 pcs Auto Trim Removal Tool Kit, Inter...</td>\n",
       "      <td>5 pcs Auto Trim Removal Tool Kit, Interior Doo...</td>\n",
       "      <td>Made of super durable plastic material for lon...</td>\n",
       "      <td>LivTee</td>\n",
       "      <td>Blue</td>\n",
       "      <td>other</td>\n",
       "    </tr>\n",
       "    <tr>\n",
       "      <th>2618564</th>\n",
       "      <td>2618564</td>\n",
       "      <td>자전거트레일러</td>\n",
       "      <td>130539</td>\n",
       "      <td>B07G5VLMN1</td>\n",
       "      <td>us</td>\n",
       "      <td>E</td>\n",
       "      <td>1</td>\n",
       "      <td>1</td>\n",
       "      <td>train</td>\n",
       "      <td>MAXXHAUL 50025 Hitch Mounted 2-Bike Rack-100 l...</td>\n",
       "      <td>None</td>\n",
       "      <td>Improved durable hitch adapter to fit standard...</td>\n",
       "      <td>MAXXHAUL</td>\n",
       "      <td>None</td>\n",
       "      <td>other</td>\n",
       "    </tr>\n",
       "    <tr>\n",
       "      <th>2618566</th>\n",
       "      <td>2618566</td>\n",
       "      <td>자전거트레일러</td>\n",
       "      <td>130539</td>\n",
       "      <td>B010LLGWL8</td>\n",
       "      <td>us</td>\n",
       "      <td>E</td>\n",
       "      <td>1</td>\n",
       "      <td>1</td>\n",
       "      <td>train</td>\n",
       "      <td>Burley Honey Bee, 2 Seat Kids Bike Trailer &amp; S...</td>\n",
       "      <td>None</td>\n",
       "      <td>Sport Type: Cycling</td>\n",
       "      <td>Burley Design</td>\n",
       "      <td>Red</td>\n",
       "      <td>other</td>\n",
       "    </tr>\n",
       "    <tr>\n",
       "      <th>2618567</th>\n",
       "      <td>2618567</td>\n",
       "      <td>자전거트레일러</td>\n",
       "      <td>130539</td>\n",
       "      <td>B010LLGWKE</td>\n",
       "      <td>us</td>\n",
       "      <td>E</td>\n",
       "      <td>1</td>\n",
       "      <td>1</td>\n",
       "      <td>train</td>\n",
       "      <td>BURLEY Design Bee, 2 Seat, Lightweight, Kids B...</td>\n",
       "      <td>None</td>\n",
       "      <td>sport type: Cycling</td>\n",
       "      <td>Burley Design</td>\n",
       "      <td>Yellow</td>\n",
       "      <td>other</td>\n",
       "    </tr>\n",
       "    <tr>\n",
       "      <th>2618569</th>\n",
       "      <td>2618569</td>\n",
       "      <td>자전거트레일러</td>\n",
       "      <td>130539</td>\n",
       "      <td>B002KV1MJU</td>\n",
       "      <td>us</td>\n",
       "      <td>E</td>\n",
       "      <td>1</td>\n",
       "      <td>1</td>\n",
       "      <td>train</td>\n",
       "      <td>Marcy Recumbent Exercise Bike with Resistance ...</td>\n",
       "      <td>None</td>\n",
       "      <td>STEP-THROUGH DESIGN – Featuring heavy-duty con...</td>\n",
       "      <td>Marcy</td>\n",
       "      <td>Black/Gray/Copper</td>\n",
       "      <td>other</td>\n",
       "    </tr>\n",
       "  </tbody>\n",
       "</table>\n",
       "<p>1247558 rows × 15 columns</p>\n",
       "</div>"
      ],
      "text/plain": [
       "         example_id           query  query_id  product_id product_locale   \n",
       "1                 1   revent 80 cfm         0  B07X3Y6B1V             us  \\\n",
       "2                 2   revent 80 cfm         0  B07WDM7MQQ             us   \n",
       "3                 3   revent 80 cfm         0  B07RH6Z8KW             us   \n",
       "4                 4   revent 80 cfm         0  B07QJ7WYFQ             us   \n",
       "5                 5   revent 80 cfm         0  B076Q7V5WX             us   \n",
       "...             ...             ...       ...         ...            ...   \n",
       "2618563     2618563         자전거트레일러    130539  B07ZFJJZLF             us   \n",
       "2618564     2618564         자전거트레일러    130539  B07G5VLMN1             us   \n",
       "2618566     2618566         자전거트레일러    130539  B010LLGWL8             us   \n",
       "2618567     2618567         자전거트레일러    130539  B010LLGWKE             us   \n",
       "2618569     2618569         자전거트레일러    130539  B002KV1MJU             us   \n",
       "\n",
       "        esci_label  small_version  large_version  split   \n",
       "1                E              0              1  train  \\\n",
       "2                E              0              1  train   \n",
       "3                E              0              1  train   \n",
       "4                E              0              1  train   \n",
       "5                E              0              1  train   \n",
       "...            ...            ...            ...    ...   \n",
       "2618563          E              1              1  train   \n",
       "2618564          E              1              1  train   \n",
       "2618566          E              1              1  train   \n",
       "2618567          E              1              1  train   \n",
       "2618569          E              1              1  train   \n",
       "\n",
       "                                             product_title   \n",
       "1        Homewerks 7141-80 Bathroom Fan Integrated LED ...  \\\n",
       "2        Homewerks 7140-80 Bathroom Fan Ceiling Mount E...   \n",
       "3        Delta Electronics RAD80L BreezRadiance 80 CFM ...   \n",
       "4        Panasonic FV-08VRE2 Ventilation Fan with Reces...   \n",
       "5        Panasonic FV-0511VQ1 WhisperCeiling DC Ventila...   \n",
       "...                                                    ...   \n",
       "2618563  LivTee 5 pcs Auto Trim Removal Tool Kit, Inter...   \n",
       "2618564  MAXXHAUL 50025 Hitch Mounted 2-Bike Rack-100 l...   \n",
       "2618566  Burley Honey Bee, 2 Seat Kids Bike Trailer & S...   \n",
       "2618567  BURLEY Design Bee, 2 Seat, Lightweight, Kids B...   \n",
       "2618569  Marcy Recumbent Exercise Bike with Resistance ...   \n",
       "\n",
       "                                       product_description   \n",
       "1                                                     None  \\\n",
       "2                                                     None   \n",
       "3        This pre-owned or refurbished product has been...   \n",
       "4                                                     None   \n",
       "5                                                     None   \n",
       "...                                                    ...   \n",
       "2618563  5 pcs Auto Trim Removal Tool Kit, Interior Doo...   \n",
       "2618564                                               None   \n",
       "2618566                                               None   \n",
       "2618567                                               None   \n",
       "2618569                                               None   \n",
       "\n",
       "                                      product_bullet_point   \n",
       "1        OUTSTANDING PERFORMANCE: This Homewerk's bath ...  \\\n",
       "2        OUTSTANDING PERFORMANCE: This Homewerk's bath ...   \n",
       "3        Quiet operation at 1.5 sones\\nBuilt-in thermos...   \n",
       "4        The design solution for Fan/light combinations...   \n",
       "5        Installation: Features a 4-inch or 6-inch duct...   \n",
       "...                                                    ...   \n",
       "2618563  Made of super durable plastic material for lon...   \n",
       "2618564  Improved durable hitch adapter to fit standard...   \n",
       "2618566                                Sport Type: Cycling   \n",
       "2618567                                sport type: Cycling   \n",
       "2618569  STEP-THROUGH DESIGN – Featuring heavy-duty con...   \n",
       "\n",
       "                             product_brand      product_color source  \n",
       "1                                Homewerks             80 CFM  other  \n",
       "2                                Homewerks              White  other  \n",
       "3        DELTA ELECTRONICS (AMERICAS) LTD.              White  other  \n",
       "4                                Panasonic              White  other  \n",
       "5                                Panasonic              White  other  \n",
       "...                                    ...                ...    ...  \n",
       "2618563                             LivTee               Blue  other  \n",
       "2618564                           MAXXHAUL               None  other  \n",
       "2618566                      Burley Design                Red  other  \n",
       "2618567                      Burley Design             Yellow  other  \n",
       "2618569                              Marcy  Black/Gray/Copper  other  \n",
       "\n",
       "[1247558 rows x 15 columns]"
      ]
     },
     "execution_count": 40,
     "metadata": {},
     "output_type": "execute_result"
    }
   ],
   "source": [
    "df_examples_products_source"
   ]
  },
  {
   "cell_type": "code",
   "execution_count": 41,
   "metadata": {},
   "outputs": [
    {
     "data": {
      "text/plain": [
       "(1247558, 15)"
      ]
     },
     "execution_count": 41,
     "metadata": {},
     "output_type": "execute_result"
    }
   ],
   "source": [
    "df_examples_products_source.shape"
   ]
  },
  {
   "cell_type": "code",
   "execution_count": 42,
   "metadata": {},
   "outputs": [
    {
     "data": {
      "application/vnd.jupyter.widget-view+json": {
       "model_id": "5028abffffa344d28c2061cbbe7e86ce",
       "version_major": 2,
       "version_minor": 0
      },
      "text/plain": [
       "Pandas Apply:   0%|          | 0/1247558 [00:00<?, ?it/s]"
      ]
     },
     "metadata": {},
     "output_type": "display_data"
    },
    {
     "name": "stderr",
     "output_type": "stream",
     "text": [
      "/var/folders/xk/bhmy4bbx4bx0zcb40qwkzw8w0000gp/T/ipykernel_28397/3356544802.py:10: SettingWithCopyWarning: \n",
      "A value is trying to be set on a copy of a slice from a DataFrame.\n",
      "Try using .loc[row_indexer,col_indexer] = value instead\n",
      "\n",
      "See the caveats in the documentation: https://pandas.pydata.org/pandas-docs/stable/user_guide/indexing.html#returning-a-view-versus-a-copy\n",
      "  df_examples_products_source['query'] = df_examples_products_source['query'].swifter.apply(detect_language)\n"
     ]
    }
   ],
   "source": [
    "#dropping all queries not in english\n",
    "import langid\n",
    "# Function to detect language using langid\n",
    "def detect_language(text):\n",
    "    lang, _ = langid.classify(text)\n",
    "    return lang == 'en'\n",
    "\n",
    "import swifter\n",
    "\n",
    "df_examples_products_source['query'] = df_examples_products_source['query'].swifter.apply(detect_language)"
   ]
  },
  {
   "cell_type": "code",
   "execution_count": 44,
   "metadata": {},
   "outputs": [],
   "source": [
    "df_examples_products_source.to_csv('examples_products_source_dataframe.csv', index=False)\n",
    "#all english sources"
   ]
  },
  {
   "cell_type": "code",
   "execution_count": 10,
   "metadata": {},
   "outputs": [],
   "source": [
    "import pandas as pd\n",
    "df_examples_products_source = pd.read_csv('examples_products_source_dataframe.csv')"
   ]
  },
  {
   "cell_type": "code",
   "execution_count": 14,
   "metadata": {},
   "outputs": [
    {
     "data": {
      "text/html": [
       "<div>\n",
       "<style scoped>\n",
       "    .dataframe tbody tr th:only-of-type {\n",
       "        vertical-align: middle;\n",
       "    }\n",
       "\n",
       "    .dataframe tbody tr th {\n",
       "        vertical-align: top;\n",
       "    }\n",
       "\n",
       "    .dataframe thead th {\n",
       "        text-align: right;\n",
       "    }\n",
       "</style>\n",
       "<table border=\"1\" class=\"dataframe\">\n",
       "  <thead>\n",
       "    <tr style=\"text-align: right;\">\n",
       "      <th></th>\n",
       "      <th>example_id</th>\n",
       "      <th>query</th>\n",
       "      <th>query_id</th>\n",
       "      <th>product_id</th>\n",
       "      <th>product_locale</th>\n",
       "      <th>esci_label</th>\n",
       "      <th>small_version</th>\n",
       "      <th>large_version</th>\n",
       "      <th>split</th>\n",
       "      <th>product_title</th>\n",
       "      <th>product_description</th>\n",
       "      <th>product_bullet_point</th>\n",
       "      <th>product_brand</th>\n",
       "      <th>product_color</th>\n",
       "      <th>source</th>\n",
       "    </tr>\n",
       "  </thead>\n",
       "  <tbody>\n",
       "    <tr>\n",
       "      <th>0</th>\n",
       "      <td>1</td>\n",
       "      <td>True</td>\n",
       "      <td>0</td>\n",
       "      <td>B07X3Y6B1V</td>\n",
       "      <td>us</td>\n",
       "      <td>E</td>\n",
       "      <td>0</td>\n",
       "      <td>1</td>\n",
       "      <td>train</td>\n",
       "      <td>Homewerks 7141-80 Bathroom Fan Integrated LED ...</td>\n",
       "      <td>NaN</td>\n",
       "      <td>OUTSTANDING PERFORMANCE: This Homewerk's bath ...</td>\n",
       "      <td>Homewerks</td>\n",
       "      <td>80 CFM</td>\n",
       "      <td>other</td>\n",
       "    </tr>\n",
       "    <tr>\n",
       "      <th>1</th>\n",
       "      <td>2</td>\n",
       "      <td>True</td>\n",
       "      <td>0</td>\n",
       "      <td>B07WDM7MQQ</td>\n",
       "      <td>us</td>\n",
       "      <td>E</td>\n",
       "      <td>0</td>\n",
       "      <td>1</td>\n",
       "      <td>train</td>\n",
       "      <td>Homewerks 7140-80 Bathroom Fan Ceiling Mount E...</td>\n",
       "      <td>NaN</td>\n",
       "      <td>OUTSTANDING PERFORMANCE: This Homewerk's bath ...</td>\n",
       "      <td>Homewerks</td>\n",
       "      <td>White</td>\n",
       "      <td>other</td>\n",
       "    </tr>\n",
       "  </tbody>\n",
       "</table>\n",
       "</div>"
      ],
      "text/plain": [
       "   example_id  query  query_id  product_id product_locale esci_label   \n",
       "0           1   True         0  B07X3Y6B1V             us          E  \\\n",
       "1           2   True         0  B07WDM7MQQ             us          E   \n",
       "\n",
       "   small_version  large_version  split   \n",
       "0              0              1  train  \\\n",
       "1              0              1  train   \n",
       "\n",
       "                                       product_title product_description   \n",
       "0  Homewerks 7141-80 Bathroom Fan Integrated LED ...                 NaN  \\\n",
       "1  Homewerks 7140-80 Bathroom Fan Ceiling Mount E...                 NaN   \n",
       "\n",
       "                                product_bullet_point product_brand   \n",
       "0  OUTSTANDING PERFORMANCE: This Homewerk's bath ...     Homewerks  \\\n",
       "1  OUTSTANDING PERFORMANCE: This Homewerk's bath ...     Homewerks   \n",
       "\n",
       "  product_color source  \n",
       "0        80 CFM  other  \n",
       "1         White  other  "
      ]
     },
     "execution_count": 14,
     "metadata": {},
     "output_type": "execute_result"
    }
   ],
   "source": [
    "df_examples_products_source.head(2)\n",
    "#1247558 rows × 15 columns"
   ]
  },
  {
   "cell_type": "code",
   "execution_count": 15,
   "metadata": {},
   "outputs": [],
   "source": [
    "df_examples_products_source['product_detail'] = (\n",
    "    df_examples_products_source['product_title'].fillna('') +\n",
    "    \" \" +\n",
    "    df_examples_products_source['product_description'].fillna('')\n",
    ")\n"
   ]
  },
  {
   "cell_type": "code",
   "execution_count": 19,
   "metadata": {},
   "outputs": [
    {
     "ename": "KeyError",
     "evalue": "\"['product_title'] not found in axis\"",
     "output_type": "error",
     "traceback": [
      "\u001b[0;31m---------------------------------------------------------------------------\u001b[0m",
      "\u001b[0;31mKeyError\u001b[0m                                  Traceback (most recent call last)",
      "\u001b[1;32m/Users/zeerakzubair/Documents/University/7th Semester/Deep Learning/Assignments/i201770_DL_Assignment3/task2/task2.ipynb Cell 18\u001b[0m line \u001b[0;36m1\n\u001b[0;32m----> <a href='vscode-notebook-cell:/Users/zeerakzubair/Documents/University/7th%20Semester/Deep%20Learning/Assignments/i201770_DL_Assignment3/task2/task2.ipynb#X30sZmlsZQ%3D%3D?line=0'>1</a>\u001b[0m df_examples_products_source\u001b[39m.\u001b[39;49mdrop(\u001b[39m'\u001b[39;49m\u001b[39mproduct_title\u001b[39;49m\u001b[39m'\u001b[39;49m, axis\u001b[39m=\u001b[39;49m\u001b[39m1\u001b[39;49m, inplace\u001b[39m=\u001b[39;49m\u001b[39mTrue\u001b[39;49;00m)\n\u001b[1;32m      <a href='vscode-notebook-cell:/Users/zeerakzubair/Documents/University/7th%20Semester/Deep%20Learning/Assignments/i201770_DL_Assignment3/task2/task2.ipynb#X30sZmlsZQ%3D%3D?line=1'>2</a>\u001b[0m df_examples_products_source\u001b[39m.\u001b[39mdrop(\u001b[39m'\u001b[39m\u001b[39mproduct_description\u001b[39m\u001b[39m'\u001b[39m, axis\u001b[39m=\u001b[39m\u001b[39m1\u001b[39m, inplace\u001b[39m=\u001b[39m\u001b[39mTrue\u001b[39;00m)\n",
      "File \u001b[0;32m/usr/local/lib/python3.11/site-packages/pandas/core/frame.py:5266\u001b[0m, in \u001b[0;36mDataFrame.drop\u001b[0;34m(self, labels, axis, index, columns, level, inplace, errors)\u001b[0m\n\u001b[1;32m   5118\u001b[0m \u001b[39mdef\u001b[39;00m \u001b[39mdrop\u001b[39m(\n\u001b[1;32m   5119\u001b[0m     \u001b[39mself\u001b[39m,\n\u001b[1;32m   5120\u001b[0m     labels: IndexLabel \u001b[39m=\u001b[39m \u001b[39mNone\u001b[39;00m,\n\u001b[0;32m   (...)\u001b[0m\n\u001b[1;32m   5127\u001b[0m     errors: IgnoreRaise \u001b[39m=\u001b[39m \u001b[39m\"\u001b[39m\u001b[39mraise\u001b[39m\u001b[39m\"\u001b[39m,\n\u001b[1;32m   5128\u001b[0m ) \u001b[39m-\u001b[39m\u001b[39m>\u001b[39m DataFrame \u001b[39m|\u001b[39m \u001b[39mNone\u001b[39;00m:\n\u001b[1;32m   5129\u001b[0m \u001b[39m    \u001b[39m\u001b[39m\"\"\"\u001b[39;00m\n\u001b[1;32m   5130\u001b[0m \u001b[39m    Drop specified labels from rows or columns.\u001b[39;00m\n\u001b[1;32m   5131\u001b[0m \n\u001b[0;32m   (...)\u001b[0m\n\u001b[1;32m   5264\u001b[0m \u001b[39m            weight  1.0     0.8\u001b[39;00m\n\u001b[1;32m   5265\u001b[0m \u001b[39m    \"\"\"\u001b[39;00m\n\u001b[0;32m-> 5266\u001b[0m     \u001b[39mreturn\u001b[39;00m \u001b[39msuper\u001b[39;49m()\u001b[39m.\u001b[39;49mdrop(\n\u001b[1;32m   5267\u001b[0m         labels\u001b[39m=\u001b[39;49mlabels,\n\u001b[1;32m   5268\u001b[0m         axis\u001b[39m=\u001b[39;49maxis,\n\u001b[1;32m   5269\u001b[0m         index\u001b[39m=\u001b[39;49mindex,\n\u001b[1;32m   5270\u001b[0m         columns\u001b[39m=\u001b[39;49mcolumns,\n\u001b[1;32m   5271\u001b[0m         level\u001b[39m=\u001b[39;49mlevel,\n\u001b[1;32m   5272\u001b[0m         inplace\u001b[39m=\u001b[39;49minplace,\n\u001b[1;32m   5273\u001b[0m         errors\u001b[39m=\u001b[39;49merrors,\n\u001b[1;32m   5274\u001b[0m     )\n",
      "File \u001b[0;32m/usr/local/lib/python3.11/site-packages/pandas/core/generic.py:4549\u001b[0m, in \u001b[0;36mNDFrame.drop\u001b[0;34m(self, labels, axis, index, columns, level, inplace, errors)\u001b[0m\n\u001b[1;32m   4547\u001b[0m \u001b[39mfor\u001b[39;00m axis, labels \u001b[39min\u001b[39;00m axes\u001b[39m.\u001b[39mitems():\n\u001b[1;32m   4548\u001b[0m     \u001b[39mif\u001b[39;00m labels \u001b[39mis\u001b[39;00m \u001b[39mnot\u001b[39;00m \u001b[39mNone\u001b[39;00m:\n\u001b[0;32m-> 4549\u001b[0m         obj \u001b[39m=\u001b[39m obj\u001b[39m.\u001b[39;49m_drop_axis(labels, axis, level\u001b[39m=\u001b[39;49mlevel, errors\u001b[39m=\u001b[39;49merrors)\n\u001b[1;32m   4551\u001b[0m \u001b[39mif\u001b[39;00m inplace:\n\u001b[1;32m   4552\u001b[0m     \u001b[39mself\u001b[39m\u001b[39m.\u001b[39m_update_inplace(obj)\n",
      "File \u001b[0;32m/usr/local/lib/python3.11/site-packages/pandas/core/generic.py:4591\u001b[0m, in \u001b[0;36mNDFrame._drop_axis\u001b[0;34m(self, labels, axis, level, errors, only_slice)\u001b[0m\n\u001b[1;32m   4589\u001b[0m         new_axis \u001b[39m=\u001b[39m axis\u001b[39m.\u001b[39mdrop(labels, level\u001b[39m=\u001b[39mlevel, errors\u001b[39m=\u001b[39merrors)\n\u001b[1;32m   4590\u001b[0m     \u001b[39melse\u001b[39;00m:\n\u001b[0;32m-> 4591\u001b[0m         new_axis \u001b[39m=\u001b[39m axis\u001b[39m.\u001b[39;49mdrop(labels, errors\u001b[39m=\u001b[39;49merrors)\n\u001b[1;32m   4592\u001b[0m     indexer \u001b[39m=\u001b[39m axis\u001b[39m.\u001b[39mget_indexer(new_axis)\n\u001b[1;32m   4594\u001b[0m \u001b[39m# Case for non-unique axis\u001b[39;00m\n\u001b[1;32m   4595\u001b[0m \u001b[39melse\u001b[39;00m:\n",
      "File \u001b[0;32m/usr/local/lib/python3.11/site-packages/pandas/core/indexes/base.py:6696\u001b[0m, in \u001b[0;36mIndex.drop\u001b[0;34m(self, labels, errors)\u001b[0m\n\u001b[1;32m   6694\u001b[0m \u001b[39mif\u001b[39;00m mask\u001b[39m.\u001b[39many():\n\u001b[1;32m   6695\u001b[0m     \u001b[39mif\u001b[39;00m errors \u001b[39m!=\u001b[39m \u001b[39m\"\u001b[39m\u001b[39mignore\u001b[39m\u001b[39m\"\u001b[39m:\n\u001b[0;32m-> 6696\u001b[0m         \u001b[39mraise\u001b[39;00m \u001b[39mKeyError\u001b[39;00m(\u001b[39mf\u001b[39m\u001b[39m\"\u001b[39m\u001b[39m{\u001b[39;00m\u001b[39mlist\u001b[39m(labels[mask])\u001b[39m}\u001b[39;00m\u001b[39m not found in axis\u001b[39m\u001b[39m\"\u001b[39m)\n\u001b[1;32m   6697\u001b[0m     indexer \u001b[39m=\u001b[39m indexer[\u001b[39m~\u001b[39mmask]\n\u001b[1;32m   6698\u001b[0m \u001b[39mreturn\u001b[39;00m \u001b[39mself\u001b[39m\u001b[39m.\u001b[39mdelete(indexer)\n",
      "\u001b[0;31mKeyError\u001b[0m: \"['product_title'] not found in axis\""
     ]
    }
   ],
   "source": [
    "df_examples_products_source.drop('product_title', axis=1, inplace=True)"
   ]
  },
  {
   "cell_type": "code",
   "execution_count": 20,
   "metadata": {},
   "outputs": [],
   "source": [
    "df_examples_products_source.drop('product_description', axis=1, inplace=True)"
   ]
  },
  {
   "cell_type": "code",
   "execution_count": 21,
   "metadata": {},
   "outputs": [
    {
     "data": {
      "text/html": [
       "<div>\n",
       "<style scoped>\n",
       "    .dataframe tbody tr th:only-of-type {\n",
       "        vertical-align: middle;\n",
       "    }\n",
       "\n",
       "    .dataframe tbody tr th {\n",
       "        vertical-align: top;\n",
       "    }\n",
       "\n",
       "    .dataframe thead th {\n",
       "        text-align: right;\n",
       "    }\n",
       "</style>\n",
       "<table border=\"1\" class=\"dataframe\">\n",
       "  <thead>\n",
       "    <tr style=\"text-align: right;\">\n",
       "      <th></th>\n",
       "      <th>example_id</th>\n",
       "      <th>query</th>\n",
       "      <th>query_id</th>\n",
       "      <th>product_id</th>\n",
       "      <th>product_locale</th>\n",
       "      <th>esci_label</th>\n",
       "      <th>small_version</th>\n",
       "      <th>large_version</th>\n",
       "      <th>split</th>\n",
       "      <th>product_bullet_point</th>\n",
       "      <th>product_brand</th>\n",
       "      <th>product_color</th>\n",
       "      <th>source</th>\n",
       "      <th>product_detail</th>\n",
       "    </tr>\n",
       "  </thead>\n",
       "  <tbody>\n",
       "    <tr>\n",
       "      <th>0</th>\n",
       "      <td>1</td>\n",
       "      <td>True</td>\n",
       "      <td>0</td>\n",
       "      <td>B07X3Y6B1V</td>\n",
       "      <td>us</td>\n",
       "      <td>E</td>\n",
       "      <td>0</td>\n",
       "      <td>1</td>\n",
       "      <td>train</td>\n",
       "      <td>OUTSTANDING PERFORMANCE: This Homewerk's bath ...</td>\n",
       "      <td>Homewerks</td>\n",
       "      <td>80 CFM</td>\n",
       "      <td>other</td>\n",
       "      <td>Homewerks 7141-80 Bathroom Fan Integrated LED ...</td>\n",
       "    </tr>\n",
       "  </tbody>\n",
       "</table>\n",
       "</div>"
      ],
      "text/plain": [
       "   example_id  query  query_id  product_id product_locale esci_label   \n",
       "0           1   True         0  B07X3Y6B1V             us          E  \\\n",
       "\n",
       "   small_version  large_version  split   \n",
       "0              0              1  train  \\\n",
       "\n",
       "                                product_bullet_point product_brand   \n",
       "0  OUTSTANDING PERFORMANCE: This Homewerk's bath ...     Homewerks  \\\n",
       "\n",
       "  product_color source                                     product_detail  \n",
       "0        80 CFM  other  Homewerks 7141-80 Bathroom Fan Integrated LED ...  "
      ]
     },
     "execution_count": 21,
     "metadata": {},
     "output_type": "execute_result"
    }
   ],
   "source": [
    "df_examples_products_source.head(1)"
   ]
  },
  {
   "cell_type": "code",
   "execution_count": 22,
   "metadata": {},
   "outputs": [],
   "source": [
    "# Specify the columns to drop\n",
    "\n",
    "# example_id\tquery\tquery_id\tproduct_id\tproduct_locale\tesci_label\tsmall_version\tlarge_version\tsplit\tproduct_title\tproduct_description\tproduct_bullet_point\tproduct_brand\tproduct_color\tsource\tproduct_details\n",
    "columns_to_drop = ['product_locale', 'esci_label', 'small_version', 'large_version', 'split', 'product_bullet_point', 'product_brand', 'product_color']\n",
    "\n",
    "# Drop the specified columns\n",
    "df_examples_products_source = df_examples_products_source.drop(columns=columns_to_drop)"
   ]
  },
  {
   "cell_type": "code",
   "execution_count": 26,
   "metadata": {},
   "outputs": [
    {
     "data": {
      "text/html": [
       "<div>\n",
       "<style scoped>\n",
       "    .dataframe tbody tr th:only-of-type {\n",
       "        vertical-align: middle;\n",
       "    }\n",
       "\n",
       "    .dataframe tbody tr th {\n",
       "        vertical-align: top;\n",
       "    }\n",
       "\n",
       "    .dataframe thead th {\n",
       "        text-align: right;\n",
       "    }\n",
       "</style>\n",
       "<table border=\"1\" class=\"dataframe\">\n",
       "  <thead>\n",
       "    <tr style=\"text-align: right;\">\n",
       "      <th></th>\n",
       "      <th>example_id</th>\n",
       "      <th>query</th>\n",
       "      <th>query_id</th>\n",
       "      <th>product_id</th>\n",
       "      <th>source</th>\n",
       "      <th>product_detail</th>\n",
       "    </tr>\n",
       "  </thead>\n",
       "  <tbody>\n",
       "    <tr>\n",
       "      <th>0</th>\n",
       "      <td>1</td>\n",
       "      <td>True</td>\n",
       "      <td>0</td>\n",
       "      <td>B07X3Y6B1V</td>\n",
       "      <td>other</td>\n",
       "      <td>Homewerks 7141-80 Bathroom Fan Integrated LED ...</td>\n",
       "    </tr>\n",
       "    <tr>\n",
       "      <th>1</th>\n",
       "      <td>2</td>\n",
       "      <td>True</td>\n",
       "      <td>0</td>\n",
       "      <td>B07WDM7MQQ</td>\n",
       "      <td>other</td>\n",
       "      <td>Homewerks 7140-80 Bathroom Fan Ceiling Mount E...</td>\n",
       "    </tr>\n",
       "  </tbody>\n",
       "</table>\n",
       "</div>"
      ],
      "text/plain": [
       "   example_id  query  query_id  product_id source   \n",
       "0           1   True         0  B07X3Y6B1V  other  \\\n",
       "1           2   True         0  B07WDM7MQQ  other   \n",
       "\n",
       "                                      product_detail  \n",
       "0  Homewerks 7141-80 Bathroom Fan Integrated LED ...  \n",
       "1  Homewerks 7140-80 Bathroom Fan Ceiling Mount E...  "
      ]
     },
     "execution_count": 26,
     "metadata": {},
     "output_type": "execute_result"
    }
   ],
   "source": [
    "df_examples_products_source.head(2)"
   ]
  },
  {
   "cell_type": "code",
   "execution_count": 28,
   "metadata": {},
   "outputs": [
    {
     "name": "stderr",
     "output_type": "stream",
     "text": [
      "[nltk_data] Downloading package punkt to\n",
      "[nltk_data]     /Users/zeerakzubair/nltk_data...\n",
      "[nltk_data]   Package punkt is already up-to-date!\n",
      "[nltk_data] Downloading package stopwords to\n",
      "[nltk_data]     /Users/zeerakzubair/nltk_data...\n",
      "[nltk_data]   Package stopwords is already up-to-date!\n",
      "[nltk_data] Downloading package wordnet to\n",
      "[nltk_data]     /Users/zeerakzubair/nltk_data...\n",
      "[nltk_data]   Package wordnet is already up-to-date!\n"
     ]
    }
   ],
   "source": [
    "import pandas as pd\n",
    "import nltk\n",
    "from nltk.corpus import stopwords\n",
    "from nltk.stem import WordNetLemmatizer\n",
    "from nltk.tokenize import word_tokenize\n",
    "import re\n",
    "\n",
    "# Download NLTK resources if not already downloaded\n",
    "nltk.download('punkt')\n",
    "nltk.download('stopwords')\n",
    "nltk.download('wordnet')\n",
    "\n",
    "def text_preprocessing(text):\n",
    "    # Convert to lowercase\n",
    "    text = text.lower()\n",
    "\n",
    "    # Remove special characters, numbers, and punctuation\n",
    "    text = re.sub(r'[^a-z\\s]', '', text)\n",
    "\n",
    "    # Tokenize the text\n",
    "    words = word_tokenize(text)\n",
    "\n",
    "    # Remove stopwords\n",
    "    stop_words = set(stopwords.words('english'))\n",
    "    words = [word for word in words if word not in stop_words]\n",
    "\n",
    "    # Lemmatization\n",
    "    lemmatizer = WordNetLemmatizer()\n",
    "    words = [lemmatizer.lemmatize(word) for word in words]\n",
    "\n",
    "    # Join the words back into a string\n",
    "    preprocessed_text = ' '.join(words)\n",
    "\n",
    "    return preprocessed_text\n",
    "\n"
   ]
  },
  {
   "cell_type": "code",
   "execution_count": 29,
   "metadata": {},
   "outputs": [],
   "source": [
    "# applying preprocessing on query and product detail\n",
    "\n",
    "df_examples_products_source['product_detail'] = df_examples_products_source['product_detail'].apply(text_preprocessing)\n"
   ]
  },
  {
   "cell_type": "code",
   "execution_count": 1,
   "metadata": {},
   "outputs": [
    {
     "ename": "NameError",
     "evalue": "name 'df_examples_products_source' is not defined",
     "output_type": "error",
     "traceback": [
      "\u001b[0;31m---------------------------------------------------------------------------\u001b[0m",
      "\u001b[0;31mNameError\u001b[0m                                 Traceback (most recent call last)",
      "\u001b[1;32m/Users/zeerakzubair/Documents/University/7th Semester/Deep Learning/Assignments/i201770_DL_Assignment3/task2/task2.ipynb Cell 25\u001b[0m line \u001b[0;36m1\n\u001b[0;32m----> <a href='vscode-notebook-cell:/Users/zeerakzubair/Documents/University/7th%20Semester/Deep%20Learning/Assignments/i201770_DL_Assignment3/task2/task2.ipynb#X33sZmlsZQ%3D%3D?line=0'>1</a>\u001b[0m df_examples_products_source\u001b[39m.\u001b[39mto_csv(\u001b[39m'\u001b[39m\u001b[39mpreprocessed_data.csv\u001b[39m\u001b[39m'\u001b[39m, index\u001b[39m=\u001b[39m\u001b[39mFalse\u001b[39;00m)\n",
      "\u001b[0;31mNameError\u001b[0m: name 'df_examples_products_source' is not defined"
     ]
    }
   ],
   "source": [
    "df_examples_products_source.to_csv('preprocessed_data.csv', index=False)"
   ]
  },
  {
   "cell_type": "code",
   "execution_count": 4,
   "metadata": {},
   "outputs": [],
   "source": [
    "import pandas as pd\n",
    "df_examples_products_source = pd.read_csv('preprocessed_data.csv')"
   ]
  },
  {
   "cell_type": "code",
   "execution_count": 5,
   "metadata": {},
   "outputs": [],
   "source": [
    "df_examples = pd.read_parquet('./datasets/shopping_queries_dataset_examples.parquet')\n"
   ]
  },
  {
   "cell_type": "code",
   "execution_count": 6,
   "metadata": {},
   "outputs": [
    {
     "data": {
      "text/plain": [
       "(2621288, 9)"
      ]
     },
     "execution_count": 6,
     "metadata": {},
     "output_type": "execute_result"
    }
   ],
   "source": [
    "df_examples.shape"
   ]
  },
  {
   "cell_type": "code",
   "execution_count": 7,
   "metadata": {},
   "outputs": [
    {
     "data": {
      "text/html": [
       "<div>\n",
       "<style scoped>\n",
       "    .dataframe tbody tr th:only-of-type {\n",
       "        vertical-align: middle;\n",
       "    }\n",
       "\n",
       "    .dataframe tbody tr th {\n",
       "        vertical-align: top;\n",
       "    }\n",
       "\n",
       "    .dataframe thead th {\n",
       "        text-align: right;\n",
       "    }\n",
       "</style>\n",
       "<table border=\"1\" class=\"dataframe\">\n",
       "  <thead>\n",
       "    <tr style=\"text-align: right;\">\n",
       "      <th></th>\n",
       "      <th>example_id</th>\n",
       "      <th>query</th>\n",
       "      <th>query_id</th>\n",
       "      <th>product_id</th>\n",
       "      <th>product_locale</th>\n",
       "      <th>esci_label</th>\n",
       "      <th>small_version</th>\n",
       "      <th>large_version</th>\n",
       "      <th>split</th>\n",
       "    </tr>\n",
       "  </thead>\n",
       "  <tbody>\n",
       "    <tr>\n",
       "      <th>0</th>\n",
       "      <td>0</td>\n",
       "      <td>revent 80 cfm</td>\n",
       "      <td>0</td>\n",
       "      <td>B000MOO21W</td>\n",
       "      <td>us</td>\n",
       "      <td>I</td>\n",
       "      <td>0</td>\n",
       "      <td>1</td>\n",
       "      <td>train</td>\n",
       "    </tr>\n",
       "    <tr>\n",
       "      <th>1</th>\n",
       "      <td>1</td>\n",
       "      <td>revent 80 cfm</td>\n",
       "      <td>0</td>\n",
       "      <td>B07X3Y6B1V</td>\n",
       "      <td>us</td>\n",
       "      <td>E</td>\n",
       "      <td>0</td>\n",
       "      <td>1</td>\n",
       "      <td>train</td>\n",
       "    </tr>\n",
       "  </tbody>\n",
       "</table>\n",
       "</div>"
      ],
      "text/plain": [
       "   example_id           query  query_id  product_id product_locale esci_label   \n",
       "0           0   revent 80 cfm         0  B000MOO21W             us          I  \\\n",
       "1           1   revent 80 cfm         0  B07X3Y6B1V             us          E   \n",
       "\n",
       "   small_version  large_version  split  \n",
       "0              0              1  train  \n",
       "1              0              1  train  "
      ]
     },
     "execution_count": 7,
     "metadata": {},
     "output_type": "execute_result"
    }
   ],
   "source": [
    "df_examples.head(2)"
   ]
  },
  {
   "cell_type": "code",
   "execution_count": 8,
   "metadata": {},
   "outputs": [],
   "source": [
    "df_examples = df_examples[df_examples['product_locale'] == 'us']"
   ]
  },
  {
   "cell_type": "code",
   "execution_count": 9,
   "metadata": {},
   "outputs": [
    {
     "data": {
      "text/plain": [
       "(1818825, 9)"
      ]
     },
     "execution_count": 9,
     "metadata": {},
     "output_type": "execute_result"
    }
   ],
   "source": [
    "df_examples.shape"
   ]
  },
  {
   "cell_type": "code",
   "execution_count": 10,
   "metadata": {},
   "outputs": [],
   "source": [
    "df_examples = df_examples[df_examples['esci_label'] == 'E']"
   ]
  },
  {
   "cell_type": "code",
   "execution_count": 11,
   "metadata": {},
   "outputs": [
    {
     "data": {
      "text/plain": [
       "(1247558, 9)"
      ]
     },
     "execution_count": 11,
     "metadata": {},
     "output_type": "execute_result"
    }
   ],
   "source": [
    "df_examples.shape"
   ]
  },
  {
   "cell_type": "code",
   "execution_count": null,
   "metadata": {},
   "outputs": [],
   "source": [
    "# view the result of this representation"
   ]
  },
  {
   "cell_type": "code",
   "execution_count": 12,
   "metadata": {},
   "outputs": [
    {
     "data": {
      "text/plain": [
       "(1247558, 6)"
      ]
     },
     "execution_count": 12,
     "metadata": {},
     "output_type": "execute_result"
    }
   ],
   "source": [
    "df_examples_products_source.shape"
   ]
  },
  {
   "cell_type": "code",
   "execution_count": 13,
   "metadata": {},
   "outputs": [],
   "source": [
    "df_examples_products_source['query'] = df_examples['query']"
   ]
  },
  {
   "cell_type": "code",
   "execution_count": 14,
   "metadata": {},
   "outputs": [
    {
     "data": {
      "text/html": [
       "<div>\n",
       "<style scoped>\n",
       "    .dataframe tbody tr th:only-of-type {\n",
       "        vertical-align: middle;\n",
       "    }\n",
       "\n",
       "    .dataframe tbody tr th {\n",
       "        vertical-align: top;\n",
       "    }\n",
       "\n",
       "    .dataframe thead th {\n",
       "        text-align: right;\n",
       "    }\n",
       "</style>\n",
       "<table border=\"1\" class=\"dataframe\">\n",
       "  <thead>\n",
       "    <tr style=\"text-align: right;\">\n",
       "      <th></th>\n",
       "      <th>example_id</th>\n",
       "      <th>query</th>\n",
       "      <th>query_id</th>\n",
       "      <th>product_id</th>\n",
       "      <th>source</th>\n",
       "      <th>product_detail</th>\n",
       "    </tr>\n",
       "  </thead>\n",
       "  <tbody>\n",
       "    <tr>\n",
       "      <th>0</th>\n",
       "      <td>1</td>\n",
       "      <td>NaN</td>\n",
       "      <td>0</td>\n",
       "      <td>B07X3Y6B1V</td>\n",
       "      <td>other</td>\n",
       "      <td>homewerks bathroom fan integrated led light ce...</td>\n",
       "    </tr>\n",
       "    <tr>\n",
       "      <th>1</th>\n",
       "      <td>2</td>\n",
       "      <td>revent 80 cfm</td>\n",
       "      <td>0</td>\n",
       "      <td>B07WDM7MQQ</td>\n",
       "      <td>other</td>\n",
       "      <td>homewerks bathroom fan ceiling mount exhaust v...</td>\n",
       "    </tr>\n",
       "  </tbody>\n",
       "</table>\n",
       "</div>"
      ],
      "text/plain": [
       "   example_id           query  query_id  product_id source   \n",
       "0           1             NaN         0  B07X3Y6B1V  other  \\\n",
       "1           2   revent 80 cfm         0  B07WDM7MQQ  other   \n",
       "\n",
       "                                      product_detail  \n",
       "0  homewerks bathroom fan integrated led light ce...  \n",
       "1  homewerks bathroom fan ceiling mount exhaust v...  "
      ]
     },
     "execution_count": 14,
     "metadata": {},
     "output_type": "execute_result"
    }
   ],
   "source": [
    "df_examples_products_source.head(2)"
   ]
  },
  {
   "cell_type": "code",
   "execution_count": 15,
   "metadata": {},
   "outputs": [],
   "source": [
    "df_examples_products_source.to_csv('preprocessed_data.csv', index=False)"
   ]
  },
  {
   "cell_type": "code",
   "execution_count": 16,
   "metadata": {},
   "outputs": [],
   "source": [
    "df_examples_products_source['query'] = df_examples_products_source['query'].fillna('')  # Replace NaN with empty string\n"
   ]
  },
  {
   "cell_type": "code",
   "execution_count": null,
   "metadata": {},
   "outputs": [],
   "source": [
    "# -----------------------------------HERE DUMMY-----------------------------"
   ]
  },
  {
   "cell_type": "code",
   "execution_count": 1,
   "metadata": {},
   "outputs": [
    {
     "data": {
      "text/html": [
       "<div>\n",
       "<style scoped>\n",
       "    .dataframe tbody tr th:only-of-type {\n",
       "        vertical-align: middle;\n",
       "    }\n",
       "\n",
       "    .dataframe tbody tr th {\n",
       "        vertical-align: top;\n",
       "    }\n",
       "\n",
       "    .dataframe thead th {\n",
       "        text-align: right;\n",
       "    }\n",
       "</style>\n",
       "<table border=\"1\" class=\"dataframe\">\n",
       "  <thead>\n",
       "    <tr style=\"text-align: right;\">\n",
       "      <th></th>\n",
       "      <th>example_id</th>\n",
       "      <th>query</th>\n",
       "      <th>query_id</th>\n",
       "      <th>product_id</th>\n",
       "      <th>source</th>\n",
       "      <th>product_detail</th>\n",
       "    </tr>\n",
       "  </thead>\n",
       "  <tbody>\n",
       "    <tr>\n",
       "      <th>0</th>\n",
       "      <td>1</td>\n",
       "      <td>NaN</td>\n",
       "      <td>0</td>\n",
       "      <td>B07X3Y6B1V</td>\n",
       "      <td>other</td>\n",
       "      <td>homewerks bathroom fan integrated led light ce...</td>\n",
       "    </tr>\n",
       "    <tr>\n",
       "      <th>1</th>\n",
       "      <td>2</td>\n",
       "      <td>revent 80 cfm</td>\n",
       "      <td>0</td>\n",
       "      <td>B07WDM7MQQ</td>\n",
       "      <td>other</td>\n",
       "      <td>homewerks bathroom fan ceiling mount exhaust v...</td>\n",
       "    </tr>\n",
       "    <tr>\n",
       "      <th>2</th>\n",
       "      <td>3</td>\n",
       "      <td>revent 80 cfm</td>\n",
       "      <td>0</td>\n",
       "      <td>B07RH6Z8KW</td>\n",
       "      <td>other</td>\n",
       "      <td>delta electronics radl breezradiance cfm heate...</td>\n",
       "    </tr>\n",
       "    <tr>\n",
       "      <th>3</th>\n",
       "      <td>4</td>\n",
       "      <td>revent 80 cfm</td>\n",
       "      <td>0</td>\n",
       "      <td>B07QJ7WYFQ</td>\n",
       "      <td>other</td>\n",
       "      <td>panasonic fvvre ventilation fan recessed led r...</td>\n",
       "    </tr>\n",
       "    <tr>\n",
       "      <th>4</th>\n",
       "      <td>5</td>\n",
       "      <td>revent 80 cfm</td>\n",
       "      <td>0</td>\n",
       "      <td>B076Q7V5WX</td>\n",
       "      <td>other</td>\n",
       "      <td>panasonic fvvq whisperceiling dc ventilation f...</td>\n",
       "    </tr>\n",
       "    <tr>\n",
       "      <th>...</th>\n",
       "      <td>...</td>\n",
       "      <td>...</td>\n",
       "      <td>...</td>\n",
       "      <td>...</td>\n",
       "      <td>...</td>\n",
       "      <td>...</td>\n",
       "    </tr>\n",
       "    <tr>\n",
       "      <th>1247553</th>\n",
       "      <td>2618563</td>\n",
       "      <td>loftek</td>\n",
       "      <td>130539</td>\n",
       "      <td>B07ZFJJZLF</td>\n",
       "      <td>other</td>\n",
       "      <td>livtee pc auto trim removal tool kit interior ...</td>\n",
       "    </tr>\n",
       "    <tr>\n",
       "      <th>1247554</th>\n",
       "      <td>2618564</td>\n",
       "      <td>loftek</td>\n",
       "      <td>130539</td>\n",
       "      <td>B07G5VLMN1</td>\n",
       "      <td>other</td>\n",
       "      <td>maxxhaul hitch mounted bike rack lb capacity</td>\n",
       "    </tr>\n",
       "    <tr>\n",
       "      <th>1247555</th>\n",
       "      <td>2618566</td>\n",
       "      <td>loftek</td>\n",
       "      <td>130539</td>\n",
       "      <td>B010LLGWL8</td>\n",
       "      <td>other</td>\n",
       "      <td>burley honey bee seat kid bike trailer strolle...</td>\n",
       "    </tr>\n",
       "    <tr>\n",
       "      <th>1247556</th>\n",
       "      <td>2618567</td>\n",
       "      <td>lofters for men</td>\n",
       "      <td>130539</td>\n",
       "      <td>B010LLGWKE</td>\n",
       "      <td>other</td>\n",
       "      <td>burley design bee seat lightweight kid bikeonl...</td>\n",
       "    </tr>\n",
       "    <tr>\n",
       "      <th>1247557</th>\n",
       "      <td>2618569</td>\n",
       "      <td>lofters for men</td>\n",
       "      <td>130539</td>\n",
       "      <td>B002KV1MJU</td>\n",
       "      <td>other</td>\n",
       "      <td>marcy recumbent exercise bike resistance</td>\n",
       "    </tr>\n",
       "  </tbody>\n",
       "</table>\n",
       "<p>1247558 rows × 6 columns</p>\n",
       "</div>"
      ],
      "text/plain": [
       "         example_id            query  query_id  product_id source   \n",
       "0                 1              NaN         0  B07X3Y6B1V  other  \\\n",
       "1                 2    revent 80 cfm         0  B07WDM7MQQ  other   \n",
       "2                 3    revent 80 cfm         0  B07RH6Z8KW  other   \n",
       "3                 4    revent 80 cfm         0  B07QJ7WYFQ  other   \n",
       "4                 5    revent 80 cfm         0  B076Q7V5WX  other   \n",
       "...             ...              ...       ...         ...    ...   \n",
       "1247553     2618563           loftek    130539  B07ZFJJZLF  other   \n",
       "1247554     2618564           loftek    130539  B07G5VLMN1  other   \n",
       "1247555     2618566           loftek    130539  B010LLGWL8  other   \n",
       "1247556     2618567  lofters for men    130539  B010LLGWKE  other   \n",
       "1247557     2618569  lofters for men    130539  B002KV1MJU  other   \n",
       "\n",
       "                                            product_detail  \n",
       "0        homewerks bathroom fan integrated led light ce...  \n",
       "1        homewerks bathroom fan ceiling mount exhaust v...  \n",
       "2        delta electronics radl breezradiance cfm heate...  \n",
       "3        panasonic fvvre ventilation fan recessed led r...  \n",
       "4        panasonic fvvq whisperceiling dc ventilation f...  \n",
       "...                                                    ...  \n",
       "1247553  livtee pc auto trim removal tool kit interior ...  \n",
       "1247554       maxxhaul hitch mounted bike rack lb capacity  \n",
       "1247555  burley honey bee seat kid bike trailer strolle...  \n",
       "1247556  burley design bee seat lightweight kid bikeonl...  \n",
       "1247557           marcy recumbent exercise bike resistance  \n",
       "\n",
       "[1247558 rows x 6 columns]"
      ]
     },
     "execution_count": 1,
     "metadata": {},
     "output_type": "execute_result"
    }
   ],
   "source": [
    "import pandas as pd\n",
    "df_examples_products_source = pd.read_csv('preprocessed_data.csv')\n",
    "df_examples_products_source"
   ]
  },
  {
   "cell_type": "code",
   "execution_count": 2,
   "metadata": {},
   "outputs": [
    {
     "data": {
      "text/html": [
       "<div>\n",
       "<style scoped>\n",
       "    .dataframe tbody tr th:only-of-type {\n",
       "        vertical-align: middle;\n",
       "    }\n",
       "\n",
       "    .dataframe tbody tr th {\n",
       "        vertical-align: top;\n",
       "    }\n",
       "\n",
       "    .dataframe thead th {\n",
       "        text-align: right;\n",
       "    }\n",
       "</style>\n",
       "<table border=\"1\" class=\"dataframe\">\n",
       "  <thead>\n",
       "    <tr style=\"text-align: right;\">\n",
       "      <th></th>\n",
       "      <th>query</th>\n",
       "      <th>product_detail</th>\n",
       "    </tr>\n",
       "  </thead>\n",
       "  <tbody>\n",
       "    <tr>\n",
       "      <th>0</th>\n",
       "      <td>NaN</td>\n",
       "      <td>homewerks bathroom fan integrated led light ce...</td>\n",
       "    </tr>\n",
       "    <tr>\n",
       "      <th>1</th>\n",
       "      <td>revent 80 cfm</td>\n",
       "      <td>homewerks bathroom fan ceiling mount exhaust v...</td>\n",
       "    </tr>\n",
       "    <tr>\n",
       "      <th>2</th>\n",
       "      <td>revent 80 cfm</td>\n",
       "      <td>delta electronics radl breezradiance cfm heate...</td>\n",
       "    </tr>\n",
       "    <tr>\n",
       "      <th>3</th>\n",
       "      <td>revent 80 cfm</td>\n",
       "      <td>panasonic fvvre ventilation fan recessed led r...</td>\n",
       "    </tr>\n",
       "    <tr>\n",
       "      <th>4</th>\n",
       "      <td>revent 80 cfm</td>\n",
       "      <td>panasonic fvvq whisperceiling dc ventilation f...</td>\n",
       "    </tr>\n",
       "    <tr>\n",
       "      <th>...</th>\n",
       "      <td>...</td>\n",
       "      <td>...</td>\n",
       "    </tr>\n",
       "    <tr>\n",
       "      <th>1247553</th>\n",
       "      <td>loftek</td>\n",
       "      <td>livtee pc auto trim removal tool kit interior ...</td>\n",
       "    </tr>\n",
       "    <tr>\n",
       "      <th>1247554</th>\n",
       "      <td>loftek</td>\n",
       "      <td>maxxhaul hitch mounted bike rack lb capacity</td>\n",
       "    </tr>\n",
       "    <tr>\n",
       "      <th>1247555</th>\n",
       "      <td>loftek</td>\n",
       "      <td>burley honey bee seat kid bike trailer strolle...</td>\n",
       "    </tr>\n",
       "    <tr>\n",
       "      <th>1247556</th>\n",
       "      <td>lofters for men</td>\n",
       "      <td>burley design bee seat lightweight kid bikeonl...</td>\n",
       "    </tr>\n",
       "    <tr>\n",
       "      <th>1247557</th>\n",
       "      <td>lofters for men</td>\n",
       "      <td>marcy recumbent exercise bike resistance</td>\n",
       "    </tr>\n",
       "  </tbody>\n",
       "</table>\n",
       "<p>1247558 rows × 2 columns</p>\n",
       "</div>"
      ],
      "text/plain": [
       "                   query                                     product_detail\n",
       "0                    NaN  homewerks bathroom fan integrated led light ce...\n",
       "1          revent 80 cfm  homewerks bathroom fan ceiling mount exhaust v...\n",
       "2          revent 80 cfm  delta electronics radl breezradiance cfm heate...\n",
       "3          revent 80 cfm  panasonic fvvre ventilation fan recessed led r...\n",
       "4          revent 80 cfm  panasonic fvvq whisperceiling dc ventilation f...\n",
       "...                  ...                                                ...\n",
       "1247553           loftek  livtee pc auto trim removal tool kit interior ...\n",
       "1247554           loftek       maxxhaul hitch mounted bike rack lb capacity\n",
       "1247555           loftek  burley honey bee seat kid bike trailer strolle...\n",
       "1247556  lofters for men  burley design bee seat lightweight kid bikeonl...\n",
       "1247557  lofters for men           marcy recumbent exercise bike resistance\n",
       "\n",
       "[1247558 rows x 2 columns]"
      ]
     },
     "execution_count": 2,
     "metadata": {},
     "output_type": "execute_result"
    }
   ],
   "source": [
    "# Drop the specified columns\n",
    "columns_to_drop = ['example_id','query_id','product_id','source']\n",
    "df_examples_products_source = df_examples_products_source.drop(columns=columns_to_drop)\n",
    "df_examples_products_source"
   ]
  },
  {
   "cell_type": "code",
   "execution_count": 3,
   "metadata": {},
   "outputs": [],
   "source": [
    "df_examples_products_source.to_csv('query_product_detail.csv', index=False)"
   ]
  },
  {
   "cell_type": "code",
   "execution_count": null,
   "metadata": {},
   "outputs": [],
   "source": [
    "##------------------------HERE DUMMY------------------------"
   ]
  },
  {
   "cell_type": "code",
   "execution_count": 2,
   "metadata": {},
   "outputs": [
    {
     "data": {
      "text/html": [
       "<div>\n",
       "<style scoped>\n",
       "    .dataframe tbody tr th:only-of-type {\n",
       "        vertical-align: middle;\n",
       "    }\n",
       "\n",
       "    .dataframe tbody tr th {\n",
       "        vertical-align: top;\n",
       "    }\n",
       "\n",
       "    .dataframe thead th {\n",
       "        text-align: right;\n",
       "    }\n",
       "</style>\n",
       "<table border=\"1\" class=\"dataframe\">\n",
       "  <thead>\n",
       "    <tr style=\"text-align: right;\">\n",
       "      <th></th>\n",
       "      <th>query</th>\n",
       "      <th>product_detail</th>\n",
       "    </tr>\n",
       "  </thead>\n",
       "  <tbody>\n",
       "    <tr>\n",
       "      <th>0</th>\n",
       "      <td>NaN</td>\n",
       "      <td>homewerks bathroom fan integrated led light ce...</td>\n",
       "    </tr>\n",
       "    <tr>\n",
       "      <th>1</th>\n",
       "      <td>revent 80 cfm</td>\n",
       "      <td>homewerks bathroom fan ceiling mount exhaust v...</td>\n",
       "    </tr>\n",
       "    <tr>\n",
       "      <th>2</th>\n",
       "      <td>revent 80 cfm</td>\n",
       "      <td>delta electronics radl breezradiance cfm heate...</td>\n",
       "    </tr>\n",
       "    <tr>\n",
       "      <th>3</th>\n",
       "      <td>revent 80 cfm</td>\n",
       "      <td>panasonic fvvre ventilation fan recessed led r...</td>\n",
       "    </tr>\n",
       "    <tr>\n",
       "      <th>4</th>\n",
       "      <td>revent 80 cfm</td>\n",
       "      <td>panasonic fvvq whisperceiling dc ventilation f...</td>\n",
       "    </tr>\n",
       "    <tr>\n",
       "      <th>...</th>\n",
       "      <td>...</td>\n",
       "      <td>...</td>\n",
       "    </tr>\n",
       "    <tr>\n",
       "      <th>1247553</th>\n",
       "      <td>loftek</td>\n",
       "      <td>livtee pc auto trim removal tool kit interior ...</td>\n",
       "    </tr>\n",
       "    <tr>\n",
       "      <th>1247554</th>\n",
       "      <td>loftek</td>\n",
       "      <td>maxxhaul hitch mounted bike rack lb capacity</td>\n",
       "    </tr>\n",
       "    <tr>\n",
       "      <th>1247555</th>\n",
       "      <td>loftek</td>\n",
       "      <td>burley honey bee seat kid bike trailer strolle...</td>\n",
       "    </tr>\n",
       "    <tr>\n",
       "      <th>1247556</th>\n",
       "      <td>lofters for men</td>\n",
       "      <td>burley design bee seat lightweight kid bikeonl...</td>\n",
       "    </tr>\n",
       "    <tr>\n",
       "      <th>1247557</th>\n",
       "      <td>lofters for men</td>\n",
       "      <td>marcy recumbent exercise bike resistance</td>\n",
       "    </tr>\n",
       "  </tbody>\n",
       "</table>\n",
       "<p>1247558 rows × 2 columns</p>\n",
       "</div>"
      ],
      "text/plain": [
       "                   query                                     product_detail\n",
       "0                    NaN  homewerks bathroom fan integrated led light ce...\n",
       "1          revent 80 cfm  homewerks bathroom fan ceiling mount exhaust v...\n",
       "2          revent 80 cfm  delta electronics radl breezradiance cfm heate...\n",
       "3          revent 80 cfm  panasonic fvvre ventilation fan recessed led r...\n",
       "4          revent 80 cfm  panasonic fvvq whisperceiling dc ventilation f...\n",
       "...                  ...                                                ...\n",
       "1247553           loftek  livtee pc auto trim removal tool kit interior ...\n",
       "1247554           loftek       maxxhaul hitch mounted bike rack lb capacity\n",
       "1247555           loftek  burley honey bee seat kid bike trailer strolle...\n",
       "1247556  lofters for men  burley design bee seat lightweight kid bikeonl...\n",
       "1247557  lofters for men           marcy recumbent exercise bike resistance\n",
       "\n",
       "[1247558 rows x 2 columns]"
      ]
     },
     "execution_count": 2,
     "metadata": {},
     "output_type": "execute_result"
    }
   ],
   "source": [
    "import pandas as pd\n",
    "df_examples_products_source = pd.read_csv('query_product_detail.csv')\n",
    "df_examples_products_source"
   ]
  },
  {
   "cell_type": "code",
   "execution_count": 3,
   "metadata": {},
   "outputs": [
    {
     "data": {
      "text/html": [
       "<div>\n",
       "<style scoped>\n",
       "    .dataframe tbody tr th:only-of-type {\n",
       "        vertical-align: middle;\n",
       "    }\n",
       "\n",
       "    .dataframe tbody tr th {\n",
       "        vertical-align: top;\n",
       "    }\n",
       "\n",
       "    .dataframe thead th {\n",
       "        text-align: right;\n",
       "    }\n",
       "</style>\n",
       "<table border=\"1\" class=\"dataframe\">\n",
       "  <thead>\n",
       "    <tr style=\"text-align: right;\">\n",
       "      <th></th>\n",
       "      <th>query</th>\n",
       "      <th>product_detail</th>\n",
       "    </tr>\n",
       "  </thead>\n",
       "  <tbody>\n",
       "    <tr>\n",
       "      <th>1</th>\n",
       "      <td>revent 80 cfm</td>\n",
       "      <td>homewerks bathroom fan ceiling mount exhaust v...</td>\n",
       "    </tr>\n",
       "    <tr>\n",
       "      <th>2</th>\n",
       "      <td>revent 80 cfm</td>\n",
       "      <td>delta electronics radl breezradiance cfm heate...</td>\n",
       "    </tr>\n",
       "    <tr>\n",
       "      <th>3</th>\n",
       "      <td>revent 80 cfm</td>\n",
       "      <td>panasonic fvvre ventilation fan recessed led r...</td>\n",
       "    </tr>\n",
       "    <tr>\n",
       "      <th>4</th>\n",
       "      <td>revent 80 cfm</td>\n",
       "      <td>panasonic fvvq whisperceiling dc ventilation f...</td>\n",
       "    </tr>\n",
       "    <tr>\n",
       "      <th>5</th>\n",
       "      <td>revent 80 cfm</td>\n",
       "      <td>panasonic fvvsl whispervalue dc ventilation fa...</td>\n",
       "    </tr>\n",
       "    <tr>\n",
       "      <th>...</th>\n",
       "      <td>...</td>\n",
       "      <td>...</td>\n",
       "    </tr>\n",
       "    <tr>\n",
       "      <th>1247553</th>\n",
       "      <td>loftek</td>\n",
       "      <td>livtee pc auto trim removal tool kit interior ...</td>\n",
       "    </tr>\n",
       "    <tr>\n",
       "      <th>1247554</th>\n",
       "      <td>loftek</td>\n",
       "      <td>maxxhaul hitch mounted bike rack lb capacity</td>\n",
       "    </tr>\n",
       "    <tr>\n",
       "      <th>1247555</th>\n",
       "      <td>loftek</td>\n",
       "      <td>burley honey bee seat kid bike trailer strolle...</td>\n",
       "    </tr>\n",
       "    <tr>\n",
       "      <th>1247556</th>\n",
       "      <td>lofters for men</td>\n",
       "      <td>burley design bee seat lightweight kid bikeonl...</td>\n",
       "    </tr>\n",
       "    <tr>\n",
       "      <th>1247557</th>\n",
       "      <td>lofters for men</td>\n",
       "      <td>marcy recumbent exercise bike resistance</td>\n",
       "    </tr>\n",
       "  </tbody>\n",
       "</table>\n",
       "<p>676025 rows × 2 columns</p>\n",
       "</div>"
      ],
      "text/plain": [
       "                   query                                     product_detail\n",
       "1          revent 80 cfm  homewerks bathroom fan ceiling mount exhaust v...\n",
       "2          revent 80 cfm  delta electronics radl breezradiance cfm heate...\n",
       "3          revent 80 cfm  panasonic fvvre ventilation fan recessed led r...\n",
       "4          revent 80 cfm  panasonic fvvq whisperceiling dc ventilation f...\n",
       "5          revent 80 cfm  panasonic fvvsl whispervalue dc ventilation fa...\n",
       "...                  ...                                                ...\n",
       "1247553           loftek  livtee pc auto trim removal tool kit interior ...\n",
       "1247554           loftek       maxxhaul hitch mounted bike rack lb capacity\n",
       "1247555           loftek  burley honey bee seat kid bike trailer strolle...\n",
       "1247556  lofters for men  burley design bee seat lightweight kid bikeonl...\n",
       "1247557  lofters for men           marcy recumbent exercise bike resistance\n",
       "\n",
       "[676025 rows x 2 columns]"
      ]
     },
     "execution_count": 3,
     "metadata": {},
     "output_type": "execute_result"
    }
   ],
   "source": [
    "df_examples_products_source.dropna()"
   ]
  },
  {
   "cell_type": "code",
   "execution_count": null,
   "metadata": {},
   "outputs": [],
   "source": []
  },
  {
   "cell_type": "code",
   "execution_count": 4,
   "metadata": {},
   "outputs": [],
   "source": [
    "df_examples_products_source.to_csv('query_product_detail.csv', index=False)"
   ]
  },
  {
   "cell_type": "code",
   "execution_count": 2,
   "metadata": {},
   "outputs": [],
   "source": [
    "# Assuming df_examples_products_source is your DataFrame\n",
    "# X: 'query', y: 'product_detail'\n",
    "X = df_examples_products_source['query'].fillna('')  # Handle NaN values\n",
    "y = df_examples_products_source['product_detail'].fillna('')"
   ]
  },
  {
   "cell_type": "code",
   "execution_count": 3,
   "metadata": {},
   "outputs": [
    {
     "name": "stdout",
     "output_type": "stream",
     "text": [
      " revent 80 cfm\n"
     ]
    }
   ],
   "source": [
    "print(X[1])"
   ]
  },
  {
   "cell_type": "code",
   "execution_count": 4,
   "metadata": {},
   "outputs": [
    {
     "name": "stdout",
     "output_type": "stream",
     "text": [
      "homewerks bathroom fan ceiling mount exhaust ventilation sone cfm white\n"
     ]
    }
   ],
   "source": [
    "print(y[1])"
   ]
  },
  {
   "cell_type": "code",
   "execution_count": 10,
   "metadata": {},
   "outputs": [],
   "source": [
    "#this is from the first attempt led to kernel crash\n",
    "from sklearn.model_selection import train_test_split\n",
    "from sklearn.feature_extraction.text import TfidfVectorizer\n",
    "from sklearn.linear_model import LogisticRegression\n",
    "from sklearn.metrics import accuracy_score, classification_report\n",
    "\n",
    "# Split the data into training and testing sets\n",
    "X_train, X_test, y_train, y_test = train_test_split(X, y, test_size=0.2, random_state=42)\n",
    "\n",
    "# Convert text data to numerical representation using TF-IDF\n",
    "vectorizer = TfidfVectorizer(max_features=5000, stop_words='english')\n",
    "X_train_tfidf = vectorizer.fit_transform(X_train)\n",
    "X_test_tfidf = vectorizer.transform(X_test)\n",
    "\n",
    "# Train a logistic regression classifier\n",
    "model = LogisticRegression(max_iter=500)\n",
    "model.fit(X_train_tfidf, y_train)\n",
    "\n",
    "# Predictions on the test set\n",
    "y_pred = model.predict(X_test_tfidf)\n",
    "\n",
    "# Evaluate the model\n",
    "accuracy = accuracy_score(y_test, y_pred)\n",
    "print(\"Accuracy:\", accuracy)\n",
    "\n",
    "# Additional evaluation metrics\n",
    "print(\"\\nClassification Report:\")\n",
    "print(classification_report(y_test, y_pred))\n"
   ]
  },
  {
   "cell_type": "code",
   "execution_count": 12,
   "metadata": {},
   "outputs": [
    {
     "name": "stderr",
     "output_type": "stream",
     "text": [
      "Some weights of BertForSequenceClassification were not initialized from the model checkpoint at bert-base-uncased and are newly initialized: ['classifier.weight', 'classifier.bias']\n",
      "You should probably TRAIN this model on a down-stream task to be able to use it for predictions and inference.\n"
     ]
    },
    {
     "name": "stdout",
     "output_type": "stream",
     "text": [
      "[[1.]]\n"
     ]
    }
   ],
   "source": [
    "# trying to use BERT \n",
    "import torch\n",
    "from transformers import BertTokenizer, BertForSequenceClassification\n",
    "from torch.nn.functional import softmax\n",
    "\n",
    "# Load pre-trained BERT model and tokenizer\n",
    "tokenizer = BertTokenizer.from_pretrained('bert-base-uncased')\n",
    "model = BertForSequenceClassification.from_pretrained('bert-base-uncased', num_labels=1)\n",
    "\n",
    "# Encode the input query\n",
    "input_query = \"revent 80 cfm\"\n",
    "encoded_input = tokenizer(input_query, return_tensors='pt')\n",
    "\n",
    "# Make a prediction\n",
    "with torch.no_grad():\n",
    "    output = model(**encoded_input)\n",
    "\n",
    "# Get the predicted class probabilities\n",
    "probabilities = softmax(output.logits, dim=1).numpy()\n",
    "\n",
    "# Print or use the probabilities as needed\n",
    "print(probabilities)\n"
   ]
  },
  {
   "cell_type": "code",
   "execution_count": 5,
   "metadata": {},
   "outputs": [
    {
     "name": "stdout",
     "output_type": "stream",
     "text": [
      "        00  000  007  00m  00pp   01  013   02  02cool   03  ...  zapper   \n",
      "0      0.0  0.0  0.0  0.0   0.0  0.0  0.0  0.0     0.0  0.0  ...     0.0  \\\n",
      "1      0.0  0.0  0.0  0.0   0.0  0.0  0.0  0.0     0.0  0.0  ...     0.0   \n",
      "2      0.0  0.0  0.0  0.0   0.0  0.0  0.0  0.0     0.0  0.0  ...     0.0   \n",
      "3      0.0  0.0  0.0  0.0   0.0  0.0  0.0  0.0     0.0  0.0  ...     0.0   \n",
      "4      0.0  0.0  0.0  0.0   0.0  0.0  0.0  0.0     0.0  0.0  ...     0.0   \n",
      "...    ...  ...  ...  ...   ...  ...  ...  ...     ...  ...  ...     ...   \n",
      "49995  0.0  0.0  0.0  0.0   0.0  0.0  0.0  0.0     0.0  0.0  ...     0.0   \n",
      "49996  0.0  0.0  0.0  0.0   0.0  0.0  0.0  0.0     0.0  0.0  ...     0.0   \n",
      "49997  0.0  0.0  0.0  0.0   0.0  0.0  0.0  0.0     0.0  0.0  ...     0.0   \n",
      "49998  0.0  0.0  0.0  0.0   0.0  0.0  0.0  0.0     0.0  0.0  ...     0.0   \n",
      "49999  0.0  0.0  0.0  0.0   0.0  0.0  0.0  0.0     0.0  0.0  ...     0.0   \n",
      "\n",
      "       zer0  zero  zinc  zip  ziplock  zipper  zirconia  zoom  zx6r  \n",
      "0       0.0   0.0   0.0  0.0      0.0     0.0       0.0   0.0   0.0  \n",
      "1       0.0   0.0   0.0  0.0      0.0     0.0       0.0   0.0   0.0  \n",
      "2       0.0   0.0   0.0  0.0      0.0     0.0       0.0   0.0   0.0  \n",
      "3       0.0   0.0   0.0  0.0      0.0     0.0       0.0   0.0   0.0  \n",
      "4       0.0   0.0   0.0  0.0      0.0     0.0       0.0   0.0   0.0  \n",
      "...     ...   ...   ...  ...      ...     ...       ...   ...   ...  \n",
      "49995   0.0   0.0   0.0  0.0      0.0     0.0       0.0   0.0   0.0  \n",
      "49996   0.0   0.0   0.0  0.0      0.0     0.0       0.0   0.0   0.0  \n",
      "49997   0.0   0.0   0.0  0.0      0.0     0.0       0.0   0.0   0.0  \n",
      "49998   0.0   0.0   0.0  0.0      0.0     0.0       0.0   0.0   0.0  \n",
      "49999   0.0   0.0   0.0  0.0      0.0     0.0       0.0   0.0   0.0  \n",
      "\n",
      "[50000 rows x 2594 columns]\n"
     ]
    }
   ],
   "source": [
    "#using TF-IDF \n",
    "import pandas as pd\n",
    "from sklearn.feature_extraction.text import TfidfVectorizer\n",
    "\n",
    "# # Assuming df is your DataFrame with 'query' and 'product_detail' columns\n",
    "# df = pd.DataFrame({\n",
    "#     'query': ['revent 80 cfm', 'loftek', 'lofters for men'],\n",
    "#     'product_detail': ['homewerks bathroom fan integrated led light',\n",
    "#                        'homewerks bathroom fan ceiling mount exhaust ventilation sone cfm white',\n",
    "#                        'delta electronics radl breezradiance cfm heater',\n",
    "#                        'panasonic fvvre ventilation fan recessed led']\n",
    "# })\n",
    "\n",
    "# Apply TF-IDF on the 'query' column\n",
    "vectorizer = TfidfVectorizer()\n",
    "X_tfidf = vectorizer.fit_transform(X)\n",
    "\n",
    "# Convert the TF-IDF matrix to a DataFrame for better visualization\n",
    "tfidf_df = pd.DataFrame(X_tfidf.toarray(), columns=vectorizer.get_feature_names_out())\n",
    "\n",
    "# Display the TF-IDF results\n",
    "print(tfidf_df)\n"
   ]
  },
  {
   "cell_type": "code",
   "execution_count": 1,
   "metadata": {},
   "outputs": [],
   "source": [
    "# Doesn't work\n",
    "\n",
    "# import seaborn as sns\n",
    "# import matplotlib.pyplot as plt\n",
    "\n",
    "# # Subsample a smaller portion of the data\n",
    "# sample_size = 1000\n",
    "# sampled_tfidf_df = tfidf_df.sample(sample_size, random_state=42)\n",
    "\n",
    "# # Create a heatmap using Seaborn\n",
    "# plt.figure(figsize=(10, 6))\n",
    "# sns.heatmap(sampled_tfidf_df, cmap='viridis', annot=True, fmt=\".2f\", xticklabels=1, yticklabels=X.iloc[sampled_tfidf_df.index])\n",
    "# plt.title('TF-IDF Heatmap for Queries (Sampled)')\n",
    "# plt.xlabel('Terms')\n",
    "# plt.ylabel('Queries')\n",
    "# plt.show()\n"
   ]
  },
  {
   "cell_type": "code",
   "execution_count": 5,
   "metadata": {},
   "outputs": [
    {
     "data": {
      "text/plain": [
       "(140568, 2)"
      ]
     },
     "execution_count": 5,
     "metadata": {},
     "output_type": "execute_result"
    }
   ],
   "source": [
    "num_rows = 300000\n",
    "df_examples_products_source = pd.read_csv('../task2/query_product_detail.csv', nrows=num_rows)\n",
    "df_examples_products_source = df_examples_products_source.dropna()\n",
    "df_examples_products_source.shape"
   ]
  },
  {
   "cell_type": "code",
   "execution_count": 6,
   "metadata": {},
   "outputs": [],
   "source": [
    "# Assuming df_examples_products_source is your DataFrame\n",
    "X = df_examples_products_source['query']\n",
    "y = df_examples_products_source['product_detail']"
   ]
  },
  {
   "cell_type": "code",
   "execution_count": 7,
   "metadata": {},
   "outputs": [
    {
     "name": "stdout",
     "output_type": "stream",
     "text": [
      "Type of X: <class 'pandas.core.series.Series'>\n",
      "Type of y: <class 'pandas.core.series.Series'>\n"
     ]
    }
   ],
   "source": [
    "# Assuming X and y are your variables\n",
    "print(\"Type of X:\", type(X))\n",
    "print(\"Type of y:\", type(y))\n"
   ]
  },
  {
   "cell_type": "code",
   "execution_count": 8,
   "metadata": {},
   "outputs": [
    {
     "name": "stdout",
     "output_type": "stream",
     "text": [
      "Type of elements in X: <class 'str'>\n",
      "Type of elements in y: <class 'str'>\n"
     ]
    }
   ],
   "source": [
    "# Assuming X and y are pandas Series\n",
    "element_type_X = type(X.iloc[0])\n",
    "element_type_y = type(y.iloc[0])\n",
    "\n",
    "print(\"Type of elements in X:\", element_type_X)\n",
    "print(\"Type of elements in y:\", element_type_y)"
   ]
  }
 ],
 "metadata": {
  "kernelspec": {
   "display_name": "Python 3",
   "language": "python",
   "name": "python3"
  },
  "language_info": {
   "codemirror_mode": {
    "name": "ipython",
    "version": 3
   },
   "file_extension": ".py",
   "mimetype": "text/x-python",
   "name": "python",
   "nbconvert_exporter": "python",
   "pygments_lexer": "ipython3",
   "version": "3.11.6"
  }
 },
 "nbformat": 4,
 "nbformat_minor": 2
}
