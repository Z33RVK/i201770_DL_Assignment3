{
  "cells": [
    {
      "cell_type": "code",
      "execution_count": null,
      "metadata": {
        "id": "1M7XWUC9m1pq"
      },
      "outputs": [],
      "source": [
        "# Semantic Product Search and Ranking\n",
        "# interpreting meaning of words and phrases in the context of product searches\n",
        "# understand query and return meaning of query\n",
        "# understand input query, search for relevant products, and rank them based on highest to lowest matches\n",
        "# training data -> query-result pairs\n",
        "# deploy model on web application\n",
        "# put Amazon dataset in a database and create a simple web interface with a text box\n",
        "# user will enter query to the model, which will find the matched products\n",
        "# display these results on the web\n",
        "# use query , product title and product description\n",
        "# recommendation use BERT to see if this works\n",
        "\n",
        "# Requirements\n",
        "# - Load all the data set, combine product_title and product_description columns which will be used for searching.\n",
        "# - Perform text preprocessing: Convert all to lower case, remove stopwords, perform Lemmatization or Stemming, remove Special Character\n",
        "# - Convert text data into numerical representations. Common techniques include: TF-IDF (Term Frequency-Inverse Document Frequency), Word Embeddings (e.g., Word2Vec, GloVe, FastText) for capturing semantic meaning. You can also use Pretrained Language Models (e.g., BERT, GPT) for text representation.\n",
        "# - Divide the dataset into training, validation, and testing sets. Common splits include 70- 80% for training, 10-15% for validation, and 10-15% for testing.\n",
        "# - Select a suitable deep-learning model for training and testing on the given dataset.\n",
        "# - Visualization of the training and testing errors\n",
        "# - Fine-tune the model hyper parameters.\n",
        "# - Select appropriate evaluation metrics for your problem, such as NDCG, MAP, Precision at K (P@K), Recall at K (R@K), F1 at K (R@K) or any relevant metric.\n",
        "# - Deploy the model such that it can be served in the web application. Allow the user to enter a query and it should return the closest matched products.\n",
        "# - Write a detailed description of your solution and the challenges that you face as a report under Experimental Results Section. Show the accuracies obtained for the task and summarize them as a table.\n"
      ]
    },
    {
      "cell_type": "code",
      "execution_count": null,
      "metadata": {
        "id": "izHIbZy5m1pv"
      },
      "outputs": [],
      "source": [
        "#loading data\n",
        "import pandas as pd\n",
        "import pandas as pd\n",
        "df_examples = pd.read_parquet('./datasets/shopping_queries_dataset_examples.parquet')\n",
        "df_products = pd.read_parquet('./datasets/shopping_queries_dataset_products.parquet')\n",
        "df_sources = pd.read_csv(\"./datasets/shopping_queries_dataset_sources.csv\")"
      ]
    },
    {
      "cell_type": "code",
      "execution_count": null,
      "metadata": {
        "id": "mb3yd_mqm1pw",
        "outputId": "394b2838-f10f-473b-fd94-232f81892dbd"
      },
      "outputs": [
        {
          "data": {
            "text/html": [
              "<div>\n",
              "<style scoped>\n",
              "    .dataframe tbody tr th:only-of-type {\n",
              "        vertical-align: middle;\n",
              "    }\n",
              "\n",
              "    .dataframe tbody tr th {\n",
              "        vertical-align: top;\n",
              "    }\n",
              "\n",
              "    .dataframe thead th {\n",
              "        text-align: right;\n",
              "    }\n",
              "</style>\n",
              "<table border=\"1\" class=\"dataframe\">\n",
              "  <thead>\n",
              "    <tr style=\"text-align: right;\">\n",
              "      <th></th>\n",
              "      <th>example_id</th>\n",
              "      <th>query</th>\n",
              "      <th>query_id</th>\n",
              "      <th>product_id</th>\n",
              "      <th>product_locale</th>\n",
              "      <th>esci_label</th>\n",
              "      <th>small_version</th>\n",
              "      <th>large_version</th>\n",
              "      <th>split</th>\n",
              "    </tr>\n",
              "  </thead>\n",
              "  <tbody>\n",
              "    <tr>\n",
              "      <th>0</th>\n",
              "      <td>0</td>\n",
              "      <td>revent 80 cfm</td>\n",
              "      <td>0</td>\n",
              "      <td>B000MOO21W</td>\n",
              "      <td>us</td>\n",
              "      <td>I</td>\n",
              "      <td>0</td>\n",
              "      <td>1</td>\n",
              "      <td>train</td>\n",
              "    </tr>\n",
              "  </tbody>\n",
              "</table>\n",
              "</div>"
            ],
            "text/plain": [
              "   example_id           query  query_id  product_id product_locale esci_label   \n",
              "0           0   revent 80 cfm         0  B000MOO21W             us          I  \\\n",
              "\n",
              "   small_version  large_version  split  \n",
              "0              0              1  train  "
            ]
          },
          "execution_count": 23,
          "metadata": {},
          "output_type": "execute_result"
        }
      ],
      "source": [
        "df_examples.head(1)"
      ]
    },
    {
      "cell_type": "code",
      "execution_count": null,
      "metadata": {
        "id": "hbUgMhxkm1px",
        "outputId": "b7cc3142-4d2e-4253-f593-82e45cbb3cd6"
      },
      "outputs": [
        {
          "data": {
            "text/html": [
              "<div>\n",
              "<style scoped>\n",
              "    .dataframe tbody tr th:only-of-type {\n",
              "        vertical-align: middle;\n",
              "    }\n",
              "\n",
              "    .dataframe tbody tr th {\n",
              "        vertical-align: top;\n",
              "    }\n",
              "\n",
              "    .dataframe thead th {\n",
              "        text-align: right;\n",
              "    }\n",
              "</style>\n",
              "<table border=\"1\" class=\"dataframe\">\n",
              "  <thead>\n",
              "    <tr style=\"text-align: right;\">\n",
              "      <th></th>\n",
              "      <th>product_id</th>\n",
              "      <th>product_title</th>\n",
              "      <th>product_description</th>\n",
              "      <th>product_bullet_point</th>\n",
              "      <th>product_brand</th>\n",
              "      <th>product_color</th>\n",
              "      <th>product_locale</th>\n",
              "    </tr>\n",
              "  </thead>\n",
              "  <tbody>\n",
              "    <tr>\n",
              "      <th>0</th>\n",
              "      <td>B079VKKJN7</td>\n",
              "      <td>11 Degrees de los Hombres Playera con Logo, Ne...</td>\n",
              "      <td>Esta playera con el logo de la marca Carrier d...</td>\n",
              "      <td>11 Degrees Negro Playera con logo\\nA estrenar ...</td>\n",
              "      <td>11 Degrees</td>\n",
              "      <td>Negro</td>\n",
              "      <td>es</td>\n",
              "    </tr>\n",
              "  </tbody>\n",
              "</table>\n",
              "</div>"
            ],
            "text/plain": [
              "   product_id                                      product_title   \n",
              "0  B079VKKJN7  11 Degrees de los Hombres Playera con Logo, Ne...  \\\n",
              "\n",
              "                                 product_description   \n",
              "0  Esta playera con el logo de la marca Carrier d...  \\\n",
              "\n",
              "                                product_bullet_point product_brand   \n",
              "0  11 Degrees Negro Playera con logo\\nA estrenar ...    11 Degrees  \\\n",
              "\n",
              "  product_color product_locale  \n",
              "0         Negro             es  "
            ]
          },
          "execution_count": 24,
          "metadata": {},
          "output_type": "execute_result"
        }
      ],
      "source": [
        "df_products.head(1)"
      ]
    },
    {
      "cell_type": "code",
      "execution_count": null,
      "metadata": {
        "id": "s5Dsc_L3m1px",
        "outputId": "f461bb93-3382-48e0-adde-faa5b4cb43b7"
      },
      "outputs": [
        {
          "data": {
            "text/html": [
              "<div>\n",
              "<style scoped>\n",
              "    .dataframe tbody tr th:only-of-type {\n",
              "        vertical-align: middle;\n",
              "    }\n",
              "\n",
              "    .dataframe tbody tr th {\n",
              "        vertical-align: top;\n",
              "    }\n",
              "\n",
              "    .dataframe thead th {\n",
              "        text-align: right;\n",
              "    }\n",
              "</style>\n",
              "<table border=\"1\" class=\"dataframe\">\n",
              "  <thead>\n",
              "    <tr style=\"text-align: right;\">\n",
              "      <th></th>\n",
              "      <th>query_id</th>\n",
              "      <th>source</th>\n",
              "    </tr>\n",
              "  </thead>\n",
              "  <tbody>\n",
              "    <tr>\n",
              "      <th>0</th>\n",
              "      <td>0</td>\n",
              "      <td>other</td>\n",
              "    </tr>\n",
              "  </tbody>\n",
              "</table>\n",
              "</div>"
            ],
            "text/plain": [
              "   query_id source\n",
              "0         0  other"
            ]
          },
          "execution_count": 25,
          "metadata": {},
          "output_type": "execute_result"
        }
      ],
      "source": [
        "df_sources.head(1)"
      ]
    },
    {
      "cell_type": "code",
      "execution_count": null,
      "metadata": {
        "id": "r46AgeDLm1py",
        "outputId": "451c9c8b-7433-4117-b604-ba2e60528989"
      },
      "outputs": [
        {
          "name": "stdout",
          "output_type": "stream",
          "text": [
            "(2621288, 9)\n",
            "(1814924, 7)\n",
            "(130652, 2)\n"
          ]
        }
      ],
      "source": [
        "print(df_examples.shape)\n",
        "print(df_products.shape)\n",
        "print(df_sources.shape)"
      ]
    },
    {
      "cell_type": "code",
      "execution_count": null,
      "metadata": {
        "id": "5iofAoxgm1py"
      },
      "outputs": [],
      "source": [
        "df_examples_products = pd.merge(\n",
        "    df_examples,\n",
        "    df_products,\n",
        "    how='left',\n",
        "    left_on=['product_locale','product_id'],\n",
        "    right_on=['product_locale', 'product_id']\n",
        ")"
      ]
    },
    {
      "cell_type": "code",
      "execution_count": null,
      "metadata": {
        "id": "sYQlUAeZm1pz"
      },
      "outputs": [],
      "source": [
        "df_examples_products_source = pd.merge(\n",
        "    df_examples_products,\n",
        "    df_sources,\n",
        "    how='left',\n",
        "    left_on=['query_id'],\n",
        "    right_on=['query_id']\n",
        ")"
      ]
    },
    {
      "cell_type": "code",
      "execution_count": null,
      "metadata": {
        "id": "07-yyaa2m1p0"
      },
      "outputs": [],
      "source": [
        "df_examples_products_source = df_examples_products_source[df_examples_products_source[\"esci_label\"] == 'E']"
      ]
    },
    {
      "cell_type": "code",
      "execution_count": null,
      "metadata": {
        "id": "xCBMOV7am1p0"
      },
      "outputs": [],
      "source": [
        "df_examples_products_source = df_examples_products_source[df_examples_products_source[\"product_locale\"] == 'us']"
      ]
    },
    {
      "cell_type": "code",
      "execution_count": null,
      "metadata": {
        "id": "bnEqgElum1p0",
        "outputId": "bb4871ea-0eaf-4747-ad66-444982fe15af"
      },
      "outputs": [
        {
          "data": {
            "text/html": [
              "<div>\n",
              "<style scoped>\n",
              "    .dataframe tbody tr th:only-of-type {\n",
              "        vertical-align: middle;\n",
              "    }\n",
              "\n",
              "    .dataframe tbody tr th {\n",
              "        vertical-align: top;\n",
              "    }\n",
              "\n",
              "    .dataframe thead th {\n",
              "        text-align: right;\n",
              "    }\n",
              "</style>\n",
              "<table border=\"1\" class=\"dataframe\">\n",
              "  <thead>\n",
              "    <tr style=\"text-align: right;\">\n",
              "      <th></th>\n",
              "      <th>example_id</th>\n",
              "      <th>query</th>\n",
              "      <th>query_id</th>\n",
              "      <th>product_id</th>\n",
              "      <th>product_locale</th>\n",
              "      <th>esci_label</th>\n",
              "      <th>small_version</th>\n",
              "      <th>large_version</th>\n",
              "      <th>split</th>\n",
              "      <th>product_title</th>\n",
              "      <th>product_description</th>\n",
              "      <th>product_bullet_point</th>\n",
              "      <th>product_brand</th>\n",
              "      <th>product_color</th>\n",
              "      <th>source</th>\n",
              "    </tr>\n",
              "  </thead>\n",
              "  <tbody>\n",
              "    <tr>\n",
              "      <th>1</th>\n",
              "      <td>1</td>\n",
              "      <td>revent 80 cfm</td>\n",
              "      <td>0</td>\n",
              "      <td>B07X3Y6B1V</td>\n",
              "      <td>us</td>\n",
              "      <td>E</td>\n",
              "      <td>0</td>\n",
              "      <td>1</td>\n",
              "      <td>train</td>\n",
              "      <td>Homewerks 7141-80 Bathroom Fan Integrated LED ...</td>\n",
              "      <td>None</td>\n",
              "      <td>OUTSTANDING PERFORMANCE: This Homewerk's bath ...</td>\n",
              "      <td>Homewerks</td>\n",
              "      <td>80 CFM</td>\n",
              "      <td>other</td>\n",
              "    </tr>\n",
              "    <tr>\n",
              "      <th>2</th>\n",
              "      <td>2</td>\n",
              "      <td>revent 80 cfm</td>\n",
              "      <td>0</td>\n",
              "      <td>B07WDM7MQQ</td>\n",
              "      <td>us</td>\n",
              "      <td>E</td>\n",
              "      <td>0</td>\n",
              "      <td>1</td>\n",
              "      <td>train</td>\n",
              "      <td>Homewerks 7140-80 Bathroom Fan Ceiling Mount E...</td>\n",
              "      <td>None</td>\n",
              "      <td>OUTSTANDING PERFORMANCE: This Homewerk's bath ...</td>\n",
              "      <td>Homewerks</td>\n",
              "      <td>White</td>\n",
              "      <td>other</td>\n",
              "    </tr>\n",
              "    <tr>\n",
              "      <th>3</th>\n",
              "      <td>3</td>\n",
              "      <td>revent 80 cfm</td>\n",
              "      <td>0</td>\n",
              "      <td>B07RH6Z8KW</td>\n",
              "      <td>us</td>\n",
              "      <td>E</td>\n",
              "      <td>0</td>\n",
              "      <td>1</td>\n",
              "      <td>train</td>\n",
              "      <td>Delta Electronics RAD80L BreezRadiance 80 CFM ...</td>\n",
              "      <td>This pre-owned or refurbished product has been...</td>\n",
              "      <td>Quiet operation at 1.5 sones\\nBuilt-in thermos...</td>\n",
              "      <td>DELTA ELECTRONICS (AMERICAS) LTD.</td>\n",
              "      <td>White</td>\n",
              "      <td>other</td>\n",
              "    </tr>\n",
              "    <tr>\n",
              "      <th>4</th>\n",
              "      <td>4</td>\n",
              "      <td>revent 80 cfm</td>\n",
              "      <td>0</td>\n",
              "      <td>B07QJ7WYFQ</td>\n",
              "      <td>us</td>\n",
              "      <td>E</td>\n",
              "      <td>0</td>\n",
              "      <td>1</td>\n",
              "      <td>train</td>\n",
              "      <td>Panasonic FV-08VRE2 Ventilation Fan with Reces...</td>\n",
              "      <td>None</td>\n",
              "      <td>The design solution for Fan/light combinations...</td>\n",
              "      <td>Panasonic</td>\n",
              "      <td>White</td>\n",
              "      <td>other</td>\n",
              "    </tr>\n",
              "    <tr>\n",
              "      <th>5</th>\n",
              "      <td>5</td>\n",
              "      <td>revent 80 cfm</td>\n",
              "      <td>0</td>\n",
              "      <td>B076Q7V5WX</td>\n",
              "      <td>us</td>\n",
              "      <td>E</td>\n",
              "      <td>0</td>\n",
              "      <td>1</td>\n",
              "      <td>train</td>\n",
              "      <td>Panasonic FV-0511VQ1 WhisperCeiling DC Ventila...</td>\n",
              "      <td>None</td>\n",
              "      <td>Installation: Features a 4-inch or 6-inch duct...</td>\n",
              "      <td>Panasonic</td>\n",
              "      <td>White</td>\n",
              "      <td>other</td>\n",
              "    </tr>\n",
              "    <tr>\n",
              "      <th>...</th>\n",
              "      <td>...</td>\n",
              "      <td>...</td>\n",
              "      <td>...</td>\n",
              "      <td>...</td>\n",
              "      <td>...</td>\n",
              "      <td>...</td>\n",
              "      <td>...</td>\n",
              "      <td>...</td>\n",
              "      <td>...</td>\n",
              "      <td>...</td>\n",
              "      <td>...</td>\n",
              "      <td>...</td>\n",
              "      <td>...</td>\n",
              "      <td>...</td>\n",
              "      <td>...</td>\n",
              "    </tr>\n",
              "    <tr>\n",
              "      <th>2618563</th>\n",
              "      <td>2618563</td>\n",
              "      <td>자전거트레일러</td>\n",
              "      <td>130539</td>\n",
              "      <td>B07ZFJJZLF</td>\n",
              "      <td>us</td>\n",
              "      <td>E</td>\n",
              "      <td>1</td>\n",
              "      <td>1</td>\n",
              "      <td>train</td>\n",
              "      <td>LivTee 5 pcs Auto Trim Removal Tool Kit, Inter...</td>\n",
              "      <td>5 pcs Auto Trim Removal Tool Kit, Interior Doo...</td>\n",
              "      <td>Made of super durable plastic material for lon...</td>\n",
              "      <td>LivTee</td>\n",
              "      <td>Blue</td>\n",
              "      <td>other</td>\n",
              "    </tr>\n",
              "    <tr>\n",
              "      <th>2618564</th>\n",
              "      <td>2618564</td>\n",
              "      <td>자전거트레일러</td>\n",
              "      <td>130539</td>\n",
              "      <td>B07G5VLMN1</td>\n",
              "      <td>us</td>\n",
              "      <td>E</td>\n",
              "      <td>1</td>\n",
              "      <td>1</td>\n",
              "      <td>train</td>\n",
              "      <td>MAXXHAUL 50025 Hitch Mounted 2-Bike Rack-100 l...</td>\n",
              "      <td>None</td>\n",
              "      <td>Improved durable hitch adapter to fit standard...</td>\n",
              "      <td>MAXXHAUL</td>\n",
              "      <td>None</td>\n",
              "      <td>other</td>\n",
              "    </tr>\n",
              "    <tr>\n",
              "      <th>2618566</th>\n",
              "      <td>2618566</td>\n",
              "      <td>자전거트레일러</td>\n",
              "      <td>130539</td>\n",
              "      <td>B010LLGWL8</td>\n",
              "      <td>us</td>\n",
              "      <td>E</td>\n",
              "      <td>1</td>\n",
              "      <td>1</td>\n",
              "      <td>train</td>\n",
              "      <td>Burley Honey Bee, 2 Seat Kids Bike Trailer &amp; S...</td>\n",
              "      <td>None</td>\n",
              "      <td>Sport Type: Cycling</td>\n",
              "      <td>Burley Design</td>\n",
              "      <td>Red</td>\n",
              "      <td>other</td>\n",
              "    </tr>\n",
              "    <tr>\n",
              "      <th>2618567</th>\n",
              "      <td>2618567</td>\n",
              "      <td>자전거트레일러</td>\n",
              "      <td>130539</td>\n",
              "      <td>B010LLGWKE</td>\n",
              "      <td>us</td>\n",
              "      <td>E</td>\n",
              "      <td>1</td>\n",
              "      <td>1</td>\n",
              "      <td>train</td>\n",
              "      <td>BURLEY Design Bee, 2 Seat, Lightweight, Kids B...</td>\n",
              "      <td>None</td>\n",
              "      <td>sport type: Cycling</td>\n",
              "      <td>Burley Design</td>\n",
              "      <td>Yellow</td>\n",
              "      <td>other</td>\n",
              "    </tr>\n",
              "    <tr>\n",
              "      <th>2618569</th>\n",
              "      <td>2618569</td>\n",
              "      <td>자전거트레일러</td>\n",
              "      <td>130539</td>\n",
              "      <td>B002KV1MJU</td>\n",
              "      <td>us</td>\n",
              "      <td>E</td>\n",
              "      <td>1</td>\n",
              "      <td>1</td>\n",
              "      <td>train</td>\n",
              "      <td>Marcy Recumbent Exercise Bike with Resistance ...</td>\n",
              "      <td>None</td>\n",
              "      <td>STEP-THROUGH DESIGN – Featuring heavy-duty con...</td>\n",
              "      <td>Marcy</td>\n",
              "      <td>Black/Gray/Copper</td>\n",
              "      <td>other</td>\n",
              "    </tr>\n",
              "  </tbody>\n",
              "</table>\n",
              "<p>1247558 rows × 15 columns</p>\n",
              "</div>"
            ],
            "text/plain": [
              "         example_id           query  query_id  product_id product_locale   \n",
              "1                 1   revent 80 cfm         0  B07X3Y6B1V             us  \\\n",
              "2                 2   revent 80 cfm         0  B07WDM7MQQ             us   \n",
              "3                 3   revent 80 cfm         0  B07RH6Z8KW             us   \n",
              "4                 4   revent 80 cfm         0  B07QJ7WYFQ             us   \n",
              "5                 5   revent 80 cfm         0  B076Q7V5WX             us   \n",
              "...             ...             ...       ...         ...            ...   \n",
              "2618563     2618563         자전거트레일러    130539  B07ZFJJZLF             us   \n",
              "2618564     2618564         자전거트레일러    130539  B07G5VLMN1             us   \n",
              "2618566     2618566         자전거트레일러    130539  B010LLGWL8             us   \n",
              "2618567     2618567         자전거트레일러    130539  B010LLGWKE             us   \n",
              "2618569     2618569         자전거트레일러    130539  B002KV1MJU             us   \n",
              "\n",
              "        esci_label  small_version  large_version  split   \n",
              "1                E              0              1  train  \\\n",
              "2                E              0              1  train   \n",
              "3                E              0              1  train   \n",
              "4                E              0              1  train   \n",
              "5                E              0              1  train   \n",
              "...            ...            ...            ...    ...   \n",
              "2618563          E              1              1  train   \n",
              "2618564          E              1              1  train   \n",
              "2618566          E              1              1  train   \n",
              "2618567          E              1              1  train   \n",
              "2618569          E              1              1  train   \n",
              "\n",
              "                                             product_title   \n",
              "1        Homewerks 7141-80 Bathroom Fan Integrated LED ...  \\\n",
              "2        Homewerks 7140-80 Bathroom Fan Ceiling Mount E...   \n",
              "3        Delta Electronics RAD80L BreezRadiance 80 CFM ...   \n",
              "4        Panasonic FV-08VRE2 Ventilation Fan with Reces...   \n",
              "5        Panasonic FV-0511VQ1 WhisperCeiling DC Ventila...   \n",
              "...                                                    ...   \n",
              "2618563  LivTee 5 pcs Auto Trim Removal Tool Kit, Inter...   \n",
              "2618564  MAXXHAUL 50025 Hitch Mounted 2-Bike Rack-100 l...   \n",
              "2618566  Burley Honey Bee, 2 Seat Kids Bike Trailer & S...   \n",
              "2618567  BURLEY Design Bee, 2 Seat, Lightweight, Kids B...   \n",
              "2618569  Marcy Recumbent Exercise Bike with Resistance ...   \n",
              "\n",
              "                                       product_description   \n",
              "1                                                     None  \\\n",
              "2                                                     None   \n",
              "3        This pre-owned or refurbished product has been...   \n",
              "4                                                     None   \n",
              "5                                                     None   \n",
              "...                                                    ...   \n",
              "2618563  5 pcs Auto Trim Removal Tool Kit, Interior Doo...   \n",
              "2618564                                               None   \n",
              "2618566                                               None   \n",
              "2618567                                               None   \n",
              "2618569                                               None   \n",
              "\n",
              "                                      product_bullet_point   \n",
              "1        OUTSTANDING PERFORMANCE: This Homewerk's bath ...  \\\n",
              "2        OUTSTANDING PERFORMANCE: This Homewerk's bath ...   \n",
              "3        Quiet operation at 1.5 sones\\nBuilt-in thermos...   \n",
              "4        The design solution for Fan/light combinations...   \n",
              "5        Installation: Features a 4-inch or 6-inch duct...   \n",
              "...                                                    ...   \n",
              "2618563  Made of super durable plastic material for lon...   \n",
              "2618564  Improved durable hitch adapter to fit standard...   \n",
              "2618566                                Sport Type: Cycling   \n",
              "2618567                                sport type: Cycling   \n",
              "2618569  STEP-THROUGH DESIGN – Featuring heavy-duty con...   \n",
              "\n",
              "                             product_brand      product_color source  \n",
              "1                                Homewerks             80 CFM  other  \n",
              "2                                Homewerks              White  other  \n",
              "3        DELTA ELECTRONICS (AMERICAS) LTD.              White  other  \n",
              "4                                Panasonic              White  other  \n",
              "5                                Panasonic              White  other  \n",
              "...                                    ...                ...    ...  \n",
              "2618563                             LivTee               Blue  other  \n",
              "2618564                           MAXXHAUL               None  other  \n",
              "2618566                      Burley Design                Red  other  \n",
              "2618567                      Burley Design             Yellow  other  \n",
              "2618569                              Marcy  Black/Gray/Copper  other  \n",
              "\n",
              "[1247558 rows x 15 columns]"
            ]
          },
          "execution_count": 40,
          "metadata": {},
          "output_type": "execute_result"
        }
      ],
      "source": [
        "df_examples_products_source"
      ]
    },
    {
      "cell_type": "code",
      "execution_count": null,
      "metadata": {
        "id": "rUaPXAtFm1p1",
        "outputId": "ee6de934-8303-408b-ea92-604ca18b2b1c"
      },
      "outputs": [
        {
          "data": {
            "text/plain": [
              "(1247558, 15)"
            ]
          },
          "execution_count": 41,
          "metadata": {},
          "output_type": "execute_result"
        }
      ],
      "source": [
        "df_examples_products_source.shape"
      ]
    },
    {
      "cell_type": "code",
      "execution_count": null,
      "metadata": {
        "colab": {
          "referenced_widgets": [
            "5028abffffa344d28c2061cbbe7e86ce"
          ]
        },
        "id": "nwemi-vgm1p1",
        "outputId": "b6c3f039-16fc-4520-cf7c-6b16fe207368"
      },
      "outputs": [
        {
          "data": {
            "application/vnd.jupyter.widget-view+json": {
              "model_id": "5028abffffa344d28c2061cbbe7e86ce",
              "version_major": 2,
              "version_minor": 0
            },
            "text/plain": [
              "Pandas Apply:   0%|          | 0/1247558 [00:00<?, ?it/s]"
            ]
          },
          "metadata": {},
          "output_type": "display_data"
        },
        {
          "name": "stderr",
          "output_type": "stream",
          "text": [
            "/var/folders/xk/bhmy4bbx4bx0zcb40qwkzw8w0000gp/T/ipykernel_28397/3356544802.py:10: SettingWithCopyWarning: \n",
            "A value is trying to be set on a copy of a slice from a DataFrame.\n",
            "Try using .loc[row_indexer,col_indexer] = value instead\n",
            "\n",
            "See the caveats in the documentation: https://pandas.pydata.org/pandas-docs/stable/user_guide/indexing.html#returning-a-view-versus-a-copy\n",
            "  df_examples_products_source['query'] = df_examples_products_source['query'].swifter.apply(detect_language)\n"
          ]
        }
      ],
      "source": [
        "#dropping all queries not in english\n",
        "import langid\n",
        "# Function to detect language using langid\n",
        "def detect_language(text):\n",
        "    lang, _ = langid.classify(text)\n",
        "    return lang == 'en'\n",
        "\n",
        "import swifter\n",
        "\n",
        "df_examples_products_source['query'] = df_examples_products_source['query'].swifter.apply(detect_language)"
      ]
    },
    {
      "cell_type": "code",
      "execution_count": null,
      "metadata": {
        "id": "NNXZlUQmm1p1"
      },
      "outputs": [],
      "source": [
        "df_examples_products_source.to_csv('examples_products_source_dataframe.csv', index=False)\n",
        "#all english sources"
      ]
    },
    {
      "cell_type": "code",
      "execution_count": null,
      "metadata": {
        "id": "BzY-arsMm1p1"
      },
      "outputs": [],
      "source": [
        "import pandas as pd\n",
        "df_examples_products_source = pd.read_csv('examples_products_source_dataframe.csv')"
      ]
    },
    {
      "cell_type": "code",
      "execution_count": null,
      "metadata": {
        "id": "b0xRJeAhm1p2",
        "outputId": "b2042355-0fb5-4933-b74b-19c392ddf1f2"
      },
      "outputs": [
        {
          "data": {
            "text/html": [
              "<div>\n",
              "<style scoped>\n",
              "    .dataframe tbody tr th:only-of-type {\n",
              "        vertical-align: middle;\n",
              "    }\n",
              "\n",
              "    .dataframe tbody tr th {\n",
              "        vertical-align: top;\n",
              "    }\n",
              "\n",
              "    .dataframe thead th {\n",
              "        text-align: right;\n",
              "    }\n",
              "</style>\n",
              "<table border=\"1\" class=\"dataframe\">\n",
              "  <thead>\n",
              "    <tr style=\"text-align: right;\">\n",
              "      <th></th>\n",
              "      <th>example_id</th>\n",
              "      <th>query</th>\n",
              "      <th>query_id</th>\n",
              "      <th>product_id</th>\n",
              "      <th>product_locale</th>\n",
              "      <th>esci_label</th>\n",
              "      <th>small_version</th>\n",
              "      <th>large_version</th>\n",
              "      <th>split</th>\n",
              "      <th>product_title</th>\n",
              "      <th>product_description</th>\n",
              "      <th>product_bullet_point</th>\n",
              "      <th>product_brand</th>\n",
              "      <th>product_color</th>\n",
              "      <th>source</th>\n",
              "    </tr>\n",
              "  </thead>\n",
              "  <tbody>\n",
              "    <tr>\n",
              "      <th>0</th>\n",
              "      <td>1</td>\n",
              "      <td>True</td>\n",
              "      <td>0</td>\n",
              "      <td>B07X3Y6B1V</td>\n",
              "      <td>us</td>\n",
              "      <td>E</td>\n",
              "      <td>0</td>\n",
              "      <td>1</td>\n",
              "      <td>train</td>\n",
              "      <td>Homewerks 7141-80 Bathroom Fan Integrated LED ...</td>\n",
              "      <td>NaN</td>\n",
              "      <td>OUTSTANDING PERFORMANCE: This Homewerk's bath ...</td>\n",
              "      <td>Homewerks</td>\n",
              "      <td>80 CFM</td>\n",
              "      <td>other</td>\n",
              "    </tr>\n",
              "    <tr>\n",
              "      <th>1</th>\n",
              "      <td>2</td>\n",
              "      <td>True</td>\n",
              "      <td>0</td>\n",
              "      <td>B07WDM7MQQ</td>\n",
              "      <td>us</td>\n",
              "      <td>E</td>\n",
              "      <td>0</td>\n",
              "      <td>1</td>\n",
              "      <td>train</td>\n",
              "      <td>Homewerks 7140-80 Bathroom Fan Ceiling Mount E...</td>\n",
              "      <td>NaN</td>\n",
              "      <td>OUTSTANDING PERFORMANCE: This Homewerk's bath ...</td>\n",
              "      <td>Homewerks</td>\n",
              "      <td>White</td>\n",
              "      <td>other</td>\n",
              "    </tr>\n",
              "  </tbody>\n",
              "</table>\n",
              "</div>"
            ],
            "text/plain": [
              "   example_id  query  query_id  product_id product_locale esci_label   \n",
              "0           1   True         0  B07X3Y6B1V             us          E  \\\n",
              "1           2   True         0  B07WDM7MQQ             us          E   \n",
              "\n",
              "   small_version  large_version  split   \n",
              "0              0              1  train  \\\n",
              "1              0              1  train   \n",
              "\n",
              "                                       product_title product_description   \n",
              "0  Homewerks 7141-80 Bathroom Fan Integrated LED ...                 NaN  \\\n",
              "1  Homewerks 7140-80 Bathroom Fan Ceiling Mount E...                 NaN   \n",
              "\n",
              "                                product_bullet_point product_brand   \n",
              "0  OUTSTANDING PERFORMANCE: This Homewerk's bath ...     Homewerks  \\\n",
              "1  OUTSTANDING PERFORMANCE: This Homewerk's bath ...     Homewerks   \n",
              "\n",
              "  product_color source  \n",
              "0        80 CFM  other  \n",
              "1         White  other  "
            ]
          },
          "execution_count": 14,
          "metadata": {},
          "output_type": "execute_result"
        }
      ],
      "source": [
        "df_examples_products_source.head(2)\n",
        "#1247558 rows × 15 columns"
      ]
    },
    {
      "cell_type": "code",
      "execution_count": null,
      "metadata": {
        "id": "uSoLYX-Qm1p2"
      },
      "outputs": [],
      "source": [
        "df_examples_products_source['product_detail'] = (\n",
        "    df_examples_products_source['product_title'].fillna('') +\n",
        "    \" \" +\n",
        "    df_examples_products_source['product_description'].fillna('')\n",
        ")\n"
      ]
    },
    {
      "cell_type": "code",
      "execution_count": null,
      "metadata": {
        "id": "bk8WlGbym1p2",
        "outputId": "522a66f7-52d9-4219-e9ba-ef071157dc83"
      },
      "outputs": [
        {
          "ename": "KeyError",
          "evalue": "\"['product_title'] not found in axis\"",
          "output_type": "error",
          "traceback": [
            "\u001b[0;31m---------------------------------------------------------------------------\u001b[0m",
            "\u001b[0;31mKeyError\u001b[0m                                  Traceback (most recent call last)",
            "\u001b[1;32m/Users/zeerakzubair/Documents/University/7th Semester/Deep Learning/Assignments/i201770_DL_Assignment3/task2/task2.ipynb Cell 18\u001b[0m line \u001b[0;36m1\n\u001b[0;32m----> <a href='vscode-notebook-cell:/Users/zeerakzubair/Documents/University/7th%20Semester/Deep%20Learning/Assignments/i201770_DL_Assignment3/task2/task2.ipynb#X30sZmlsZQ%3D%3D?line=0'>1</a>\u001b[0m df_examples_products_source\u001b[39m.\u001b[39;49mdrop(\u001b[39m'\u001b[39;49m\u001b[39mproduct_title\u001b[39;49m\u001b[39m'\u001b[39;49m, axis\u001b[39m=\u001b[39;49m\u001b[39m1\u001b[39;49m, inplace\u001b[39m=\u001b[39;49m\u001b[39mTrue\u001b[39;49;00m)\n\u001b[1;32m      <a href='vscode-notebook-cell:/Users/zeerakzubair/Documents/University/7th%20Semester/Deep%20Learning/Assignments/i201770_DL_Assignment3/task2/task2.ipynb#X30sZmlsZQ%3D%3D?line=1'>2</a>\u001b[0m df_examples_products_source\u001b[39m.\u001b[39mdrop(\u001b[39m'\u001b[39m\u001b[39mproduct_description\u001b[39m\u001b[39m'\u001b[39m, axis\u001b[39m=\u001b[39m\u001b[39m1\u001b[39m, inplace\u001b[39m=\u001b[39m\u001b[39mTrue\u001b[39;00m)\n",
            "File \u001b[0;32m/usr/local/lib/python3.11/site-packages/pandas/core/frame.py:5266\u001b[0m, in \u001b[0;36mDataFrame.drop\u001b[0;34m(self, labels, axis, index, columns, level, inplace, errors)\u001b[0m\n\u001b[1;32m   5118\u001b[0m \u001b[39mdef\u001b[39;00m \u001b[39mdrop\u001b[39m(\n\u001b[1;32m   5119\u001b[0m     \u001b[39mself\u001b[39m,\n\u001b[1;32m   5120\u001b[0m     labels: IndexLabel \u001b[39m=\u001b[39m \u001b[39mNone\u001b[39;00m,\n\u001b[0;32m   (...)\u001b[0m\n\u001b[1;32m   5127\u001b[0m     errors: IgnoreRaise \u001b[39m=\u001b[39m \u001b[39m\"\u001b[39m\u001b[39mraise\u001b[39m\u001b[39m\"\u001b[39m,\n\u001b[1;32m   5128\u001b[0m ) \u001b[39m-\u001b[39m\u001b[39m>\u001b[39m DataFrame \u001b[39m|\u001b[39m \u001b[39mNone\u001b[39;00m:\n\u001b[1;32m   5129\u001b[0m \u001b[39m    \u001b[39m\u001b[39m\"\"\"\u001b[39;00m\n\u001b[1;32m   5130\u001b[0m \u001b[39m    Drop specified labels from rows or columns.\u001b[39;00m\n\u001b[1;32m   5131\u001b[0m \n\u001b[0;32m   (...)\u001b[0m\n\u001b[1;32m   5264\u001b[0m \u001b[39m            weight  1.0     0.8\u001b[39;00m\n\u001b[1;32m   5265\u001b[0m \u001b[39m    \"\"\"\u001b[39;00m\n\u001b[0;32m-> 5266\u001b[0m     \u001b[39mreturn\u001b[39;00m \u001b[39msuper\u001b[39;49m()\u001b[39m.\u001b[39;49mdrop(\n\u001b[1;32m   5267\u001b[0m         labels\u001b[39m=\u001b[39;49mlabels,\n\u001b[1;32m   5268\u001b[0m         axis\u001b[39m=\u001b[39;49maxis,\n\u001b[1;32m   5269\u001b[0m         index\u001b[39m=\u001b[39;49mindex,\n\u001b[1;32m   5270\u001b[0m         columns\u001b[39m=\u001b[39;49mcolumns,\n\u001b[1;32m   5271\u001b[0m         level\u001b[39m=\u001b[39;49mlevel,\n\u001b[1;32m   5272\u001b[0m         inplace\u001b[39m=\u001b[39;49minplace,\n\u001b[1;32m   5273\u001b[0m         errors\u001b[39m=\u001b[39;49merrors,\n\u001b[1;32m   5274\u001b[0m     )\n",
            "File \u001b[0;32m/usr/local/lib/python3.11/site-packages/pandas/core/generic.py:4549\u001b[0m, in \u001b[0;36mNDFrame.drop\u001b[0;34m(self, labels, axis, index, columns, level, inplace, errors)\u001b[0m\n\u001b[1;32m   4547\u001b[0m \u001b[39mfor\u001b[39;00m axis, labels \u001b[39min\u001b[39;00m axes\u001b[39m.\u001b[39mitems():\n\u001b[1;32m   4548\u001b[0m     \u001b[39mif\u001b[39;00m labels \u001b[39mis\u001b[39;00m \u001b[39mnot\u001b[39;00m \u001b[39mNone\u001b[39;00m:\n\u001b[0;32m-> 4549\u001b[0m         obj \u001b[39m=\u001b[39m obj\u001b[39m.\u001b[39;49m_drop_axis(labels, axis, level\u001b[39m=\u001b[39;49mlevel, errors\u001b[39m=\u001b[39;49merrors)\n\u001b[1;32m   4551\u001b[0m \u001b[39mif\u001b[39;00m inplace:\n\u001b[1;32m   4552\u001b[0m     \u001b[39mself\u001b[39m\u001b[39m.\u001b[39m_update_inplace(obj)\n",
            "File \u001b[0;32m/usr/local/lib/python3.11/site-packages/pandas/core/generic.py:4591\u001b[0m, in \u001b[0;36mNDFrame._drop_axis\u001b[0;34m(self, labels, axis, level, errors, only_slice)\u001b[0m\n\u001b[1;32m   4589\u001b[0m         new_axis \u001b[39m=\u001b[39m axis\u001b[39m.\u001b[39mdrop(labels, level\u001b[39m=\u001b[39mlevel, errors\u001b[39m=\u001b[39merrors)\n\u001b[1;32m   4590\u001b[0m     \u001b[39melse\u001b[39;00m:\n\u001b[0;32m-> 4591\u001b[0m         new_axis \u001b[39m=\u001b[39m axis\u001b[39m.\u001b[39;49mdrop(labels, errors\u001b[39m=\u001b[39;49merrors)\n\u001b[1;32m   4592\u001b[0m     indexer \u001b[39m=\u001b[39m axis\u001b[39m.\u001b[39mget_indexer(new_axis)\n\u001b[1;32m   4594\u001b[0m \u001b[39m# Case for non-unique axis\u001b[39;00m\n\u001b[1;32m   4595\u001b[0m \u001b[39melse\u001b[39;00m:\n",
            "File \u001b[0;32m/usr/local/lib/python3.11/site-packages/pandas/core/indexes/base.py:6696\u001b[0m, in \u001b[0;36mIndex.drop\u001b[0;34m(self, labels, errors)\u001b[0m\n\u001b[1;32m   6694\u001b[0m \u001b[39mif\u001b[39;00m mask\u001b[39m.\u001b[39many():\n\u001b[1;32m   6695\u001b[0m     \u001b[39mif\u001b[39;00m errors \u001b[39m!=\u001b[39m \u001b[39m\"\u001b[39m\u001b[39mignore\u001b[39m\u001b[39m\"\u001b[39m:\n\u001b[0;32m-> 6696\u001b[0m         \u001b[39mraise\u001b[39;00m \u001b[39mKeyError\u001b[39;00m(\u001b[39mf\u001b[39m\u001b[39m\"\u001b[39m\u001b[39m{\u001b[39;00m\u001b[39mlist\u001b[39m(labels[mask])\u001b[39m}\u001b[39;00m\u001b[39m not found in axis\u001b[39m\u001b[39m\"\u001b[39m)\n\u001b[1;32m   6697\u001b[0m     indexer \u001b[39m=\u001b[39m indexer[\u001b[39m~\u001b[39mmask]\n\u001b[1;32m   6698\u001b[0m \u001b[39mreturn\u001b[39;00m \u001b[39mself\u001b[39m\u001b[39m.\u001b[39mdelete(indexer)\n",
            "\u001b[0;31mKeyError\u001b[0m: \"['product_title'] not found in axis\""
          ]
        }
      ],
      "source": [
        "df_examples_products_source.drop('product_title', axis=1, inplace=True)"
      ]
    },
    {
      "cell_type": "code",
      "execution_count": null,
      "metadata": {
        "id": "ERVI5vD-m1p2"
      },
      "outputs": [],
      "source": [
        "df_examples_products_source.drop('product_description', axis=1, inplace=True)"
      ]
    },
    {
      "cell_type": "code",
      "execution_count": null,
      "metadata": {
        "id": "BSF5boBIm1p2",
        "outputId": "85f72d6a-de83-4d36-dbe3-47d188206194"
      },
      "outputs": [
        {
          "data": {
            "text/html": [
              "<div>\n",
              "<style scoped>\n",
              "    .dataframe tbody tr th:only-of-type {\n",
              "        vertical-align: middle;\n",
              "    }\n",
              "\n",
              "    .dataframe tbody tr th {\n",
              "        vertical-align: top;\n",
              "    }\n",
              "\n",
              "    .dataframe thead th {\n",
              "        text-align: right;\n",
              "    }\n",
              "</style>\n",
              "<table border=\"1\" class=\"dataframe\">\n",
              "  <thead>\n",
              "    <tr style=\"text-align: right;\">\n",
              "      <th></th>\n",
              "      <th>example_id</th>\n",
              "      <th>query</th>\n",
              "      <th>query_id</th>\n",
              "      <th>product_id</th>\n",
              "      <th>product_locale</th>\n",
              "      <th>esci_label</th>\n",
              "      <th>small_version</th>\n",
              "      <th>large_version</th>\n",
              "      <th>split</th>\n",
              "      <th>product_bullet_point</th>\n",
              "      <th>product_brand</th>\n",
              "      <th>product_color</th>\n",
              "      <th>source</th>\n",
              "      <th>product_detail</th>\n",
              "    </tr>\n",
              "  </thead>\n",
              "  <tbody>\n",
              "    <tr>\n",
              "      <th>0</th>\n",
              "      <td>1</td>\n",
              "      <td>True</td>\n",
              "      <td>0</td>\n",
              "      <td>B07X3Y6B1V</td>\n",
              "      <td>us</td>\n",
              "      <td>E</td>\n",
              "      <td>0</td>\n",
              "      <td>1</td>\n",
              "      <td>train</td>\n",
              "      <td>OUTSTANDING PERFORMANCE: This Homewerk's bath ...</td>\n",
              "      <td>Homewerks</td>\n",
              "      <td>80 CFM</td>\n",
              "      <td>other</td>\n",
              "      <td>Homewerks 7141-80 Bathroom Fan Integrated LED ...</td>\n",
              "    </tr>\n",
              "  </tbody>\n",
              "</table>\n",
              "</div>"
            ],
            "text/plain": [
              "   example_id  query  query_id  product_id product_locale esci_label   \n",
              "0           1   True         0  B07X3Y6B1V             us          E  \\\n",
              "\n",
              "   small_version  large_version  split   \n",
              "0              0              1  train  \\\n",
              "\n",
              "                                product_bullet_point product_brand   \n",
              "0  OUTSTANDING PERFORMANCE: This Homewerk's bath ...     Homewerks  \\\n",
              "\n",
              "  product_color source                                     product_detail  \n",
              "0        80 CFM  other  Homewerks 7141-80 Bathroom Fan Integrated LED ...  "
            ]
          },
          "execution_count": 21,
          "metadata": {},
          "output_type": "execute_result"
        }
      ],
      "source": [
        "df_examples_products_source.head(1)"
      ]
    },
    {
      "cell_type": "code",
      "execution_count": null,
      "metadata": {
        "id": "vRRdvZmPm1p3"
      },
      "outputs": [],
      "source": [
        "# Specify the columns to drop\n",
        "\n",
        "# example_id\tquery\tquery_id\tproduct_id\tproduct_locale\tesci_label\tsmall_version\tlarge_version\tsplit\tproduct_title\tproduct_description\tproduct_bullet_point\tproduct_brand\tproduct_color\tsource\tproduct_details\n",
        "columns_to_drop = ['product_locale', 'esci_label', 'small_version', 'large_version', 'split', 'product_bullet_point', 'product_brand', 'product_color']\n",
        "\n",
        "# Drop the specified columns\n",
        "df_examples_products_source = df_examples_products_source.drop(columns=columns_to_drop)"
      ]
    },
    {
      "cell_type": "code",
      "execution_count": null,
      "metadata": {
        "id": "j3IqEcsEm1p3",
        "outputId": "43144463-774d-48ee-e3f3-8ffef4cf5d08"
      },
      "outputs": [
        {
          "data": {
            "text/html": [
              "<div>\n",
              "<style scoped>\n",
              "    .dataframe tbody tr th:only-of-type {\n",
              "        vertical-align: middle;\n",
              "    }\n",
              "\n",
              "    .dataframe tbody tr th {\n",
              "        vertical-align: top;\n",
              "    }\n",
              "\n",
              "    .dataframe thead th {\n",
              "        text-align: right;\n",
              "    }\n",
              "</style>\n",
              "<table border=\"1\" class=\"dataframe\">\n",
              "  <thead>\n",
              "    <tr style=\"text-align: right;\">\n",
              "      <th></th>\n",
              "      <th>example_id</th>\n",
              "      <th>query</th>\n",
              "      <th>query_id</th>\n",
              "      <th>product_id</th>\n",
              "      <th>source</th>\n",
              "      <th>product_detail</th>\n",
              "    </tr>\n",
              "  </thead>\n",
              "  <tbody>\n",
              "    <tr>\n",
              "      <th>0</th>\n",
              "      <td>1</td>\n",
              "      <td>True</td>\n",
              "      <td>0</td>\n",
              "      <td>B07X3Y6B1V</td>\n",
              "      <td>other</td>\n",
              "      <td>Homewerks 7141-80 Bathroom Fan Integrated LED ...</td>\n",
              "    </tr>\n",
              "    <tr>\n",
              "      <th>1</th>\n",
              "      <td>2</td>\n",
              "      <td>True</td>\n",
              "      <td>0</td>\n",
              "      <td>B07WDM7MQQ</td>\n",
              "      <td>other</td>\n",
              "      <td>Homewerks 7140-80 Bathroom Fan Ceiling Mount E...</td>\n",
              "    </tr>\n",
              "  </tbody>\n",
              "</table>\n",
              "</div>"
            ],
            "text/plain": [
              "   example_id  query  query_id  product_id source   \n",
              "0           1   True         0  B07X3Y6B1V  other  \\\n",
              "1           2   True         0  B07WDM7MQQ  other   \n",
              "\n",
              "                                      product_detail  \n",
              "0  Homewerks 7141-80 Bathroom Fan Integrated LED ...  \n",
              "1  Homewerks 7140-80 Bathroom Fan Ceiling Mount E...  "
            ]
          },
          "execution_count": 26,
          "metadata": {},
          "output_type": "execute_result"
        }
      ],
      "source": [
        "df_examples_products_source.head(2)"
      ]
    },
    {
      "cell_type": "code",
      "execution_count": null,
      "metadata": {
        "id": "AR36J1CKm1p3",
        "outputId": "2705f3a6-588f-4d3a-a5be-719a7ae150f2"
      },
      "outputs": [
        {
          "name": "stderr",
          "output_type": "stream",
          "text": [
            "[nltk_data] Downloading package punkt to\n",
            "[nltk_data]     /Users/zeerakzubair/nltk_data...\n",
            "[nltk_data]   Package punkt is already up-to-date!\n",
            "[nltk_data] Downloading package stopwords to\n",
            "[nltk_data]     /Users/zeerakzubair/nltk_data...\n",
            "[nltk_data]   Package stopwords is already up-to-date!\n",
            "[nltk_data] Downloading package wordnet to\n",
            "[nltk_data]     /Users/zeerakzubair/nltk_data...\n",
            "[nltk_data]   Package wordnet is already up-to-date!\n"
          ]
        }
      ],
      "source": [
        "import pandas as pd\n",
        "import nltk\n",
        "from nltk.corpus import stopwords\n",
        "from nltk.stem import WordNetLemmatizer\n",
        "from nltk.tokenize import word_tokenize\n",
        "import re\n",
        "\n",
        "# Download NLTK resources if not already downloaded\n",
        "nltk.download('punkt')\n",
        "nltk.download('stopwords')\n",
        "nltk.download('wordnet')\n",
        "\n",
        "def text_preprocessing(text):\n",
        "    # Convert to lowercase\n",
        "    text = text.lower()\n",
        "\n",
        "    # Remove special characters, numbers, and punctuation\n",
        "    text = re.sub(r'[^a-z\\s]', '', text)\n",
        "\n",
        "    # Tokenize the text\n",
        "    words = word_tokenize(text)\n",
        "\n",
        "    # Remove stopwords\n",
        "    stop_words = set(stopwords.words('english'))\n",
        "    words = [word for word in words if word not in stop_words]\n",
        "\n",
        "    # Lemmatization\n",
        "    lemmatizer = WordNetLemmatizer()\n",
        "    words = [lemmatizer.lemmatize(word) for word in words]\n",
        "\n",
        "    # Join the words back into a string\n",
        "    preprocessed_text = ' '.join(words)\n",
        "\n",
        "    return preprocessed_text\n",
        "\n"
      ]
    },
    {
      "cell_type": "code",
      "execution_count": null,
      "metadata": {
        "id": "O-ppiCJpm1p3"
      },
      "outputs": [],
      "source": [
        "# applying preprocessing on query and product detail\n",
        "\n",
        "df_examples_products_source['product_detail'] = df_examples_products_source['product_detail'].apply(text_preprocessing)\n"
      ]
    },
    {
      "cell_type": "code",
      "execution_count": null,
      "metadata": {
        "id": "rgIP5HAAm1p3",
        "outputId": "39a9504a-74ee-44e1-bd75-bdb1647c368c"
      },
      "outputs": [
        {
          "ename": "NameError",
          "evalue": "name 'df_examples_products_source' is not defined",
          "output_type": "error",
          "traceback": [
            "\u001b[0;31m---------------------------------------------------------------------------\u001b[0m",
            "\u001b[0;31mNameError\u001b[0m                                 Traceback (most recent call last)",
            "\u001b[1;32m/Users/zeerakzubair/Documents/University/7th Semester/Deep Learning/Assignments/i201770_DL_Assignment3/task2/task2.ipynb Cell 25\u001b[0m line \u001b[0;36m1\n\u001b[0;32m----> <a href='vscode-notebook-cell:/Users/zeerakzubair/Documents/University/7th%20Semester/Deep%20Learning/Assignments/i201770_DL_Assignment3/task2/task2.ipynb#X33sZmlsZQ%3D%3D?line=0'>1</a>\u001b[0m df_examples_products_source\u001b[39m.\u001b[39mto_csv(\u001b[39m'\u001b[39m\u001b[39mpreprocessed_data.csv\u001b[39m\u001b[39m'\u001b[39m, index\u001b[39m=\u001b[39m\u001b[39mFalse\u001b[39;00m)\n",
            "\u001b[0;31mNameError\u001b[0m: name 'df_examples_products_source' is not defined"
          ]
        }
      ],
      "source": [
        "df_examples_products_source.to_csv('preprocessed_data.csv', index=False)"
      ]
    },
    {
      "cell_type": "code",
      "execution_count": null,
      "metadata": {
        "id": "AZ2Wjbvfm1p4"
      },
      "outputs": [],
      "source": [
        "import pandas as pd\n",
        "df_examples_products_source = pd.read_csv('preprocessed_data.csv')"
      ]
    },
    {
      "cell_type": "code",
      "execution_count": null,
      "metadata": {
        "id": "FbBWaPN5m1p5"
      },
      "outputs": [],
      "source": [
        "df_examples = pd.read_parquet('./datasets/shopping_queries_dataset_examples.parquet')\n"
      ]
    },
    {
      "cell_type": "code",
      "execution_count": null,
      "metadata": {
        "id": "35d8K1yXm1p5",
        "outputId": "51e7bccf-6cb4-4add-a4ea-9614342900ba"
      },
      "outputs": [
        {
          "data": {
            "text/plain": [
              "(2621288, 9)"
            ]
          },
          "execution_count": 6,
          "metadata": {},
          "output_type": "execute_result"
        }
      ],
      "source": [
        "df_examples.shape"
      ]
    },
    {
      "cell_type": "code",
      "execution_count": null,
      "metadata": {
        "id": "kjOeEjfMm1p6",
        "outputId": "0c138c38-76f4-4d7a-8b63-5c8eb8f95276"
      },
      "outputs": [
        {
          "data": {
            "text/html": [
              "<div>\n",
              "<style scoped>\n",
              "    .dataframe tbody tr th:only-of-type {\n",
              "        vertical-align: middle;\n",
              "    }\n",
              "\n",
              "    .dataframe tbody tr th {\n",
              "        vertical-align: top;\n",
              "    }\n",
              "\n",
              "    .dataframe thead th {\n",
              "        text-align: right;\n",
              "    }\n",
              "</style>\n",
              "<table border=\"1\" class=\"dataframe\">\n",
              "  <thead>\n",
              "    <tr style=\"text-align: right;\">\n",
              "      <th></th>\n",
              "      <th>example_id</th>\n",
              "      <th>query</th>\n",
              "      <th>query_id</th>\n",
              "      <th>product_id</th>\n",
              "      <th>product_locale</th>\n",
              "      <th>esci_label</th>\n",
              "      <th>small_version</th>\n",
              "      <th>large_version</th>\n",
              "      <th>split</th>\n",
              "    </tr>\n",
              "  </thead>\n",
              "  <tbody>\n",
              "    <tr>\n",
              "      <th>0</th>\n",
              "      <td>0</td>\n",
              "      <td>revent 80 cfm</td>\n",
              "      <td>0</td>\n",
              "      <td>B000MOO21W</td>\n",
              "      <td>us</td>\n",
              "      <td>I</td>\n",
              "      <td>0</td>\n",
              "      <td>1</td>\n",
              "      <td>train</td>\n",
              "    </tr>\n",
              "    <tr>\n",
              "      <th>1</th>\n",
              "      <td>1</td>\n",
              "      <td>revent 80 cfm</td>\n",
              "      <td>0</td>\n",
              "      <td>B07X3Y6B1V</td>\n",
              "      <td>us</td>\n",
              "      <td>E</td>\n",
              "      <td>0</td>\n",
              "      <td>1</td>\n",
              "      <td>train</td>\n",
              "    </tr>\n",
              "  </tbody>\n",
              "</table>\n",
              "</div>"
            ],
            "text/plain": [
              "   example_id           query  query_id  product_id product_locale esci_label   \n",
              "0           0   revent 80 cfm         0  B000MOO21W             us          I  \\\n",
              "1           1   revent 80 cfm         0  B07X3Y6B1V             us          E   \n",
              "\n",
              "   small_version  large_version  split  \n",
              "0              0              1  train  \n",
              "1              0              1  train  "
            ]
          },
          "execution_count": 7,
          "metadata": {},
          "output_type": "execute_result"
        }
      ],
      "source": [
        "df_examples.head(2)"
      ]
    },
    {
      "cell_type": "code",
      "execution_count": null,
      "metadata": {
        "id": "Hl1RYxnXm1p6"
      },
      "outputs": [],
      "source": [
        "df_examples = df_examples[df_examples['product_locale'] == 'us']"
      ]
    },
    {
      "cell_type": "code",
      "execution_count": null,
      "metadata": {
        "id": "qH84va8Em1p6",
        "outputId": "e3f09e47-9b9e-47f2-9995-274e132eb830"
      },
      "outputs": [
        {
          "data": {
            "text/plain": [
              "(1818825, 9)"
            ]
          },
          "execution_count": 9,
          "metadata": {},
          "output_type": "execute_result"
        }
      ],
      "source": [
        "df_examples.shape"
      ]
    },
    {
      "cell_type": "code",
      "execution_count": null,
      "metadata": {
        "id": "vMwCiqkjm1p6"
      },
      "outputs": [],
      "source": [
        "df_examples = df_examples[df_examples['esci_label'] == 'E']"
      ]
    },
    {
      "cell_type": "code",
      "execution_count": null,
      "metadata": {
        "id": "7BqG6miBm1p6",
        "outputId": "f4769e6a-1c66-4c50-dcf7-efc3e3844263"
      },
      "outputs": [
        {
          "data": {
            "text/plain": [
              "(1247558, 9)"
            ]
          },
          "execution_count": 11,
          "metadata": {},
          "output_type": "execute_result"
        }
      ],
      "source": [
        "df_examples.shape"
      ]
    },
    {
      "cell_type": "code",
      "execution_count": null,
      "metadata": {
        "id": "IUYqduzom1p7"
      },
      "outputs": [],
      "source": [
        "# view the result of this representation"
      ]
    },
    {
      "cell_type": "code",
      "execution_count": null,
      "metadata": {
        "id": "SYAyRKqYm1p7",
        "outputId": "2449d589-8f12-4adf-e46a-70950869c7a3"
      },
      "outputs": [
        {
          "data": {
            "text/plain": [
              "(1247558, 6)"
            ]
          },
          "execution_count": 12,
          "metadata": {},
          "output_type": "execute_result"
        }
      ],
      "source": [
        "df_examples_products_source.shape"
      ]
    },
    {
      "cell_type": "code",
      "execution_count": null,
      "metadata": {
        "id": "6wfEwuP8m1p7"
      },
      "outputs": [],
      "source": [
        "df_examples_products_source['query'] = df_examples['query']"
      ]
    },
    {
      "cell_type": "code",
      "execution_count": null,
      "metadata": {
        "id": "i2TJB06im1p7",
        "outputId": "abebe9d2-3f23-4ff6-d427-4909f079af8f"
      },
      "outputs": [
        {
          "data": {
            "text/html": [
              "<div>\n",
              "<style scoped>\n",
              "    .dataframe tbody tr th:only-of-type {\n",
              "        vertical-align: middle;\n",
              "    }\n",
              "\n",
              "    .dataframe tbody tr th {\n",
              "        vertical-align: top;\n",
              "    }\n",
              "\n",
              "    .dataframe thead th {\n",
              "        text-align: right;\n",
              "    }\n",
              "</style>\n",
              "<table border=\"1\" class=\"dataframe\">\n",
              "  <thead>\n",
              "    <tr style=\"text-align: right;\">\n",
              "      <th></th>\n",
              "      <th>example_id</th>\n",
              "      <th>query</th>\n",
              "      <th>query_id</th>\n",
              "      <th>product_id</th>\n",
              "      <th>source</th>\n",
              "      <th>product_detail</th>\n",
              "    </tr>\n",
              "  </thead>\n",
              "  <tbody>\n",
              "    <tr>\n",
              "      <th>0</th>\n",
              "      <td>1</td>\n",
              "      <td>NaN</td>\n",
              "      <td>0</td>\n",
              "      <td>B07X3Y6B1V</td>\n",
              "      <td>other</td>\n",
              "      <td>homewerks bathroom fan integrated led light ce...</td>\n",
              "    </tr>\n",
              "    <tr>\n",
              "      <th>1</th>\n",
              "      <td>2</td>\n",
              "      <td>revent 80 cfm</td>\n",
              "      <td>0</td>\n",
              "      <td>B07WDM7MQQ</td>\n",
              "      <td>other</td>\n",
              "      <td>homewerks bathroom fan ceiling mount exhaust v...</td>\n",
              "    </tr>\n",
              "  </tbody>\n",
              "</table>\n",
              "</div>"
            ],
            "text/plain": [
              "   example_id           query  query_id  product_id source   \n",
              "0           1             NaN         0  B07X3Y6B1V  other  \\\n",
              "1           2   revent 80 cfm         0  B07WDM7MQQ  other   \n",
              "\n",
              "                                      product_detail  \n",
              "0  homewerks bathroom fan integrated led light ce...  \n",
              "1  homewerks bathroom fan ceiling mount exhaust v...  "
            ]
          },
          "execution_count": 14,
          "metadata": {},
          "output_type": "execute_result"
        }
      ],
      "source": [
        "df_examples_products_source.head(2)"
      ]
    },
    {
      "cell_type": "code",
      "execution_count": null,
      "metadata": {
        "id": "sXpvAQWMm1p7"
      },
      "outputs": [],
      "source": [
        "df_examples_products_source.to_csv('preprocessed_data.csv', index=False)"
      ]
    },
    {
      "cell_type": "code",
      "execution_count": null,
      "metadata": {
        "id": "8oPXNCdpm1p7"
      },
      "outputs": [],
      "source": [
        "df_examples_products_source['query'] = df_examples_products_source['query'].fillna('')  # Replace NaN with empty string\n"
      ]
    },
    {
      "cell_type": "code",
      "execution_count": null,
      "metadata": {
        "id": "I8dS6yNYm1qG"
      },
      "outputs": [],
      "source": [
        "# -----------------------------------HERE DUMMY-----------------------------"
      ]
    },
    {
      "cell_type": "code",
      "execution_count": null,
      "metadata": {
        "id": "YE_qU4tBm1qG",
        "outputId": "f3290f2e-2d9d-43f8-9f61-7685e9903076"
      },
      "outputs": [
        {
          "data": {
            "text/html": [
              "<div>\n",
              "<style scoped>\n",
              "    .dataframe tbody tr th:only-of-type {\n",
              "        vertical-align: middle;\n",
              "    }\n",
              "\n",
              "    .dataframe tbody tr th {\n",
              "        vertical-align: top;\n",
              "    }\n",
              "\n",
              "    .dataframe thead th {\n",
              "        text-align: right;\n",
              "    }\n",
              "</style>\n",
              "<table border=\"1\" class=\"dataframe\">\n",
              "  <thead>\n",
              "    <tr style=\"text-align: right;\">\n",
              "      <th></th>\n",
              "      <th>example_id</th>\n",
              "      <th>query</th>\n",
              "      <th>query_id</th>\n",
              "      <th>product_id</th>\n",
              "      <th>source</th>\n",
              "      <th>product_detail</th>\n",
              "    </tr>\n",
              "  </thead>\n",
              "  <tbody>\n",
              "    <tr>\n",
              "      <th>0</th>\n",
              "      <td>1</td>\n",
              "      <td>NaN</td>\n",
              "      <td>0</td>\n",
              "      <td>B07X3Y6B1V</td>\n",
              "      <td>other</td>\n",
              "      <td>homewerks bathroom fan integrated led light ce...</td>\n",
              "    </tr>\n",
              "    <tr>\n",
              "      <th>1</th>\n",
              "      <td>2</td>\n",
              "      <td>revent 80 cfm</td>\n",
              "      <td>0</td>\n",
              "      <td>B07WDM7MQQ</td>\n",
              "      <td>other</td>\n",
              "      <td>homewerks bathroom fan ceiling mount exhaust v...</td>\n",
              "    </tr>\n",
              "    <tr>\n",
              "      <th>2</th>\n",
              "      <td>3</td>\n",
              "      <td>revent 80 cfm</td>\n",
              "      <td>0</td>\n",
              "      <td>B07RH6Z8KW</td>\n",
              "      <td>other</td>\n",
              "      <td>delta electronics radl breezradiance cfm heate...</td>\n",
              "    </tr>\n",
              "    <tr>\n",
              "      <th>3</th>\n",
              "      <td>4</td>\n",
              "      <td>revent 80 cfm</td>\n",
              "      <td>0</td>\n",
              "      <td>B07QJ7WYFQ</td>\n",
              "      <td>other</td>\n",
              "      <td>panasonic fvvre ventilation fan recessed led r...</td>\n",
              "    </tr>\n",
              "    <tr>\n",
              "      <th>4</th>\n",
              "      <td>5</td>\n",
              "      <td>revent 80 cfm</td>\n",
              "      <td>0</td>\n",
              "      <td>B076Q7V5WX</td>\n",
              "      <td>other</td>\n",
              "      <td>panasonic fvvq whisperceiling dc ventilation f...</td>\n",
              "    </tr>\n",
              "    <tr>\n",
              "      <th>...</th>\n",
              "      <td>...</td>\n",
              "      <td>...</td>\n",
              "      <td>...</td>\n",
              "      <td>...</td>\n",
              "      <td>...</td>\n",
              "      <td>...</td>\n",
              "    </tr>\n",
              "    <tr>\n",
              "      <th>1247553</th>\n",
              "      <td>2618563</td>\n",
              "      <td>loftek</td>\n",
              "      <td>130539</td>\n",
              "      <td>B07ZFJJZLF</td>\n",
              "      <td>other</td>\n",
              "      <td>livtee pc auto trim removal tool kit interior ...</td>\n",
              "    </tr>\n",
              "    <tr>\n",
              "      <th>1247554</th>\n",
              "      <td>2618564</td>\n",
              "      <td>loftek</td>\n",
              "      <td>130539</td>\n",
              "      <td>B07G5VLMN1</td>\n",
              "      <td>other</td>\n",
              "      <td>maxxhaul hitch mounted bike rack lb capacity</td>\n",
              "    </tr>\n",
              "    <tr>\n",
              "      <th>1247555</th>\n",
              "      <td>2618566</td>\n",
              "      <td>loftek</td>\n",
              "      <td>130539</td>\n",
              "      <td>B010LLGWL8</td>\n",
              "      <td>other</td>\n",
              "      <td>burley honey bee seat kid bike trailer strolle...</td>\n",
              "    </tr>\n",
              "    <tr>\n",
              "      <th>1247556</th>\n",
              "      <td>2618567</td>\n",
              "      <td>lofters for men</td>\n",
              "      <td>130539</td>\n",
              "      <td>B010LLGWKE</td>\n",
              "      <td>other</td>\n",
              "      <td>burley design bee seat lightweight kid bikeonl...</td>\n",
              "    </tr>\n",
              "    <tr>\n",
              "      <th>1247557</th>\n",
              "      <td>2618569</td>\n",
              "      <td>lofters for men</td>\n",
              "      <td>130539</td>\n",
              "      <td>B002KV1MJU</td>\n",
              "      <td>other</td>\n",
              "      <td>marcy recumbent exercise bike resistance</td>\n",
              "    </tr>\n",
              "  </tbody>\n",
              "</table>\n",
              "<p>1247558 rows × 6 columns</p>\n",
              "</div>"
            ],
            "text/plain": [
              "         example_id            query  query_id  product_id source   \n",
              "0                 1              NaN         0  B07X3Y6B1V  other  \\\n",
              "1                 2    revent 80 cfm         0  B07WDM7MQQ  other   \n",
              "2                 3    revent 80 cfm         0  B07RH6Z8KW  other   \n",
              "3                 4    revent 80 cfm         0  B07QJ7WYFQ  other   \n",
              "4                 5    revent 80 cfm         0  B076Q7V5WX  other   \n",
              "...             ...              ...       ...         ...    ...   \n",
              "1247553     2618563           loftek    130539  B07ZFJJZLF  other   \n",
              "1247554     2618564           loftek    130539  B07G5VLMN1  other   \n",
              "1247555     2618566           loftek    130539  B010LLGWL8  other   \n",
              "1247556     2618567  lofters for men    130539  B010LLGWKE  other   \n",
              "1247557     2618569  lofters for men    130539  B002KV1MJU  other   \n",
              "\n",
              "                                            product_detail  \n",
              "0        homewerks bathroom fan integrated led light ce...  \n",
              "1        homewerks bathroom fan ceiling mount exhaust v...  \n",
              "2        delta electronics radl breezradiance cfm heate...  \n",
              "3        panasonic fvvre ventilation fan recessed led r...  \n",
              "4        panasonic fvvq whisperceiling dc ventilation f...  \n",
              "...                                                    ...  \n",
              "1247553  livtee pc auto trim removal tool kit interior ...  \n",
              "1247554       maxxhaul hitch mounted bike rack lb capacity  \n",
              "1247555  burley honey bee seat kid bike trailer strolle...  \n",
              "1247556  burley design bee seat lightweight kid bikeonl...  \n",
              "1247557           marcy recumbent exercise bike resistance  \n",
              "\n",
              "[1247558 rows x 6 columns]"
            ]
          },
          "execution_count": 1,
          "metadata": {},
          "output_type": "execute_result"
        }
      ],
      "source": [
        "import pandas as pd\n",
        "df_examples_products_source = pd.read_csv('preprocessed_data.csv')\n",
        "df_examples_products_source"
      ]
    },
    {
      "cell_type": "code",
      "execution_count": null,
      "metadata": {
        "id": "BoD3zrvVm1qG",
        "outputId": "d2b13798-46b3-4daf-948b-e941c0a2f6fc"
      },
      "outputs": [
        {
          "data": {
            "text/html": [
              "<div>\n",
              "<style scoped>\n",
              "    .dataframe tbody tr th:only-of-type {\n",
              "        vertical-align: middle;\n",
              "    }\n",
              "\n",
              "    .dataframe tbody tr th {\n",
              "        vertical-align: top;\n",
              "    }\n",
              "\n",
              "    .dataframe thead th {\n",
              "        text-align: right;\n",
              "    }\n",
              "</style>\n",
              "<table border=\"1\" class=\"dataframe\">\n",
              "  <thead>\n",
              "    <tr style=\"text-align: right;\">\n",
              "      <th></th>\n",
              "      <th>query</th>\n",
              "      <th>product_detail</th>\n",
              "    </tr>\n",
              "  </thead>\n",
              "  <tbody>\n",
              "    <tr>\n",
              "      <th>0</th>\n",
              "      <td>NaN</td>\n",
              "      <td>homewerks bathroom fan integrated led light ce...</td>\n",
              "    </tr>\n",
              "    <tr>\n",
              "      <th>1</th>\n",
              "      <td>revent 80 cfm</td>\n",
              "      <td>homewerks bathroom fan ceiling mount exhaust v...</td>\n",
              "    </tr>\n",
              "    <tr>\n",
              "      <th>2</th>\n",
              "      <td>revent 80 cfm</td>\n",
              "      <td>delta electronics radl breezradiance cfm heate...</td>\n",
              "    </tr>\n",
              "    <tr>\n",
              "      <th>3</th>\n",
              "      <td>revent 80 cfm</td>\n",
              "      <td>panasonic fvvre ventilation fan recessed led r...</td>\n",
              "    </tr>\n",
              "    <tr>\n",
              "      <th>4</th>\n",
              "      <td>revent 80 cfm</td>\n",
              "      <td>panasonic fvvq whisperceiling dc ventilation f...</td>\n",
              "    </tr>\n",
              "    <tr>\n",
              "      <th>...</th>\n",
              "      <td>...</td>\n",
              "      <td>...</td>\n",
              "    </tr>\n",
              "    <tr>\n",
              "      <th>1247553</th>\n",
              "      <td>loftek</td>\n",
              "      <td>livtee pc auto trim removal tool kit interior ...</td>\n",
              "    </tr>\n",
              "    <tr>\n",
              "      <th>1247554</th>\n",
              "      <td>loftek</td>\n",
              "      <td>maxxhaul hitch mounted bike rack lb capacity</td>\n",
              "    </tr>\n",
              "    <tr>\n",
              "      <th>1247555</th>\n",
              "      <td>loftek</td>\n",
              "      <td>burley honey bee seat kid bike trailer strolle...</td>\n",
              "    </tr>\n",
              "    <tr>\n",
              "      <th>1247556</th>\n",
              "      <td>lofters for men</td>\n",
              "      <td>burley design bee seat lightweight kid bikeonl...</td>\n",
              "    </tr>\n",
              "    <tr>\n",
              "      <th>1247557</th>\n",
              "      <td>lofters for men</td>\n",
              "      <td>marcy recumbent exercise bike resistance</td>\n",
              "    </tr>\n",
              "  </tbody>\n",
              "</table>\n",
              "<p>1247558 rows × 2 columns</p>\n",
              "</div>"
            ],
            "text/plain": [
              "                   query                                     product_detail\n",
              "0                    NaN  homewerks bathroom fan integrated led light ce...\n",
              "1          revent 80 cfm  homewerks bathroom fan ceiling mount exhaust v...\n",
              "2          revent 80 cfm  delta electronics radl breezradiance cfm heate...\n",
              "3          revent 80 cfm  panasonic fvvre ventilation fan recessed led r...\n",
              "4          revent 80 cfm  panasonic fvvq whisperceiling dc ventilation f...\n",
              "...                  ...                                                ...\n",
              "1247553           loftek  livtee pc auto trim removal tool kit interior ...\n",
              "1247554           loftek       maxxhaul hitch mounted bike rack lb capacity\n",
              "1247555           loftek  burley honey bee seat kid bike trailer strolle...\n",
              "1247556  lofters for men  burley design bee seat lightweight kid bikeonl...\n",
              "1247557  lofters for men           marcy recumbent exercise bike resistance\n",
              "\n",
              "[1247558 rows x 2 columns]"
            ]
          },
          "execution_count": 2,
          "metadata": {},
          "output_type": "execute_result"
        }
      ],
      "source": [
        "# Drop the specified columns\n",
        "columns_to_drop = ['example_id','query_id','product_id','source']\n",
        "df_examples_products_source = df_examples_products_source.drop(columns=columns_to_drop)\n",
        "df_examples_products_source"
      ]
    },
    {
      "cell_type": "code",
      "execution_count": 1,
      "metadata": {
        "colab": {
          "base_uri": "https://localhost:8080/",
          "height": 179
        },
        "id": "9XwylMpPm1qG",
        "outputId": "09103ef0-de67-4703-c328-fa3786d9cfd7"
      },
      "outputs": [
        {
          "ename": "NameError",
          "evalue": "ignored",
          "output_type": "error",
          "traceback": [
            "\u001b[0;31m---------------------------------------------------------------------------\u001b[0m",
            "\u001b[0;31mNameError\u001b[0m                                 Traceback (most recent call last)",
            "\u001b[0;32m<ipython-input-1-526c2619ba80>\u001b[0m in \u001b[0;36m<cell line: 1>\u001b[0;34m()\u001b[0m\n\u001b[0;32m----> 1\u001b[0;31m \u001b[0mdf_examples_products_source\u001b[0m\u001b[0;34m.\u001b[0m\u001b[0mto_csv\u001b[0m\u001b[0;34m(\u001b[0m\u001b[0;34m'/content/query_product_detail.csv'\u001b[0m\u001b[0;34m,\u001b[0m \u001b[0mindex\u001b[0m\u001b[0;34m=\u001b[0m\u001b[0;32mFalse\u001b[0m\u001b[0;34m)\u001b[0m\u001b[0;34m\u001b[0m\u001b[0;34m\u001b[0m\u001b[0m\n\u001b[0m",
            "\u001b[0;31mNameError\u001b[0m: name 'df_examples_products_source' is not defined"
          ]
        }
      ],
      "source": [
        "df_examples_products_source.to_csv('/content/query_product_detail.csv', index=False)"
      ]
    },
    {
      "cell_type": "code",
      "execution_count": null,
      "metadata": {
        "id": "QJNBY8FFm1qG"
      },
      "outputs": [],
      "source": [
        "##------------------------HERE DUMMY------------------------"
      ]
    },
    {
      "cell_type": "code",
      "execution_count": 1,
      "metadata": {
        "id": "wOR8ColWm1qH"
      },
      "outputs": [],
      "source": [
        "import pandas as pd\n",
        "num_rows = 10000\n",
        "df_examples_products_source = pd.read_csv('/content/query_product_detail.csv', nrows=num_rows)"
      ]
    },
    {
      "cell_type": "code",
      "execution_count": null,
      "metadata": {
        "id": "FkzaIftHm1qH"
      },
      "outputs": [],
      "source": []
    },
    {
      "cell_type": "code",
      "execution_count": 2,
      "metadata": {
        "id": "ThsO8kiZm1qH"
      },
      "outputs": [],
      "source": [
        "# Assuming df_examples_products_source is your DataFrame\n",
        "# X: 'query', y: 'product_detail'\n",
        "X = df_examples_products_source['query'].fillna('')  # Handle NaN values\n",
        "y = df_examples_products_source['product_detail'].fillna('')"
      ]
    },
    {
      "cell_type": "code",
      "execution_count": 3,
      "metadata": {
        "colab": {
          "base_uri": "https://localhost:8080/"
        },
        "id": "-5NNrSZTm1qH",
        "outputId": "6c2a530d-29b4-44d2-94d2-a4ca7849f83b"
      },
      "outputs": [
        {
          "name": "stdout",
          "output_type": "stream",
          "text": [
            " revent 80 cfm\n"
          ]
        }
      ],
      "source": [
        "print(X[1])"
      ]
    },
    {
      "cell_type": "code",
      "execution_count": 4,
      "metadata": {
        "colab": {
          "base_uri": "https://localhost:8080/"
        },
        "id": "HSbnNKTVm1qH",
        "outputId": "011da9b0-ea56-4640-d2f6-d097a50b1de3"
      },
      "outputs": [
        {
          "name": "stdout",
          "output_type": "stream",
          "text": [
            "homewerks bathroom fan ceiling mount exhaust ventilation sone cfm white\n"
          ]
        }
      ],
      "source": [
        "print(y[1])"
      ]
    },
    {
      "cell_type": "code",
      "execution_count": 5,
      "metadata": {
        "id": "VKLaJGiSm1qH"
      },
      "outputs": [],
      "source": [
        "# #this is from the first attempt led to kernel crash\n",
        "# from sklearn.model_selection import train_test_split\n",
        "# from sklearn.feature_extraction.text import TfidfVectorizer\n",
        "# from sklearn.linear_model import LogisticRegression\n",
        "# from sklearn.metrics import accuracy_score, classification_report\n",
        "\n",
        "# # Split the data into training and testing sets\n",
        "# X_train, X_test, y_train, y_test = train_test_split(X, y, test_size=0.2, random_state=42)\n",
        "\n",
        "# # Convert text data to numerical representation using TF-IDF\n",
        "# vectorizer = TfidfVectorizer(max_features=5000, stop_words='english')\n",
        "# X_train_tfidf = vectorizer.fit_transform(X_train)\n",
        "# X_test_tfidf = vectorizer.transform(X_test)\n",
        "\n",
        "# # Train a logistic regression classifier\n",
        "# model = LogisticRegression(max_iter=250)\n",
        "# model.fit(X_train_tfidf, y_train)\n",
        "\n",
        "# # Predictions on the test set\n",
        "# y_pred = model.predict(X_test_tfidf)\n",
        "\n",
        "# # Evaluate the model\n",
        "# accuracy = accuracy_score(y_test, y_pred)\n",
        "# print(\"Accuracy:\", accuracy)\n",
        "\n",
        "# # Additional evaluation metrics\n",
        "# print(\"\\nClassification Report:\")\n",
        "# print(classification_report(y_test, y_pred))\n"
      ]
    },
    {
      "cell_type": "code",
      "execution_count": 6,
      "metadata": {
        "id": "t_-42wfIm1qI"
      },
      "outputs": [],
      "source": [
        "# # trying to use BERT\n",
        "# import torch\n",
        "# from transformers import BertTokenizer, BertForSequenceClassification\n",
        "# from torch.nn.functional import softmax\n",
        "\n",
        "# # Load pre-trained BERT model and tokenizer\n",
        "# tokenizer = BertTokenizer.from_pretrained('bert-base-uncased')\n",
        "# model = BertForSequenceClassification.from_pretrained('bert-base-uncased', num_labels=1)\n",
        "\n",
        "# # Encode the input query\n",
        "# input_query = \"revent 80 cfm\"\n",
        "# encoded_input = tokenizer(input_query, return_tensors='pt')\n",
        "\n",
        "# # Make a prediction\n",
        "# with torch.no_grad():\n",
        "#     output = model(**encoded_input)\n",
        "\n",
        "# # Get the predicted class probabilities\n",
        "# probabilities = softmax(output.logits, dim=1).numpy()\n",
        "\n",
        "# # Print or use the probabilities as needed\n",
        "# print(probabilities)\n"
      ]
    },
    {
      "cell_type": "code",
      "execution_count": 7,
      "metadata": {
        "colab": {
          "base_uri": "https://localhost:8080/"
        },
        "id": "MmwPV2f8m1qI",
        "outputId": "24add676-a548-40c4-da6a-e9d37acc9600"
      },
      "outputs": [
        {
          "name": "stdout",
          "output_type": "stream",
          "text": [
            "       00  030   05   09   10  100  10an   11   12   13  ...  yell  yellow  \\\n",
            "0     0.0  0.0  0.0  0.0  0.0  0.0   0.0  0.0  0.0  0.0  ...   0.0     0.0   \n",
            "1     0.0  0.0  0.0  0.0  0.0  0.0   0.0  0.0  0.0  0.0  ...   0.0     0.0   \n",
            "2     0.0  0.0  0.0  0.0  0.0  0.0   0.0  0.0  0.0  0.0  ...   0.0     0.0   \n",
            "3     0.0  0.0  0.0  0.0  0.0  0.0   0.0  0.0  0.0  0.0  ...   0.0     0.0   \n",
            "4     0.0  0.0  0.0  0.0  0.0  0.0   0.0  0.0  0.0  0.0  ...   0.0     0.0   \n",
            "...   ...  ...  ...  ...  ...  ...   ...  ...  ...  ...  ...   ...     ...   \n",
            "9995  0.0  0.0  0.0  0.0  0.0  0.0   0.0  0.0  0.0  0.0  ...   0.0     0.0   \n",
            "9996  0.0  0.0  0.0  0.0  0.0  0.0   0.0  0.0  0.0  0.0  ...   0.0     0.0   \n",
            "9997  0.0  0.0  0.0  0.0  0.0  0.0   0.0  0.0  0.0  0.0  ...   0.0     0.0   \n",
            "9998  0.0  0.0  0.0  0.0  0.0  0.0   0.0  0.0  0.0  0.0  ...   0.0     0.0   \n",
            "9999  0.0  0.0  0.0  0.0  0.0  0.0   0.0  0.0  0.0  0.0  ...   0.0     0.0   \n",
            "\n",
            "      yes  yinseng  yogourt  you  your  zer0  zero  zipper  \n",
            "0     0.0      0.0      0.0  0.0   0.0   0.0   0.0     0.0  \n",
            "1     0.0      0.0      0.0  0.0   0.0   0.0   0.0     0.0  \n",
            "2     0.0      0.0      0.0  0.0   0.0   0.0   0.0     0.0  \n",
            "3     0.0      0.0      0.0  0.0   0.0   0.0   0.0     0.0  \n",
            "4     0.0      0.0      0.0  0.0   0.0   0.0   0.0     0.0  \n",
            "...   ...      ...      ...  ...   ...   ...   ...     ...  \n",
            "9995  0.0      0.0      0.0  0.0   0.0   0.0   0.0     0.0  \n",
            "9996  0.0      0.0      0.0  0.0   0.0   0.0   0.0     0.0  \n",
            "9997  0.0      0.0      0.0  0.0   0.0   0.0   0.0     0.0  \n",
            "9998  0.0      0.0      0.0  0.0   0.0   0.0   0.0     0.0  \n",
            "9999  0.0      0.0      0.0  0.0   0.0   0.0   0.0     0.0  \n",
            "\n",
            "[10000 rows x 824 columns]\n"
          ]
        }
      ],
      "source": [
        "#using TF-IDF\n",
        "import pandas as pd\n",
        "from sklearn.feature_extraction.text import TfidfVectorizer\n",
        "\n",
        "# Apply TF-IDF on the 'query' column\n",
        "vectorizer = TfidfVectorizer()\n",
        "X_tfidf = vectorizer.fit_transform(X)\n",
        "\n",
        "# Convert the TF-IDF matrix to a DataFrame for better visualization\n",
        "tfidf_df = pd.DataFrame(X_tfidf.toarray(), columns=vectorizer.get_feature_names_out())\n",
        "\n",
        "# Display the TF-IDF results\n",
        "print(tfidf_df)\n"
      ]
    },
    {
      "cell_type": "code",
      "execution_count": 8,
      "metadata": {
        "id": "NjN1m9UXm1qI"
      },
      "outputs": [],
      "source": [
        "# import seaborn as sns\n",
        "# import matplotlib.pyplot as plt\n",
        "\n",
        "# # Create a heatmap using Seaborn\n",
        "# plt.figure(figsize=(10, 6))\n",
        "# sns.heatmap(tfidf_df, cmap='viridis', annot=True, fmt=\".2f\", xticklabels=1)\n",
        "# plt.title('TF-IDF Heatmap for Queries')\n",
        "# plt.xlabel('Terms')\n",
        "# plt.ylabel('Queries')\n",
        "# plt.show()"
      ]
    },
    {
      "cell_type": "code",
      "execution_count": 9,
      "metadata": {
        "colab": {
          "base_uri": "https://localhost:8080/",
          "height": 991
        },
        "id": "5MzbLJTfm1qI",
        "outputId": "f5a485de-a061-45e0-add3-c0217472db4c"
      },
      "outputs": [
        {
          "name": "stdout",
          "output_type": "stream",
          "text": [
            "Vector for 'revent': [-6.45882711e-02  1.25115946e-01  9.49685052e-02 -1.57833267e-02\n",
            " -8.76573322e-04 -1.53892815e-01  2.61672661e-02  2.69331336e-01\n",
            " -9.23583582e-02 -5.16245258e-04 -3.00307199e-02 -1.17860816e-01\n",
            "  4.30506840e-02  1.31633610e-01  1.87770894e-03  7.36792684e-02\n",
            "  5.53598953e-03 -8.46572593e-02 -7.49957785e-02 -2.30282888e-01\n",
            "  8.24799091e-02 -1.62505265e-02  2.34182272e-02 -6.35311753e-02\n",
            " -2.40757298e-02 -1.50871510e-02  1.12951333e-02 -1.13433927e-01\n",
            " -8.02987814e-02  6.10004999e-02 -2.29835063e-02 -3.57968360e-02\n",
            "  3.90314683e-02 -1.37149252e-03 -3.79995108e-02  3.10870763e-02\n",
            " -1.95079222e-02 -6.55748695e-02 -2.73923147e-02 -2.38412604e-01\n",
            "  2.74371002e-02  1.26697376e-01 -1.14829205e-01  4.29178216e-02\n",
            "  1.04570098e-01 -8.39536265e-02 -2.15847969e-01 -3.77427880e-03\n",
            "  6.72004670e-02 -2.09457963e-03  1.90313924e-02 -1.06901847e-01\n",
            "  5.49087226e-02  7.50512034e-02  9.08228830e-02  1.49502773e-02\n",
            "  1.05261952e-01 -9.21517387e-02 -5.18727228e-02 -2.42772270e-02\n",
            " -5.11682294e-02  8.20907392e-03 -2.02567130e-02 -1.71057433e-02\n",
            " -9.65324789e-02  4.92362976e-02  1.07171781e-01  1.93674564e-02\n",
            " -1.35919183e-01  1.61461249e-01 -1.12518951e-01 -1.33726485e-02\n",
            "  8.48570913e-02 -4.77912575e-02  6.21386692e-02  1.09114908e-01\n",
            "  1.94991454e-01 -8.60456526e-02 -1.65112630e-01 -2.82199904e-02\n",
            " -6.99922070e-02 -6.80583864e-02  4.40814793e-02 -1.52784007e-04\n",
            " -8.47924799e-02  3.20410989e-02 -9.25574005e-02  3.18215862e-02\n",
            "  3.93585041e-02  7.85174221e-02  9.90359262e-02  1.33401647e-01\n",
            "  3.10076773e-02  2.52966136e-02  2.58296281e-01  9.66637284e-02\n",
            "  2.40673348e-02 -6.25951588e-02 -6.63342997e-02  1.37770116e-01]\n"
          ]
        },
        {
          "data": {
            "image/png": "[encoded data removed]",
            "text/plain": [
              "<Figure size 1000x600 with 1 Axes>"
            ]
          },
          "metadata": {},
          "output_type": "display_data"
        }
      ],
      "source": [
        "import pandas as pd\n",
        "from gensim.models import Word2Vec\n",
        "from sklearn.manifold import TSNE\n",
        "import matplotlib.pyplot as plt\n",
        "\n",
        "# Tokenize the sentences into words\n",
        "tokenized_queries = [query.split() for query in X]\n",
        "\n",
        "# Train Word2Vec model\n",
        "word2vec_model = Word2Vec(sentences=tokenized_queries, vector_size=100, window=5, min_count=1, workers=4)\n",
        "\n",
        "# Example: Get the vector representation of a word\n",
        "vector_revent = word2vec_model.wv['revent']\n",
        "print(\"Vector for 'revent':\", vector_revent)\n",
        "\n",
        "# Visualization using t-SNE\n",
        "X_embedded = TSNE(n_components=2, random_state=42).fit_transform(word2vec_model.wv.vectors)\n",
        "\n",
        "# Create a scatter plot\n",
        "plt.figure(figsize=(10, 6))\n",
        "plt.scatter(X_embedded[:, 0], X_embedded[:, 1])\n",
        "\n",
        "# Annotate points with corresponding words\n",
        "for i, txt in enumerate(word2vec_model.wv.index_to_key):\n",
        "    plt.annotate(txt, (X_embedded[i, 0], X_embedded[i, 1]))\n",
        "\n",
        "plt.title('Word2Vec Embeddings Visualization')\n",
        "plt.show()"
      ]
    },
    {
      "cell_type": "code",
      "execution_count": 11,
      "metadata": {
        "colab": {
          "base_uri": "https://localhost:8080/"
        },
        "id": "ea-WjzOFs-aX",
        "outputId": "ac6f1542-d07f-4497-b2f5-de99dfbb2b99"
      },
      "outputs": [
        {
          "name": "stdout",
          "output_type": "stream",
          "text": [
            "Collecting transformers\n",
            "  Downloading transformers-4.35.0-py3-none-any.whl (7.9 MB)\n",
            "\u001b[2K     \u001b[90m━━━━━━━━━━━━━━━━━━━━━━━━━━━━━━━━━━━━━━━━\u001b[0m \u001b[32m7.9/7.9 MB\u001b[0m \u001b[31m48.5 MB/s\u001b[0m eta \u001b[36m0:00:00\u001b[0m\n",
            "\u001b[?25hRequirement already satisfied: filelock in /usr/local/lib/python3.10/dist-packages (from transformers) (3.13.1)\n",
            "Collecting huggingface-hub<1.0,>=0.16.4 (from transformers)\n",
            "  Downloading huggingface_hub-0.19.0-py3-none-any.whl (311 kB)\n",
            "\u001b[2K     \u001b[90m━━━━━━━━━━━━━━━━━━━━━━━━━━━━━━━━━━━━━━━━\u001b[0m \u001b[32m311.2/311.2 kB\u001b[0m \u001b[31m23.5 MB/s\u001b[0m eta \u001b[36m0:00:00\u001b[0m\n",
            "\u001b[?25hRequirement already satisfied: numpy>=1.17 in /usr/local/lib/python3.10/dist-packages (from transformers) (1.23.5)\n",
            "Requirement already satisfied: packaging>=20.0 in /usr/local/lib/python3.10/dist-packages (from transformers) (23.2)\n",
            "Requirement already satisfied: pyyaml>=5.1 in /usr/local/lib/python3.10/dist-packages (from transformers) (6.0.1)\n",
            "Requirement already satisfied: regex!=2019.12.17 in /usr/local/lib/python3.10/dist-packages (from transformers) (2023.6.3)\n",
            "Requirement already satisfied: requests in /usr/local/lib/python3.10/dist-packages (from transformers) (2.31.0)\n",
            "Collecting tokenizers<0.15,>=0.14 (from transformers)\n",
            "  Downloading tokenizers-0.14.1-cp310-cp310-manylinux_2_17_x86_64.manylinux2014_x86_64.whl (3.8 MB)\n",
            "\u001b[2K     \u001b[90m━━━━━━━━━━━━━━━━━━━━━━━━━━━━━━━━━━━━━━━━\u001b[0m \u001b[32m3.8/3.8 MB\u001b[0m \u001b[31m39.0 MB/s\u001b[0m eta \u001b[36m0:00:00\u001b[0m\n",
            "\u001b[?25hCollecting safetensors>=0.3.1 (from transformers)\n",
            "  Downloading safetensors-0.4.0-cp310-cp310-manylinux_2_17_x86_64.manylinux2014_x86_64.whl (1.3 MB)\n",
            "\u001b[2K     \u001b[90m━━━━━━━━━━━━━━━━━━━━━━━━━━━━━━━━━━━━━━━━\u001b[0m \u001b[32m1.3/1.3 MB\u001b[0m \u001b[31m61.4 MB/s\u001b[0m eta \u001b[36m0:00:00\u001b[0m\n",
            "\u001b[?25hRequirement already satisfied: tqdm>=4.27 in /usr/local/lib/python3.10/dist-packages (from transformers) (4.66.1)\n",
            "Requirement already satisfied: fsspec>=2023.5.0 in /usr/local/lib/python3.10/dist-packages (from huggingface-hub<1.0,>=0.16.4->transformers) (2023.6.0)\n",
            "Requirement already satisfied: typing-extensions>=3.7.4.3 in /usr/local/lib/python3.10/dist-packages (from huggingface-hub<1.0,>=0.16.4->transformers) (4.5.0)\n",
            "Collecting huggingface-hub<1.0,>=0.16.4 (from transformers)\n",
            "  Downloading huggingface_hub-0.17.3-py3-none-any.whl (295 kB)\n",
            "\u001b[2K     \u001b[90m━━━━━━━━━━━━━━━━━━━━━━━━━━━━━━━━━━━━━━━━\u001b[0m \u001b[32m295.0/295.0 kB\u001b[0m \u001b[31m25.6 MB/s\u001b[0m eta \u001b[36m0:00:00\u001b[0m\n",
            "\u001b[?25hRequirement already satisfied: charset-normalizer<4,>=2 in /usr/local/lib/python3.10/dist-packages (from requests->transformers) (3.3.2)\n",
            "Requirement already satisfied: idna<4,>=2.5 in /usr/local/lib/python3.10/dist-packages (from requests->transformers) (3.4)\n",
            "Requirement already satisfied: urllib3<3,>=1.21.1 in /usr/local/lib/python3.10/dist-packages (from requests->transformers) (2.0.7)\n",
            "Requirement already satisfied: certifi>=2017.4.17 in /usr/local/lib/python3.10/dist-packages (from requests->transformers) (2023.7.22)\n",
            "Installing collected packages: safetensors, huggingface-hub, tokenizers, transformers\n",
            "Successfully installed huggingface-hub-0.17.3 safetensors-0.4.0 tokenizers-0.14.1 transformers-4.35.0\n"
          ]
        }
      ],
      "source": [
        "!pip install transformers"
      ]
    },
    {
      "cell_type": "code",
      "execution_count": 17,
      "metadata": {
        "id": "l9z8V_r5utV-"
      },
      "outputs": [],
      "source": [
        "X  = df_examples_products_source['query'].values.tolist()"
      ]
    },
    {
      "cell_type": "code",
      "execution_count": 26,
      "metadata": {
        "id": "jgZN27F1wzOc"
      },
      "outputs": [],
      "source": [
        "df_examples_products_source = df_examples_products_source.dropna()"
      ]
    },
    {
      "cell_type": "code",
      "execution_count": 27,
      "metadata": {
        "colab": {
          "base_uri": "https://localhost:8080/"
        },
        "id": "8jU4uHwKxc3U",
        "outputId": "47f031c4-5072-485e-de49-55e60e247a64"
      },
      "outputs": [
        {
          "data": {
            "text/plain": [
              "(2855, 2)"
            ]
          },
          "execution_count": 27,
          "metadata": {},
          "output_type": "execute_result"
        }
      ],
      "source": [
        "df_examples_products_source.shape"
      ]
    },
    {
      "cell_type": "code",
      "execution_count": 28,
      "metadata": {
        "colab": {
          "base_uri": "https://localhost:8080/"
        },
        "id": "_crMIaB0xknw",
        "outputId": "fa7c4ae7-7eb9-49f0-f9c8-2b5ed18b8619"
      },
      "outputs": [
        {
          "data": {
            "text/plain": [
              "(2855,)"
            ]
          },
          "execution_count": 28,
          "metadata": {},
          "output_type": "execute_result"
        }
      ],
      "source": [
        "df_examples_products_source['query'].shape"
      ]
    },
    {
      "cell_type": "code",
      "execution_count": 33,
      "metadata": {
        "id": "YxALjIwKx1ZM"
      },
      "outputs": [],
      "source": [
        "X = df_examples_products_source['query'].to_list()"
      ]
    },
    {
      "cell_type": "code",
      "execution_count": 35,
      "metadata": {
        "colab": {
          "base_uri": "https://localhost:8080/"
        },
        "id": "Dtv4PRd0x36a",
        "outputId": "c10eada4-3c02-4e6a-e804-662270226930"
      },
      "outputs": [
        {
          "data": {
            "text/plain": [
              "2855"
            ]
          },
          "execution_count": 35,
          "metadata": {},
          "output_type": "execute_result"
        }
      ],
      "source": [
        "len(X)"
      ]
    },
    {
      "cell_type": "code",
      "execution_count": 36,
      "metadata": {
        "colab": {
          "base_uri": "https://localhost:8080/"
        },
        "id": "mtEGQFQTx57F",
        "outputId": "f24e3c93-f80a-4480-ce78-61150a2a09fd"
      },
      "outputs": [
        {
          "data": {
            "text/plain": [
              "[' revent 80 cfm',\n",
              " ' revent 80 cfm',\n",
              " ' revent 80 cfm',\n",
              " ' revent 80 cfm',\n",
              " ' revent 80 cfm',\n",
              " ' revent 80 cfm',\n",
              " ' revent 80 cfm',\n",
              " ' revent 80 cfm',\n",
              " ' revent 80 cfm',\n",
              " ' revent 80 cfm',\n",
              " ' revent 80 cfm',\n",
              " ' revent 80 cfm',\n",
              " ' revent 80 cfm',\n",
              " ' revent 80 cfm',\n",
              " '!awnmower tires without rims',\n",
              " '!awnmower tires without rims',\n",
              " '!awnmower tires without rims',\n",
              " '!awnmower tires without rims',\n",
              " '!awnmower tires without rims',\n",
              " '!awnmower tires without rims',\n",
              " '!awnmower tires without rims',\n",
              " '!qscreen fence without holes',\n",
              " '!qscreen fence without holes',\n",
              " '!qscreen fence without holes',\n",
              " '!qscreen fence without holes',\n",
              " '!qscreen fence without holes',\n",
              " '!qscreen fence without holes',\n",
              " '!qscreen fence without holes',\n",
              " '!qscreen fence without holes',\n",
              " '!qscreen fence without holes',\n",
              " '!qscreen fence without holes',\n",
              " '# 10 self-seal envelopes without window',\n",
              " '# 10 self-seal envelopes without window',\n",
              " '# 10 self-seal envelopes without window',\n",
              " '# 10 self-seal envelopes without window',\n",
              " '# 10 self-seal envelopes without window',\n",
              " '# 10 self-seal envelopes without window',\n",
              " '# 10 self-seal envelopes without window',\n",
              " '# 10 self-seal envelopes without window',\n",
              " '# 10 self-seal envelopes without window',\n",
              " '# 10 self-seal envelopes without window',\n",
              " '# 10 self-seal envelopes without window',\n",
              " '# 10 self-seal envelopes without window',\n",
              " '# 10 self-seal envelopes without window',\n",
              " '# 10 self-seal envelopes without window',\n",
              " '# 10 self-seal envelopes without window',\n",
              " '# 10 self-seal envelopes without window',\n",
              " '# 10 self-seal envelopes without window',\n",
              " '# 10 self-seal envelopes without window',\n",
              " '# 10 self-seal envelopes without window',\n",
              " '# 10 self-seal envelopes without window',\n",
              " '# 10 self-seal envelopes without window',\n",
              " '# 10 self-seal envelopes without window',\n",
              " '# 10 self-seal envelopes without window',\n",
              " '# 10 self-seal envelopes without window',\n",
              " '# 10 self-seal envelopes without window',\n",
              " '# 2 pencils not sharpened',\n",
              " '# 2 pencils not sharpened',\n",
              " '# 2 pencils not sharpened',\n",
              " '# 2 pencils not sharpened',\n",
              " '# 2 pencils not sharpened',\n",
              " '# 2 pencils not sharpened',\n",
              " '# 2 pencils not sharpened',\n",
              " '# 2 pencils not sharpened',\n",
              " '# 2 pencils not sharpened',\n",
              " '# 2 pencils not sharpened',\n",
              " '# 2 pencils not sharpened',\n",
              " '# 2 pencils not sharpened',\n",
              " '# 2 pencils not sharpened',\n",
              " '# 2 pencils not sharpened',\n",
              " '# 2 pencils not sharpened',\n",
              " '# 2 pencils not sharpened',\n",
              " '# 2 pencils not sharpened',\n",
              " '# 2 pencils not sharpened',\n",
              " '# 2 pencils not sharpened',\n",
              " '# 2 pencils not sharpened',\n",
              " '# cellist thats not a hashtag',\n",
              " '# cellist thats not a hashtag',\n",
              " '# cellist thats not a hashtag',\n",
              " '# cellist thats not a hashtag',\n",
              " '# cellist thats not a hashtag',\n",
              " '# cellist thats not a hashtag',\n",
              " '# cellist thats not a hashtag',\n",
              " '# cellist thats not a hashtag',\n",
              " '# cellist thats not a hashtag',\n",
              " '# cellist thats not a hashtag',\n",
              " '# cellist thats not a hashtag',\n",
              " '# cellist thats not a hashtag',\n",
              " '# cellist thats not a hashtag',\n",
              " '# do not disturb',\n",
              " '# do not disturb',\n",
              " '# do not disturb',\n",
              " '# do not disturb',\n",
              " '# do not disturb',\n",
              " '# do not disturb',\n",
              " '# do not disturb',\n",
              " '# do not disturb',\n",
              " '# do not disturb',\n",
              " '# do not disturb',\n",
              " '# do not disturb',\n",
              " '# do not disturb',\n",
              " '# do not disturb',\n",
              " '# do not disturb',\n",
              " '# do not disturb',\n",
              " '# do not disturb',\n",
              " '# do not disturb',\n",
              " '# do not disturb',\n",
              " '# do not disturb',\n",
              " '# do not disturb',\n",
              " '# do not disturb',\n",
              " '# do not disturb',\n",
              " '# do not disturb',\n",
              " '# do not disturb',\n",
              " '# do not disturb',\n",
              " '# do not disturb',\n",
              " '# do not disturb',\n",
              " '# do not disturb',\n",
              " '# do not disturb',\n",
              " '# do not disturb',\n",
              " '# do not disturb',\n",
              " '# do not disturb',\n",
              " '# do not disturb',\n",
              " '# do not disturb',\n",
              " '# do not disturb',\n",
              " '# do not disturb',\n",
              " '# do not disturb',\n",
              " '# do not disturb',\n",
              " '# do not disturb',\n",
              " '# mom life',\n",
              " '# mom life',\n",
              " '# mom life',\n",
              " '# mom life',\n",
              " '# mom life',\n",
              " '# mom life',\n",
              " '# mom life',\n",
              " '# mom life',\n",
              " '# sharp not hashtag shirt',\n",
              " '# sharp not hashtag shirt',\n",
              " '# sharp not hashtag shirt',\n",
              " '# sharp not hashtag shirt',\n",
              " '# sharp not hashtag shirt',\n",
              " '# sharp not hashtag shirt',\n",
              " '# sharp not hashtag shirt',\n",
              " '# sharp not hashtag shirt',\n",
              " '# sharp not hashtag shirt',\n",
              " '# sharp not hashtag shirt',\n",
              " '# sharp not hashtag shirt',\n",
              " '# sharp not hashtag shirt',\n",
              " '# sharp not hashtag shirt',\n",
              " '# sharp not hashtag shirt',\n",
              " '# sharp not hashtag shirt',\n",
              " '# sharp not hashtag shirt',\n",
              " '# sharp not hashtag shirt',\n",
              " '# sharp not hashtag shirt',\n",
              " '# sharp not hashtag shirt',\n",
              " '# sharp not hashtag shirt',\n",
              " '# sharp not hashtag shirt',\n",
              " '# sharp not hashtag shirt',\n",
              " '# sharp not hashtag shirt',\n",
              " '# sharp not hashtag shirt',\n",
              " '# sharp not hashtag shirt',\n",
              " '# sharp not hashtag shirt',\n",
              " '# sharp not hashtag shirt',\n",
              " '# sharp not hashtag shirt',\n",
              " '# sharp not hashtag shirt',\n",
              " '# sharp not hashtag shirt',\n",
              " '# sharp not hashtag shirt',\n",
              " '# sharp not hashtag shirt',\n",
              " '# sharp not hashtag shirt',\n",
              " '# sharp not hashtag shirt',\n",
              " '# sharp not hashtag shirt',\n",
              " '# sharp not hashtag shirt',\n",
              " '# sharp not hashtag shirt',\n",
              " '#1 best and not expensive bath back brush cream color',\n",
              " '#1 best and not expensive bath back brush cream color',\n",
              " '#1 best and not expensive bath back brush cream color',\n",
              " '#1 best and not expensive bath back brush cream color',\n",
              " '#1 best and not expensive bath back brush cream color',\n",
              " '#1 best and not expensive bath back brush cream color',\n",
              " '#1 best and not expensive bath back brush cream color',\n",
              " '#1 best and not expensive bath back brush cream color',\n",
              " '#1 best and not expensive bath back brush cream color',\n",
              " '#1 best and not expensive bath back brush cream color',\n",
              " '#1 best and not expensive bath back brush cream color',\n",
              " '#1 best and not expensive bath back brush cream color',\n",
              " '#1 best and not expensive bath back brush cream color',\n",
              " '#1 black natural hair dye without ammonia or peroxide',\n",
              " '#1 black natural hair dye without ammonia or peroxide',\n",
              " '#1 black natural hair dye without ammonia or peroxide',\n",
              " '#1 black natural hair dye without ammonia or peroxide',\n",
              " '#1 black natural hair dye without ammonia or peroxide',\n",
              " '#1 black natural hair dye without ammonia or peroxide',\n",
              " '#1 black natural hair dye without ammonia or peroxide',\n",
              " '#1 black natural hair dye without ammonia or peroxide',\n",
              " '#1 black natural hair dye without ammonia or peroxide',\n",
              " '#1 black natural hair dye without ammonia or peroxide',\n",
              " '#1 black natural hair dye without ammonia or peroxide',\n",
              " '#1 black natural hair dye without ammonia or peroxide',\n",
              " '#1 black natural hair dye without ammonia or peroxide',\n",
              " '#1 black natural hair dye without ammonia or peroxide',\n",
              " '#1 black natural hair dye without ammonia or peroxide',\n",
              " '#1 black natural hair dye without ammonia or peroxide',\n",
              " '#1 black natural hair dye without ammonia or peroxide',\n",
              " '#1 black natural hair dye without ammonia or peroxide',\n",
              " '#1 black natural hair dye without ammonia or peroxide',\n",
              " '#1 black natural hair dye without ammonia or peroxide',\n",
              " '#1 black natural hair dye without ammonia or peroxide',\n",
              " '#1 black natural hair dye without ammonia or peroxide',\n",
              " '#1 rated resveratrol supplement without tea leaves',\n",
              " '#1 rated resveratrol supplement without tea leaves',\n",
              " '#1 rated resveratrol supplement without tea leaves',\n",
              " '#1 rated resveratrol supplement without tea leaves',\n",
              " '#1 rated resveratrol supplement without tea leaves',\n",
              " '#1 rated resveratrol supplement without tea leaves',\n",
              " '#1 rated resveratrol supplement without tea leaves',\n",
              " '#1 rated resveratrol supplement without tea leaves',\n",
              " '#1 rated resveratrol supplement without tea leaves',\n",
              " '#1 rated resveratrol supplement without tea leaves',\n",
              " '#1 rated resveratrol supplement without tea leaves',\n",
              " '#1 rated resveratrol supplement without tea leaves',\n",
              " '#1 rated resveratrol supplement without tea leaves',\n",
              " '#1 rated resveratrol supplement without tea leaves',\n",
              " '#1 rated resveratrol supplement without tea leaves',\n",
              " '#1 rated resveratrol supplement without tea leaves',\n",
              " '#1 rated resveratrol supplement without tea leaves',\n",
              " '#1 rated resveratrol supplement without tea leaves',\n",
              " '#1 rated resveratrol supplement without tea leaves',\n",
              " '#1 rated resveratrol supplement without tea leaves',\n",
              " '#1 rated resveratrol supplement without tea leaves',\n",
              " '#1 rated resveratrol supplement without tea leaves',\n",
              " '#1 rated resveratrol supplement without tea leaves',\n",
              " '#1 rated resveratrol supplement without tea leaves',\n",
              " '#1 rated resveratrol supplement without tea leaves',\n",
              " '#1 rated resveratrol supplement without tea leaves',\n",
              " '#1 rated resveratrol supplement without tea leaves',\n",
              " '#1 rated resveratrol supplement without tea leaves',\n",
              " '#1 rated resveratrol supplement without tea leaves',\n",
              " '#1 rated resveratrol supplement without tea leaves',\n",
              " '#1 rated resveratrol supplement without tea leaves',\n",
              " '#1 rated resveratrol supplement without tea leaves',\n",
              " '#1 rated resveratrol supplement without tea leaves',\n",
              " '#1 selling shoes for men without shoeleases',\n",
              " '#1 selling shoes for men without shoeleases',\n",
              " '#1 selling shoes for men without shoeleases',\n",
              " '#1 selling shoes for men without shoeleases',\n",
              " '#1 selling shoes for men without shoeleases',\n",
              " '#1 selling shoes for men without shoeleases',\n",
              " '#1 selling shoes for men without shoeleases',\n",
              " '#1 selling shoes for men without shoeleases',\n",
              " '#1 selling shoes for men without shoeleases',\n",
              " '#1 selling shoes for men without shoeleases',\n",
              " '#1 selling shoes for men without shoeleases',\n",
              " '#1 selling shoes for men without shoeleases',\n",
              " '#1 selling shoes for men without shoeleases',\n",
              " '#1 selling shoes for men without shoeleases',\n",
              " '#1 selling shoes for men without shoeleases',\n",
              " '#1 selling shoes for men without shoeleases',\n",
              " '#1 small corded treadmill without remote control',\n",
              " '#1 small corded treadmill without remote control',\n",
              " '#1 small corded treadmill without remote control',\n",
              " '#1 small corded treadmill without remote control',\n",
              " '#1 small corded treadmill without remote control',\n",
              " '#1 small corded treadmill without remote control',\n",
              " '#1 small corded treadmill without remote control',\n",
              " '#10 cans applesauce',\n",
              " '#10 cans applesauce',\n",
              " '#10 envelopes self seal',\n",
              " '#10 envelopes self seal',\n",
              " '#10 envelopes self seal',\n",
              " '#10 envelopes self seal',\n",
              " '#10 envelopes self seal',\n",
              " '#10 envelopes self seal',\n",
              " '#10 envelopes self seal',\n",
              " '#10 envelopes self seal',\n",
              " '#10 envelopes self seal',\n",
              " '#10 envelopes self seal',\n",
              " '#10 envelopes self seal',\n",
              " '#10 envelopes self seal',\n",
              " '#10 envelopes self seal',\n",
              " '#10 envelopes self seal',\n",
              " '#10 envelopes self seal',\n",
              " '#10 envelopes self seal',\n",
              " '#10 envelopes without security tint',\n",
              " '#10 envelopes without security tint',\n",
              " '#10 envelopes without security tint',\n",
              " '#10 envelopes without security tint',\n",
              " '#10 envelopes without security tint',\n",
              " '#10 envelopes without security tint',\n",
              " '#10 envelopes without security tint',\n",
              " '#10 envelopes without security tint',\n",
              " '#10 envelopes without security tint',\n",
              " '#10 envelopes without security tint',\n",
              " '#10 envelopes without security tint',\n",
              " '#10 standard no tint no window not self seal',\n",
              " '#10 standard no tint no window not self seal',\n",
              " '#10 standard no tint no window not self seal',\n",
              " '#10 standard no tint no window not self seal',\n",
              " '#10 standard no tint no window not self seal',\n",
              " '#10 standard no tint no window not self seal',\n",
              " '#10 window envelopes not self seal',\n",
              " '#10 window envelopes not self seal',\n",
              " '#10 window envelopes not self seal',\n",
              " '#10 window envelopes not self seal',\n",
              " '#10 window envelopes not self seal',\n",
              " '#10 window envelopes not self seal',\n",
              " '#10 window envelopes not self seal',\n",
              " '#10 window envelopes not self seal',\n",
              " '#10 window envelopes not self seal',\n",
              " '#10 window envelopes not self seal',\n",
              " '#10 window envelopes not self seal',\n",
              " '#10 window envelopes not self seal',\n",
              " '#10 window envelopes not self seal',\n",
              " '#10 window envelopes not self seal',\n",
              " '#10 window envelopes not self seal',\n",
              " '#10 window envelopes not self seal',\n",
              " '#10 window envelopes not self seal',\n",
              " '#10 window envelopes not self seal',\n",
              " '#10 window envelopes without plastic',\n",
              " '#10 window envelopes without plastic',\n",
              " '#10 window envelopes without plastic',\n",
              " '#10 window envelopes without plastic',\n",
              " '#10 window envelopes without plastic',\n",
              " '#10 window envelopes without plastic',\n",
              " '#10 window envelopes without plastic',\n",
              " '#10 window envelopes without plastic',\n",
              " '#10 window envelopes without plastic',\n",
              " '#10 window envelopes without plastic',\n",
              " '#10 window envelopes without plastic',\n",
              " '#10 window envelopes without plastic',\n",
              " '#10 window envelopes without plastic',\n",
              " '#10 window envelopes without plastic',\n",
              " '#10 window envelopes without plastic',\n",
              " '#10 window envelopes without plastic',\n",
              " '#10 window envelopes without plastic',\n",
              " '#10 window envelopes without plastic',\n",
              " '#10 window envelopes without plastic',\n",
              " '#10 window envelopes without plastic',\n",
              " '#10 window envelopes without plastic',\n",
              " '#10 window envelopes without plastic',\n",
              " '#10 window envelopes without plastic',\n",
              " '#10 window envelopes without plastic',\n",
              " '#10 window envelopes without plastic',\n",
              " '#10 window envelopes without plastic',\n",
              " '#10 window envelopes without plastic',\n",
              " '#10 window envelopes without plastic',\n",
              " '#11 mrs. kormel is not normal',\n",
              " '#11 mrs. kormel is not normal',\n",
              " '#12 black boys chain necklace without baseball stitches',\n",
              " '#12 black boys chain necklace without baseball stitches',\n",
              " '#12 black boys chain necklace without baseball stitches',\n",
              " '#12 black boys chain necklace without baseball stitches',\n",
              " '#12 black boys chain necklace without baseball stitches',\n",
              " '#12 black boys chain necklace without baseball stitches',\n",
              " '#12 black boys chain necklace without baseball stitches',\n",
              " '#12 black boys chain necklace without baseball stitches',\n",
              " '#12 black boys chain necklace without baseball stitches',\n",
              " '#12 black boys chain necklace without baseball stitches',\n",
              " '#14 x 1-1/2 stainless self tapping',\n",
              " '#14 x 1-1/2 stainless self tapping',\n",
              " '#14 x 1-1/2 stainless self tapping',\n",
              " '#14 x 1-1/2 stainless self tapping',\n",
              " '#14 x 1-1/2 stainless self tapping',\n",
              " '#14 x 1-1/2 stainless self tapping',\n",
              " '#14 x 1-1/2 stainless self tapping',\n",
              " '#14 x 1-1/2 stainless self tapping',\n",
              " '#14 x 1-1/2 stainless self tapping',\n",
              " '#14 x 1-1/2 stainless self tapping',\n",
              " '#14 x 1-1/2 stainless self tapping',\n",
              " '#14 x 1-1/2 stainless self tapping',\n",
              " '#14 x 1-1/2 stainless self tapping',\n",
              " '#14 x 1-1/2 stainless self tapping',\n",
              " '#14 x 1-1/2 stainless self tapping',\n",
              " '#14 x 1-1/2 stainless self tapping',\n",
              " '#15 charm',\n",
              " '#15 charm',\n",
              " '#15 charm',\n",
              " '#15 charm',\n",
              " '#2 dixon oriole pencils not sharpened',\n",
              " '#2 dixon oriole pencils not sharpened',\n",
              " '#2 dixon oriole pencils not sharpened',\n",
              " '#2 dixon oriole pencils not sharpened',\n",
              " '#2 dixon oriole pencils not sharpened',\n",
              " '#2 pencils',\n",
              " '#2 pencils',\n",
              " '#2 pencils',\n",
              " '#2 pencils',\n",
              " '#2 pencils',\n",
              " '#2 pencils',\n",
              " '#2 pencils',\n",
              " '#2 pencils',\n",
              " '#2 pencils',\n",
              " '#2 pencils',\n",
              " '#2 pencils',\n",
              " '#2 pencils',\n",
              " '#2 pencils',\n",
              " '#2 pencils',\n",
              " '#2 pencils',\n",
              " '#2 pencils with erasers sharpened not soft',\n",
              " '#2 pencils with erasers sharpened not soft',\n",
              " '#2 pencils with erasers sharpened not soft',\n",
              " '#2 pencils with erasers sharpened not soft',\n",
              " '#2 pencils with erasers sharpened not soft',\n",
              " '#2 pencils with erasers sharpened not soft',\n",
              " '#2 pencils with erasers sharpened not soft',\n",
              " '#2 pencils with erasers sharpened not soft',\n",
              " '#2 pencils with erasers sharpened not soft',\n",
              " '#2 pencils with erasers sharpened not soft',\n",
              " '#2 pencils with erasers sharpened not soft',\n",
              " '#2 pencils with erasers sharpened not soft',\n",
              " '#2 pencils with erasers sharpened not soft',\n",
              " '#2 pencils with erasers sharpened not soft',\n",
              " '#2 pencils with erasers sharpened not soft',\n",
              " '#2 pencils with erasers sharpened not soft',\n",
              " '#2 pencils with erasers sharpened not soft',\n",
              " '#2 pencils with erasers sharpened not soft',\n",
              " '#2 pencils with erasers sharpened not soft',\n",
              " '#2 pencils with erasers sharpened not soft',\n",
              " '#2 pencils with erasers sharpened not soft',\n",
              " '#2 pencils with erasers sharpened not soft',\n",
              " '#2 pencils with erasers sharpened not soft',\n",
              " '#2 pencils with erasers sharpened not soft',\n",
              " '#2 pencils with erasers sharpened not soft',\n",
              " '#2 pencils with erasers sharpened not soft',\n",
              " '#2 pencils with erasers sharpened not soft',\n",
              " '#2 pencils with erasers sharpened not soft',\n",
              " '#2 pencils without erasers',\n",
              " '#2 pencils without erasers',\n",
              " '#2 pencils without erasers',\n",
              " '#2 pencils without erasers',\n",
              " '#2 pencils without erasers',\n",
              " '#2 pencils without erasers',\n",
              " '#2 pencils without erasers',\n",
              " '#2 pencils without erasers',\n",
              " '#2 pencils without erasers',\n",
              " '#2 pencils without erasers',\n",
              " '#2 pencils without erasers',\n",
              " '#2 pencils without erasers',\n",
              " '#2 pencils without erasers',\n",
              " '#2 pencils without erasers',\n",
              " '#2 pencils without erasers',\n",
              " '#2 pencils without erasers',\n",
              " '#2 pencils without erasers',\n",
              " '#2 pencils without erasers',\n",
              " '#2 pencils without erasers',\n",
              " '#2 pencils without erasers',\n",
              " '#20 paper bags without handle',\n",
              " '#20 paper bags without handle',\n",
              " '#20 paper bags without handle',\n",
              " '#20 paper bags without handle',\n",
              " '#20 paper bags without handle',\n",
              " '#20 paper bags without handle',\n",
              " '#20 paper bags without handle',\n",
              " '#20 paper bags without handle',\n",
              " '#20 paper bags without handle',\n",
              " '#3 metal zipper slider not made in america',\n",
              " '#3 metal zipper slider not made in america',\n",
              " '#3 metal zipper slider not made in america',\n",
              " '#3 metal zipper slider not made in america',\n",
              " '#3 metal zipper slider not made in america',\n",
              " '#3 metal zipper slider not made in america',\n",
              " '#3 metal zipper slider not made in america',\n",
              " '#3 metal zipper slider not made in america',\n",
              " '#3 metal zipper slider not made in america',\n",
              " '#3 metal zipper slider not made in america',\n",
              " '#3 metal zipper slider not made in america',\n",
              " '#3 metal zipper slider not made in america',\n",
              " '#3 metal zipper slider not made in america',\n",
              " '#3 metal zipper slider not made in america',\n",
              " '#3 metal zipper slider not made in america',\n",
              " '#3 metal zipper slider not made in america',\n",
              " '#3 metal zipper slider not made in america',\n",
              " '#3 metal zipper slider not made in america',\n",
              " '#4 braiding hair not stretched',\n",
              " '#4 braiding hair not stretched',\n",
              " '#4 braiding hair not stretched',\n",
              " '#4 braiding hair not stretched',\n",
              " '#4 braiding hair not stretched',\n",
              " '#4 braiding hair not stretched',\n",
              " '#4 braiding hair not stretched',\n",
              " '#4 braiding hair not stretched',\n",
              " '#4 braiding hair not stretched',\n",
              " '#4 braiding hair not stretched',\n",
              " '#4 braiding hair not stretched',\n",
              " '#4 braiding hair not stretched',\n",
              " '#4 braiding hair not stretched',\n",
              " '#4 braiding hair not stretched',\n",
              " '#4 braiding hair not stretched',\n",
              " '#4 braiding hair not stretched',\n",
              " '#4 braiding hair not stretched',\n",
              " '#4 braiding hair not stretched',\n",
              " '#4 braiding hair not stretched',\n",
              " '#4 braiding hair not stretched',\n",
              " '#4 braiding hair not stretched',\n",
              " '#4 braiding hair not stretched',\n",
              " '#4 braiding hair not stretched',\n",
              " '#4 pads without wings',\n",
              " '#4 pads without wings',\n",
              " '#4 pads without wings',\n",
              " '#4 pads without wings',\n",
              " '#4 pads without wings',\n",
              " '#4 pads without wings',\n",
              " '#4 pads without wings',\n",
              " '#4 pads without wings',\n",
              " '#4 pads without wings',\n",
              " '#4 pads without wings',\n",
              " '#4 pads without wings',\n",
              " '#4 pads without wings',\n",
              " '#4 pads without wings',\n",
              " '#4 pads without wings',\n",
              " '#4 pads without wings',\n",
              " '#4 pads without wings',\n",
              " '#4 pads without wings',\n",
              " '#4 pads without wings',\n",
              " '#4 pads without wings',\n",
              " '#4 pads without wings',\n",
              " '#4 pads without wings',\n",
              " '#4 pads without wings',\n",
              " '#4 pads without wings',\n",
              " '#4 pads without wings',\n",
              " '#4 pads without wings',\n",
              " '#4 pads without wings',\n",
              " '#5 coil zipper without lock',\n",
              " '#5 coil zipper without lock',\n",
              " '#5 coil zipper without lock',\n",
              " '#5 coil zipper without lock',\n",
              " '#5 coil zipper without lock',\n",
              " '#5 coil zipper without lock',\n",
              " '#5 coil zipper without lock',\n",
              " '#5 coil zipper without lock',\n",
              " '#5 coil zipper without lock',\n",
              " '#5 coil zipper without lock',\n",
              " '#5 coil zipper without lock',\n",
              " '#5 coil zipper without lock',\n",
              " '#5 coil zipper without lock',\n",
              " '#5 coil zipper without lock',\n",
              " '#5 coil zipper without lock',\n",
              " '#5 coil zipper without lock',\n",
              " '#5 coil zipper without lock',\n",
              " '#5 coil zipper without lock',\n",
              " '#5 coil zipper without lock',\n",
              " '#5 machine screws',\n",
              " '#5 orb to not fitting',\n",
              " '#5 orb to not fitting',\n",
              " '#5 orb to not fitting',\n",
              " '#5 orb to not fitting',\n",
              " '#5 orb to not fitting',\n",
              " '#5 orb to not fitting',\n",
              " '#5 orb to not fitting',\n",
              " '#5 pull cord',\n",
              " '#5 pull cord',\n",
              " '#5 pull cord',\n",
              " '#5 pull cord',\n",
              " '#5 pull cord',\n",
              " '#5 pull cord',\n",
              " '#5 zipper tape without pulls',\n",
              " '#5 zipper tape without pulls',\n",
              " '#5 zipper tape without pulls',\n",
              " '#5 zipper tape without pulls',\n",
              " '#5 zipper tape without pulls',\n",
              " '#5 zipper tape without pulls',\n",
              " '#5 zipper tape without pulls',\n",
              " '#5 zipper tape without pulls',\n",
              " '#5 zipper tape without pulls',\n",
              " '#5 zipper tape without pulls',\n",
              " '#5 zipper tape without pulls',\n",
              " '#5 zipper tape without pulls',\n",
              " '#6 fishing hook without barb',\n",
              " '#6 fishing hook without barb',\n",
              " '#6 fishing hook without barb',\n",
              " '#6 fishing hook without barb',\n",
              " '#6 fishing hook without barb',\n",
              " '#6 fishing hook without barb',\n",
              " '#6 fishing hook without barb',\n",
              " '#6 fishing hook without barb',\n",
              " '#6 fishing hook without barb',\n",
              " '#6 fishing hook without barb',\n",
              " '#6 fishing hook without barb',\n",
              " '#6 fishing hook without barb',\n",
              " '#6 fishing hook without barb',\n",
              " '#6 fishing hook without barb',\n",
              " '#6 fishing hook without barb',\n",
              " '#6 fishing hook without barb',\n",
              " '#6 fishing hook without barb',\n",
              " '#68 do not fuplicate key',\n",
              " '#68 do not fuplicate key',\n",
              " '#68 do not fuplicate key',\n",
              " '#68 do not fuplicate key',\n",
              " '#8 merchandising tags without string',\n",
              " '#8 merchandising tags without string',\n",
              " '#8 merchandising tags without string',\n",
              " '#8 merchandising tags without string',\n",
              " '#8 merchandising tags without string',\n",
              " '#8 merchandising tags without string',\n",
              " '#8 merchandising tags without string',\n",
              " '#8 merchandising tags without string',\n",
              " '#8 merchandising tags without string',\n",
              " '#8 merchandising tags without string',\n",
              " '#8 merchandising tags without string',\n",
              " '#8 merchandising tags without string',\n",
              " '#8 merchandising tags without string',\n",
              " '#8 merchandising tags without string',\n",
              " '#8 merchandising tags without string',\n",
              " '#8 merchandising tags without string',\n",
              " '#8 merchandising tags without string',\n",
              " '#8 merchandising tags without string',\n",
              " '#8 phillips head wood screws',\n",
              " '#8 phillips head wood screws',\n",
              " '#8 phillips head wood screws',\n",
              " '#8 phillips head wood screws',\n",
              " '#8 phillips head wood screws',\n",
              " '#8 phillips head wood screws',\n",
              " '#8 phillips head wood screws',\n",
              " '#8 phillips head wood screws',\n",
              " '#8 phillips head wood screws',\n",
              " '#8 phillips head wood screws',\n",
              " '#8 phillips head wood screws',\n",
              " '#8 phillips head wood screws',\n",
              " '#8 phillips head wood screws',\n",
              " '#8 phillips head wood screws',\n",
              " '#8 tags without string',\n",
              " '#8 tags without string',\n",
              " '#8 tags without string',\n",
              " '#8 tags without string',\n",
              " '#8 tags without string',\n",
              " '#8 tags without string',\n",
              " '#8 tags without string',\n",
              " '#8 tags without string',\n",
              " '#8 tags without string',\n",
              " '#8 tags without string',\n",
              " '#8 tags without string',\n",
              " '#8 tags without string',\n",
              " '#8 tags without string',\n",
              " '#82 jewelry box without cotton',\n",
              " '#82 jewelry box without cotton',\n",
              " '#82 jewelry box without cotton',\n",
              " '#82 jewelry box without cotton',\n",
              " '#82 jewelry box without cotton',\n",
              " '#82 jewelry box without cotton',\n",
              " '#82 jewelry box without cotton',\n",
              " '#82 jewelry box without cotton',\n",
              " '#82 jewelry box without cotton',\n",
              " '#82 jewelry box without cotton',\n",
              " '#82 jewelry box without cotton',\n",
              " '#82 jewelry box without cotton',\n",
              " '#82 jewelry box without cotton',\n",
              " '#82 jewelry box without cotton',\n",
              " '#82 jewelry box without cotton',\n",
              " '#9x5\" wood screws',\n",
              " '#9x5\" wood screws',\n",
              " '#do not disturb, jeidah bila',\n",
              " '#do not disturb, jeidah bila',\n",
              " '#followme ultra soft velour robe without hood for men',\n",
              " '#followme ultra soft velour robe without hood for men',\n",
              " '#followme ultra soft velour robe without hood for men',\n",
              " '#followme ultra soft velour robe without hood for men',\n",
              " '#followme ultra soft velour robe without hood for men',\n",
              " '#followme ultra soft velour robe without hood for men',\n",
              " '#followme ultra soft velour robe without hood for men',\n",
              " '#followme ultra soft velour robe without hood for men',\n",
              " '#followme ultra soft velour robe without hood for men',\n",
              " '#followme ultra soft velour robe without hood for men',\n",
              " '#followme ultra soft velour robe without hood for men',\n",
              " '#followme ultra soft velour robe without hood for men',\n",
              " '#hydrate not dydrate',\n",
              " '#hydrate not dydrate',\n",
              " '#hydrate not dydrate',\n",
              " '#hydrate not dydrate',\n",
              " '#hydrate not dydrate',\n",
              " '#hydrate not dydrate',\n",
              " '#hydrate not dydrate',\n",
              " '#i am not chinese',\n",
              " '#i am not chinese',\n",
              " '#i may not look like diesel decals',\n",
              " '#i may not look like diesel decals',\n",
              " '#i may not look like diesel decals',\n",
              " '#metoo not you',\n",
              " '#pinkandproud not sorry glitter lipstick',\n",
              " '#pinkandproud not sorry glitter lipstick',\n",
              " '#pinkandproud not sorry glitter lipstick',\n",
              " '#pinkandproud not sorry glitter lipstick',\n",
              " '#stuccoville life without a net',\n",
              " '#this is not a truck decals',\n",
              " '#this is not a truck decals',\n",
              " '#this is not a truck decals',\n",
              " '#this is not a truck decals',\n",
              " '#this is not a truck decals',\n",
              " '#try not to suck tshirt',\n",
              " '#try not to suck tshirt',\n",
              " '#try not to suck tshirt',\n",
              " '#try not to suck tshirt',\n",
              " '#try not to suck tshirt',\n",
              " '#try not to suck tshirt',\n",
              " '#try not to suck tshirt',\n",
              " '#try not to suck tshirt',\n",
              " '#try not to suck tshirt',\n",
              " '#try not to suck tshirt',\n",
              " '#try not to suck tshirt',\n",
              " '#try not to suck tshirt',\n",
              " '$0.00 not kindleunlimited',\n",
              " '$0.00 not kindleunlimited',\n",
              " '$0.00 not kindleunlimited',\n",
              " '$0.00 not kindleunlimited',\n",
              " '$0.00 not kindleunlimited',\n",
              " '$1',\n",
              " '$1 dollar toys not fidgets',\n",
              " '$1 dollar toys not fidgets',\n",
              " '$1 dollar toys not fidgets',\n",
              " '$1 dollar toys not fidgets',\n",
              " '$1 first addition charizard not fake',\n",
              " '$1 first addition charizard not fake',\n",
              " '$1 first addition charizard not fake',\n",
              " '$1 first addition charizard not fake',\n",
              " '$1 first addition charizard not fake',\n",
              " '$1 first addition charizard not fake',\n",
              " '$1 first addition charizard not fake',\n",
              " '$1 first addition charizard not fake',\n",
              " '$1 items for men',\n",
              " '$1 items for men',\n",
              " '$1 million that look real but that is not it',\n",
              " '$1 million that look real but that is not it',\n",
              " '$1 million that look real but that is not it',\n",
              " '$1 million that look real but that is not it',\n",
              " '$1 million that look real but that is not it',\n",
              " '$1 million that look real but that is not it',\n",
              " '$1 stuffed toy',\n",
              " '$1 stuffed toy',\n",
              " '$1 stuffed toy',\n",
              " '$1 stuffed toy',\n",
              " '$1 stuffed toy',\n",
              " '$1 stuffed toy',\n",
              " '$1 stuffed toy',\n",
              " '$1 stuffed toy',\n",
              " '$1 stuffed toy',\n",
              " '$1 stuffed toy',\n",
              " '$1 stuffed toy',\n",
              " '$1 stuffed toy',\n",
              " '$1 stuffed toy',\n",
              " '$1 stuffed toy',\n",
              " '$1 stuffed toy',\n",
              " '$1 stuffed toy',\n",
              " '$10 amazon prime not prime wardrobe sweatpaants',\n",
              " '$10 amazon prime not prime wardrobe sweatpaants',\n",
              " '$10 amazon prime not prime wardrobe sweatpaants',\n",
              " '$10 amazon prime not prime wardrobe sweatpaants',\n",
              " '$10 amazon prime not prime wardrobe sweatpaants',\n",
              " '$10 amazon prime not prime wardrobe sweatpaants',\n",
              " '$10 amazon prime not prime wardrobe sweatpaants',\n",
              " '$10 amazon prime not prime wardrobe sweatpaants',\n",
              " '$10 amazon prime not prime wardrobe sweatpaants',\n",
              " '$10 amazon prime not prime wardrobe sweatpaants',\n",
              " '$10 amazon prime not prime wardrobe sweatpaants',\n",
              " '$10 amazon prime not prime wardrobe sweatpaants',\n",
              " '$10 amazon prime not prime wardrobe sweatpaants',\n",
              " '$10 amazon prime not prime wardrobe sweatpaants',\n",
              " '$10 amazon prime not prime wardrobe sweatpaants',\n",
              " '$10 amazon prime not prime wardrobe sweatpaants',\n",
              " '$10 blanket',\n",
              " '$10 blanket',\n",
              " '$10 blanket',\n",
              " '$10 blanket',\n",
              " '$10 blanket',\n",
              " '$10 blanket',\n",
              " '$10 blanket',\n",
              " '$10 blanket',\n",
              " '$10 blanket',\n",
              " '$10 blanket',\n",
              " '$10 blanket',\n",
              " '$10 blanket',\n",
              " '$10 blanket',\n",
              " '$10 blanket',\n",
              " '$10 blanket',\n",
              " '$10 blanket',\n",
              " '$10 candles',\n",
              " '$10 candles',\n",
              " '$10 candles',\n",
              " '$10 candles',\n",
              " '$10 candles',\n",
              " '$10 candles',\n",
              " '$10 credit not given on purchase on prime day',\n",
              " '$10 gold eagle',\n",
              " '$10 gold eagle',\n",
              " '$10 gold eagle',\n",
              " '$10 gold eagle',\n",
              " '$10 gold eagle',\n",
              " '$10 gold eagle',\n",
              " '$10 gold eagle',\n",
              " '$10 gold eagle',\n",
              " '$10 lol literally not gonna change baby pet lol',\n",
              " '$10 lol literally not gonna change baby pet lol',\n",
              " '$10 lol literally not gonna change baby pet lol',\n",
              " '$10 lol literally not gonna change baby pet lol',\n",
              " '$10 lol literally not gonna change baby pet lol',\n",
              " '$10 lol literally not gonna change baby pet lol',\n",
              " '$10 lol literally not gonna change baby pet lol',\n",
              " '$10 lol literally not gonna change baby pet lol',\n",
              " '$10 lol literally not gonna change baby pet lol',\n",
              " '$10 lol literally not gonna change baby pet lol',\n",
              " '$10 lol literally not gonna change baby pet lol',\n",
              " '$10 lol literally not gonna change baby pet lol',\n",
              " '$10 lol literally not gonna change baby pet lol',\n",
              " '$10 lol literally not gonna change baby pet lol',\n",
              " '$10 lol literally not gonna change baby pet lol',\n",
              " '$10 lol literally not gonna change baby pet lol',\n",
              " '$10 lol literally not gonna change baby pet lol',\n",
              " '$10 lol literally not gonna change baby pet lol',\n",
              " '$10 lol literally not gonna change baby pet lol',\n",
              " '$10 lol literally not gonna change baby pet lol',\n",
              " '$10 magnetic eyelashes without eyeliner',\n",
              " '$10 magnetic eyelashes without eyeliner',\n",
              " '$10 magnetic eyelashes without eyeliner',\n",
              " '$10 magnetic eyelashes without eyeliner',\n",
              " '$10 magnetic eyelashes without eyeliner',\n",
              " '$10 magnetic eyelashes without eyeliner',\n",
              " '$10 magnetic eyelashes without eyeliner',\n",
              " '$10 magnetic eyelashes without eyeliner',\n",
              " '$10 stuff not books',\n",
              " '$10 stuff not books',\n",
              " '$10 stuff not books',\n",
              " '$10 stuff not books',\n",
              " '$100 things that are not electronics',\n",
              " '$100 things that are not electronics',\n",
              " '$100 things that are not electronics',\n",
              " '$100 things that are not electronics',\n",
              " '$100 things that are not electronics',\n",
              " '$100 things that are not electronics',\n",
              " '$11 fidget please just please $11 not 25 not',\n",
              " '$11 fidget please just please $11 not 25 not',\n",
              " '$11 fidget please just please $11 not 25 not',\n",
              " '$11 fidget please just please $11 not 25 not',\n",
              " '$11 fidget please just please $11 not 25 not',\n",
              " '$12 label maker that’s not a cheap one',\n",
              " '$12 label maker that’s not a cheap one',\n",
              " '$12 label maker that’s not a cheap one',\n",
              " '$12 label maker that’s not a cheap one',\n",
              " '$12 label maker that’s not a cheap one',\n",
              " '$12 label maker that’s not a cheap one',\n",
              " '$12 label maker that’s not a cheap one',\n",
              " '$12 label maker that’s not a cheap one',\n",
              " '$12 label maker that’s not a cheap one',\n",
              " '$12 label maker that’s not a cheap one',\n",
              " '$13 bb guns without a yellow tube',\n",
              " '$13 bb guns without a yellow tube',\n",
              " '$13 bb guns without a yellow tube',\n",
              " '$13 bb guns without a yellow tube',\n",
              " '$13 bb guns without a yellow tube',\n",
              " '$13 bb guns without a yellow tube',\n",
              " '$13 bb guns without a yellow tube',\n",
              " '$13 bb guns without a yellow tube',\n",
              " '$13 bb guns without a yellow tube',\n",
              " '$13 bb guns without a yellow tube',\n",
              " '$13 bb guns without a yellow tube',\n",
              " '$13 bb guns without a yellow tube',\n",
              " '$13 bb guns without a yellow tube',\n",
              " '$13 bb guns without a yellow tube',\n",
              " '$13 bb guns without a yellow tube',\n",
              " '$13 bb guns without a yellow tube',\n",
              " '$13 bb guns without a yellow tube',\n",
              " '$13 bb guns without a yellow tube',\n",
              " '$13 fidget toys without paying for delivery',\n",
              " '$13 fidget toys without paying for delivery',\n",
              " '$13 fidget toys without paying for delivery',\n",
              " '$13 fidget toys without paying for delivery',\n",
              " '$13 fidget toys without paying for delivery',\n",
              " '$13 fidget toys without paying for delivery',\n",
              " '$13 fidget toys without paying for delivery',\n",
              " '$13 fidget toys without paying for delivery',\n",
              " '$13 fidget toys without paying for delivery',\n",
              " '$13 fidget toys without paying for delivery',\n",
              " '$13 fidget toys without paying for delivery',\n",
              " '$13 fidget toys without paying for delivery',\n",
              " '$13 fidget toys without paying for delivery',\n",
              " '$13 fidget toys without paying for delivery',\n",
              " '$13 fidget toys without paying for delivery',\n",
              " '$13 fidget toys without paying for delivery',\n",
              " '$13 fidget toys without paying for delivery',\n",
              " '$13 fidget toys without paying for delivery',\n",
              " '$13 fidget toys without paying for delivery',\n",
              " '$13 fidget toys without paying for delivery',\n",
              " '$13 fidget toys without paying for delivery',\n",
              " '$13 fidget toys without paying for delivery',\n",
              " '$13 fidget toys without paying for delivery',\n",
              " '$13 fidget toys without paying for delivery',\n",
              " '$13 fidget toys without paying for delivery',\n",
              " '$13 fidget toys without paying for delivery',\n",
              " '$13 fidget toys without paying for delivery',\n",
              " '$139 one cup cousy not coffee maker',\n",
              " '$139 one cup cousy not coffee maker',\n",
              " '$139 one cup cousy not coffee maker',\n",
              " '$139 one cup cousy not coffee maker',\n",
              " '$139 one cup cousy not coffee maker',\n",
              " '$139 one cup cousy not coffee maker',\n",
              " '$139 one cup cousy not coffee maker',\n",
              " '$139 one cup cousy not coffee maker',\n",
              " '$139 one cup cousy not coffee maker',\n",
              " '$15 doller bb guns not spring powered',\n",
              " '$15 doller bb guns not spring powered',\n",
              " '$15 doller bb guns not spring powered',\n",
              " '$15 doller bb guns not spring powered',\n",
              " '$15 doller bb guns not spring powered',\n",
              " '$15 doller bb guns not spring powered',\n",
              " '$15 doller bb guns not spring powered',\n",
              " '$15 doller bb guns not spring powered',\n",
              " '$15 doller bb guns not spring powered',\n",
              " '$15 doller bb guns not spring powered',\n",
              " '$15 doller bb guns not spring powered',\n",
              " '$15 doller bb guns not spring powered',\n",
              " '$15 doller bb guns not spring powered',\n",
              " '$15 fidget pack without the pea poppet',\n",
              " '$15 fidget pack without the pea poppet',\n",
              " '$15 fidget pack without the pea poppet',\n",
              " '$15 fidget pack without the pea poppet',\n",
              " '$15 fidget pack without the pea poppet',\n",
              " '$15 fidget pack without the pea poppet',\n",
              " '$15 fidget pack without the pea poppet',\n",
              " '$15 fidget pack without the pea poppet',\n",
              " '$15 fidget pack without the pea poppet',\n",
              " '$15 fidget pack without the pea poppet',\n",
              " '$15 fidget pack without the pea poppet',\n",
              " '$15 fidget pack without the pea poppet',\n",
              " '$15 fidget pack without the pea poppet',\n",
              " '$15 fidget pack without the pea poppet',\n",
              " '$150 laptop not previews',\n",
              " '$150 laptop not previews',\n",
              " '$150 laptop not previews',\n",
              " '$150 laptop not previews',\n",
              " '$150 laptop not previews',\n",
              " '$150 laptop not previews',\n",
              " '$150 laptop not previews',\n",
              " '$150 laptop not previews',\n",
              " '$150 laptop not previews',\n",
              " '$150 laptop not previews',\n",
              " '$150 laptop not previews',\n",
              " '$150 laptop not previews',\n",
              " '$175 gram led frisbee gram not dollar',\n",
              " '$175 gram led frisbee gram not dollar',\n",
              " '$175 gram led frisbee gram not dollar',\n",
              " '$175 gram led frisbee gram not dollar',\n",
              " '$175 gram led frisbee gram not dollar',\n",
              " '$175 gram led frisbee gram not dollar',\n",
              " '$175 gram led frisbee gram not dollar',\n",
              " '$175 gram led frisbee gram not dollar',\n",
              " '$175 gram led frisbee gram not dollar',\n",
              " '$175 gram led frisbee gram not dollar',\n",
              " '$175 gram led frisbee gram not dollar',\n",
              " '$175 gram led frisbee gram not dollar',\n",
              " '$175 gram led frisbee gram not dollar',\n",
              " '$2 pop tube not a pack',\n",
              " '$2 pop tube not a pack',\n",
              " '$2 pop tube not a pack',\n",
              " '$2 pop tube not a pack',\n",
              " '$2 pop tube not a pack',\n",
              " '$2 pop tube not a pack',\n",
              " '$2 pop tube not a pack',\n",
              " '$2 pop tube not a pack',\n",
              " '$2 pop tube not a pack',\n",
              " '$20 not credible dog pool rectangular',\n",
              " '$20 not credible dog pool rectangular',\n",
              " '$20 not credible dog pool rectangular',\n",
              " '$20 not credible dog pool rectangular',\n",
              " '$20 not credible dog pool rectangular',\n",
              " '$20 not credible dog pool rectangular',\n",
              " '$20 off for amazon app not applied',\n",
              " '$20 rectangular not inflatable pool 26 i',\n",
              " '$20 rectangular not inflatable pool 26 i',\n",
              " '$20 vr headset without controller',\n",
              " '$20 vr headset without controller',\n",
              " '$230 pool for outdoors not plastic',\n",
              " '$230 pool for outdoors not plastic',\n",
              " '$230 pool for outdoors not plastic',\n",
              " '$230 pool for outdoors not plastic',\n",
              " '$230 pool for outdoors not plastic',\n",
              " '$230 pool for outdoors not plastic',\n",
              " '$230 pool for outdoors not plastic',\n",
              " '$230 pool for outdoors not plastic',\n",
              " '$230 pool for outdoors not plastic',\n",
              " '$230 pool for outdoors not plastic',\n",
              " '$25 apple gift card not email',\n",
              " '$25 apple gift card not email',\n",
              " '$25 apple gift card not email',\n",
              " '$25 apple gift card not email',\n",
              " '$25 apple gift card not email',\n",
              " '$25 apple gift card not email',\n",
              " '$25 ceiling fan without lights',\n",
              " '$25 ceiling fan without lights',\n",
              " '$25 ceiling fan without lights',\n",
              " '$25 ceiling fan without lights',\n",
              " '$25 ceiling fan without lights',\n",
              " '$25 ceiling fan without lights',\n",
              " '$25 ceiling fan without lights',\n",
              " '$25 ceiling fan without lights',\n",
              " '$25 ceiling fan without lights',\n",
              " '$25 ceiling fan without lights',\n",
              " '$25 ceiling fan without lights',\n",
              " '$25 ceiling fan without lights',\n",
              " '$25 ceiling fan without lights',\n",
              " '$25 ceiling fan without lights',\n",
              " '$25 ceiling fan without lights',\n",
              " '$25 katana swords not real',\n",
              " '$25 katana swords not real',\n",
              " '$25 katana swords not real',\n",
              " ...]"
            ]
          },
          "execution_count": 36,
          "metadata": {},
          "output_type": "execute_result"
        }
      ],
      "source": [
        "X"
      ]
    },
    {
      "cell_type": "code",
      "execution_count": 38,
      "metadata": {
        "colab": {
          "base_uri": "https://localhost:8080/",
          "height": 528
        },
        "id": "UTiRT8OhrRQO",
        "outputId": "cb14b47a-2f7f-441a-8a3d-4a7755415e47"
      },
      "outputs": [
        {
          "name": "stderr",
          "output_type": "stream",
          "text": [
            "<ipython-input-38-09cbd6cb8bdc>:30: UserWarning: No data for colormapping provided via 'c'. Parameters 'cmap' will be ignored\n",
            "  plt.scatter(embeddings_2d[:, 0], embeddings_2d[:, 1], cmap='viridis')\n"
          ]
        },
        {
          "data": {
            "image/png": "[encoded data removed]",
            "text/plain": [
              "<Figure size 640x480 with 2 Axes>"
            ]
          },
          "metadata": {},
          "output_type": "display_data"
        }
      ],
      "source": [
        "import torch\n",
        "from transformers import BertTokenizer, BertModel\n",
        "import matplotlib.pyplot as plt\n",
        "\n",
        "# Assuming X contains your queries and y contains corresponding labels\n",
        "\n",
        "# Load pre-trained BERT model and tokenizer\n",
        "tokenizer = BertTokenizer.from_pretrained('bert-base-uncased')\n",
        "model = BertModel.from_pretrained('bert-base-uncased')\n",
        "\n",
        "# Tokenize and encode the input sequence\n",
        "input_sequence = tokenizer(X, return_tensors='pt', padding=True, truncation=True)\n",
        "\n",
        "# Forward pass to get model outputs\n",
        "with torch.no_grad():\n",
        "    outputs = model(**input_sequence)\n",
        "\n",
        "# Extract embeddings from the last hidden layer\n",
        "last_hidden_states = outputs.last_hidden_state\n",
        "\n",
        "# Average the embeddings across each token to get a single vector for each example\n",
        "average_embeddings = last_hidden_states.mean(dim=1)\n",
        "\n",
        "# Perform dimensionality reduction (e.g., PCA) for visualization\n",
        "from sklearn.decomposition import PCA\n",
        "pca = PCA(n_components=2)\n",
        "embeddings_2d = pca.fit_transform(average_embeddings)\n",
        "\n",
        "# Visualize the embeddings\n",
        "plt.scatter(embeddings_2d[:, 0], embeddings_2d[:, 1], cmap='viridis')\n",
        "plt.title('BERT Embeddings Visualization')\n",
        "plt.xlabel('Principal Component 1')\n",
        "plt.ylabel('Principal Component 2')\n",
        "plt.colorbar(label='Labels')\n",
        "plt.show()\n"
      ]
    },
    {
      "cell_type": "code",
      "execution_count": 24,
      "metadata": {
        "colab": {
          "base_uri": "https://localhost:8080/"
        },
        "id": "MSTmfPNJtvWu",
        "outputId": "d803cc1e-fab7-46b4-a745-8d0bf41c2422"
      },
      "outputs": [
        {
          "name": "stdout",
          "output_type": "stream",
          "text": [
            "X is not a list of strings.\n"
          ]
        }
      ],
      "source": [
        "# Assuming X is a variable representing your data\n",
        "is_list_of_strings = all(isinstance(element, str) for element in X)\n",
        "\n",
        "if is_list_of_strings:\n",
        "    print(\"X is a list of strings.\")\n",
        "else:\n",
        "    print(\"X is not a list of strings.\")\n"
      ]
    },
    {
      "cell_type": "code",
      "execution_count": 4,
      "metadata": {
        "colab": {
          "base_uri": "https://localhost:8080/"
        },
        "id": "en_IVkc_091A",
        "outputId": "5ba917ce-af93-4b3b-fb85-67fabcd5c009"
      },
      "outputs": [
        {
          "data": {
            "text/plain": [
              "(140568, 2)"
            ]
          },
          "execution_count": 4,
          "metadata": {},
          "output_type": "execute_result"
        }
      ],
      "source": [
        "import numpy as np\n",
        "import pandas as pd\n",
        "num_rows = 300000\n",
        "df_examples_products_source = pd.read_csv('query_product_detail.csv', nrows=num_rows)\n",
        "df_examples_products_source = df_examples_products_source.dropna()\n",
        "df_examples_products_source.shape"
      ]
    },
    {
      "cell_type": "code",
      "execution_count": 5,
      "metadata": {
        "id": "_yO8Sw1W0Iem"
      },
      "outputs": [],
      "source": [
        "from sklearn.model_selection import train_test_split\n",
        "from sklearn.preprocessing import LabelEncoder\n",
        "from sklearn.feature_extraction.text import TfidfVectorizer\n",
        "\n",
        "# Assuming df_examples_products_source is your DataFrame\n",
        "X = df_examples_products_source['query']\n",
        "y = df_examples_products_source['product_detail']\n",
        "\n",
        "# Encode 'product_detail'\n",
        "label_encoder = LabelEncoder()\n",
        "y_encoded = label_encoder.fit_transform(y)\n",
        "\n",
        "# Convert 'query' to TF-IDF representation\n",
        "vectorizer = TfidfVectorizer()\n",
        "X_tfidf = vectorizer.fit_transform(X)\n",
        "\n",
        "\n",
        "# Split the data into training (80%), validation (10%), and testing (10%) sets\n",
        "X_train, X_temp, y_train, y_temp = train_test_split(X_tfidf, y_encoded, test_size=0.2, random_state=42)\n",
        "X_val, X_test, y_val, y_test = train_test_split(X_temp, y_temp, test_size=0.5, random_state=42)\n",
        "\n"
      ]
    },
    {
      "cell_type": "code",
      "execution_count": 6,
      "metadata": {
        "colab": {
          "base_uri": "https://localhost:8080/"
        },
        "id": "gPKJFE7W1oD_",
        "outputId": "08e1d40b-60f4-4fc8-86e6-ed6ad73da84e"
      },
      "outputs": [
        {
          "name": "stdout",
          "output_type": "stream",
          "text": [
            "Number of Classes (num_classes): 122828\n"
          ]
        }
      ],
      "source": [
        "# Assuming df_examples_products_source is your DataFrame\n",
        "unique_product_details = df_examples_products_source['product_detail'].unique()\n",
        "num_classes = len(unique_product_details)\n",
        "\n",
        "print(\"Number of Classes (num_classes):\", num_classes)\n"
      ]
    },
    {
      "cell_type": "code",
      "execution_count": 1,
      "metadata": {
        "colab": {
          "base_uri": "https://localhost:8080/",
          "height": 399
        },
        "id": "KM0x5AzJ4k-V",
        "outputId": "cef25256-0dd3-448c-9954-84f964b4953e"
      },
      "outputs": [],
      "source": [
        "# import tensorflow as tf\n",
        "\n",
        "# # Reorder sparse matrices\n",
        "# X_train = tf.sparse.reorder(X_train)\n",
        "# X_val = tf.sparse.reorder(X_val)\n"
      ]
    },
    {
      "cell_type": "code",
      "execution_count": 9,
      "metadata": {
        "colab": {
          "base_uri": "https://localhost:8080/",
          "height": 580
        },
        "id": "Ht8mpI231c-s",
        "outputId": "c95d49bb-b271-465b-b55a-f01db60deb7f"
      },
      "outputs": [
        {
          "name": "stderr",
          "output_type": "stream",
          "text": [
            "Some weights of BertForSequenceClassification were not initialized from the model checkpoint at bert-base-uncased and are newly initialized: ['classifier.bias', 'classifier.weight']\n",
            "You should probably TRAIN this model on a down-stream task to be able to use it for predictions and inference.\n"
          ]
        },
        {
          "ename": "KeyboardInterrupt",
          "evalue": "",
          "output_type": "error",
          "traceback": [
            "\u001b[0;31m---------------------------------------------------------------------------\u001b[0m",
            "\u001b[0;31mKeyboardInterrupt\u001b[0m                         Traceback (most recent call last)",
            "\u001b[1;32m/Users/zeerakzubair/Documents/University/7th Semester/Deep Learning/Assignments/i201770_DL_Assignment3/task2/task2_2.ipynb Cell 69\u001b[0m line \u001b[0;36m4\n\u001b[1;32m     <a href='vscode-notebook-cell:/Users/zeerakzubair/Documents/University/7th%20Semester/Deep%20Learning/Assignments/i201770_DL_Assignment3/task2/task2_2.ipynb#Y125sZmlsZQ%3D%3D?line=38'>39</a>\u001b[0m         loss \u001b[39m=\u001b[39m outputs\u001b[39m.\u001b[39mloss\n\u001b[1;32m     <a href='vscode-notebook-cell:/Users/zeerakzubair/Documents/University/7th%20Semester/Deep%20Learning/Assignments/i201770_DL_Assignment3/task2/task2_2.ipynb#Y125sZmlsZQ%3D%3D?line=39'>40</a>\u001b[0m         optimizer\u001b[39m.\u001b[39mzero_grad()\n\u001b[0;32m---> <a href='vscode-notebook-cell:/Users/zeerakzubair/Documents/University/7th%20Semester/Deep%20Learning/Assignments/i201770_DL_Assignment3/task2/task2_2.ipynb#Y125sZmlsZQ%3D%3D?line=40'>41</a>\u001b[0m         loss\u001b[39m.\u001b[39;49mbackward()\n\u001b[1;32m     <a href='vscode-notebook-cell:/Users/zeerakzubair/Documents/University/7th%20Semester/Deep%20Learning/Assignments/i201770_DL_Assignment3/task2/task2_2.ipynb#Y125sZmlsZQ%3D%3D?line=41'>42</a>\u001b[0m         optimizer\u001b[39m.\u001b[39mstep()\n\u001b[1;32m     <a href='vscode-notebook-cell:/Users/zeerakzubair/Documents/University/7th%20Semester/Deep%20Learning/Assignments/i201770_DL_Assignment3/task2/task2_2.ipynb#Y125sZmlsZQ%3D%3D?line=43'>44</a>\u001b[0m \u001b[39m# Evaluation\u001b[39;00m\n",
            "File \u001b[0;32m/usr/local/lib/python3.11/site-packages/torch/_tensor.py:492\u001b[0m, in \u001b[0;36mTensor.backward\u001b[0;34m(self, gradient, retain_graph, create_graph, inputs)\u001b[0m\n\u001b[1;32m    482\u001b[0m \u001b[39mif\u001b[39;00m has_torch_function_unary(\u001b[39mself\u001b[39m):\n\u001b[1;32m    483\u001b[0m     \u001b[39mreturn\u001b[39;00m handle_torch_function(\n\u001b[1;32m    484\u001b[0m         Tensor\u001b[39m.\u001b[39mbackward,\n\u001b[1;32m    485\u001b[0m         (\u001b[39mself\u001b[39m,),\n\u001b[0;32m   (...)\u001b[0m\n\u001b[1;32m    490\u001b[0m         inputs\u001b[39m=\u001b[39minputs,\n\u001b[1;32m    491\u001b[0m     )\n\u001b[0;32m--> 492\u001b[0m torch\u001b[39m.\u001b[39;49mautograd\u001b[39m.\u001b[39;49mbackward(\n\u001b[1;32m    493\u001b[0m     \u001b[39mself\u001b[39;49m, gradient, retain_graph, create_graph, inputs\u001b[39m=\u001b[39;49minputs\n\u001b[1;32m    494\u001b[0m )\n",
            "File \u001b[0;32m/usr/local/lib/python3.11/site-packages/torch/autograd/__init__.py:251\u001b[0m, in \u001b[0;36mbackward\u001b[0;34m(tensors, grad_tensors, retain_graph, create_graph, grad_variables, inputs)\u001b[0m\n\u001b[1;32m    246\u001b[0m     retain_graph \u001b[39m=\u001b[39m create_graph\n\u001b[1;32m    248\u001b[0m \u001b[39m# The reason we repeat the same comment below is that\u001b[39;00m\n\u001b[1;32m    249\u001b[0m \u001b[39m# some Python versions print out the first line of a multi-line function\u001b[39;00m\n\u001b[1;32m    250\u001b[0m \u001b[39m# calls in the traceback and some print out the last line\u001b[39;00m\n\u001b[0;32m--> 251\u001b[0m Variable\u001b[39m.\u001b[39;49m_execution_engine\u001b[39m.\u001b[39;49mrun_backward(  \u001b[39m# Calls into the C++ engine to run the backward pass\u001b[39;49;00m\n\u001b[1;32m    252\u001b[0m     tensors,\n\u001b[1;32m    253\u001b[0m     grad_tensors_,\n\u001b[1;32m    254\u001b[0m     retain_graph,\n\u001b[1;32m    255\u001b[0m     create_graph,\n\u001b[1;32m    256\u001b[0m     inputs,\n\u001b[1;32m    257\u001b[0m     allow_unreachable\u001b[39m=\u001b[39;49m\u001b[39mTrue\u001b[39;49;00m,\n\u001b[1;32m    258\u001b[0m     accumulate_grad\u001b[39m=\u001b[39;49m\u001b[39mTrue\u001b[39;49;00m,\n\u001b[1;32m    259\u001b[0m )\n",
            "\u001b[0;31mKeyboardInterrupt\u001b[0m: "
          ]
        }
      ],
      "source": [
        "from transformers import BertTokenizer, BertForSequenceClassification\n",
        "import torch\n",
        "from torch.utils.data import DataLoader, TensorDataset\n",
        "from sklearn.metrics import classification_report\n",
        "\n",
        "# Check if GPU is available, otherwise use CPU\n",
        "device = torch.device(\"cuda\" if torch.cuda.is_available() else \"cpu\")\n",
        "\n",
        "# Tokenize the input data\n",
        "tokenizer = BertTokenizer.from_pretrained('bert-base-uncased')\n",
        "tokenized_texts = [tokenizer.encode(query, add_special_tokens=True) for query in X]\n",
        "\n",
        "# Padding and Truncating\n",
        "max_len = max(len(tokens) for tokens in tokenized_texts)\n",
        "padded_texts = [tokens + [0] * (max_len - len(tokens)) for tokens in tokenized_texts]\n",
        "\n",
        "# Convert to PyTorch tensors\n",
        "input_ids = torch.tensor(padded_texts).to(device)\n",
        "attention_masks = torch.where(input_ids != 0, torch.tensor(1).to(device), torch.tensor(0).to(device))\n",
        "labels = torch.tensor(y_encoded).to(device)\n",
        "\n",
        "# Create DataLoader\n",
        "dataset = TensorDataset(input_ids, attention_masks, labels)\n",
        "train_loader = DataLoader(dataset, batch_size=32)\n",
        "\n",
        "# Load pre-trained BERT model\n",
        "model = BertForSequenceClassification.from_pretrained('bert-base-uncased', num_labels=num_classes)\n",
        "model.to(device)\n",
        "\n",
        "# Fine-tune the model\n",
        "optimizer = torch.optim.Adam(model.parameters(), lr=2e-5)\n",
        "epochs = 3\n",
        "for epoch in range(epochs):\n",
        "    model.train()\n",
        "    for batch in train_loader:\n",
        "        batch = tuple(t.to(device) for t in batch)\n",
        "        inputs = {'input_ids': batch[0], 'attention_mask': batch[1], 'labels': batch[2]}\n",
        "        outputs = model(**inputs)\n",
        "        loss = outputs.loss\n",
        "        optimizer.zero_grad()\n",
        "        loss.backward()\n",
        "        optimizer.step()\n",
        "\n",
        "# Evaluation\n",
        "model.eval()\n",
        "with torch.no_grad():\n",
        "    predictions = []\n",
        "    for batch in validation_loader:\n",
        "        batch = tuple(t.to(device) for t in batch)\n",
        "        inputs = {'input_ids': batch[0], 'attention_mask': batch[1]}\n",
        "        outputs = model(**inputs)\n",
        "        logits = outputs.logits\n",
        "        predictions.extend(logits.argmax(dim=1).cpu().detach().numpy())\n",
        "\n",
        "# Decode predictions back to original labels\n",
        "decoded_predictions = label_encoder.inverse_transform(predictions)\n",
        "\n",
        "# Print classification report\n",
        "print(classification_report(y_val, decoded_predictions))\n"
      ]
    }
  ],
  "metadata": {
    "colab": {
      "provenance": []
    },
    "kernelspec": {
      "display_name": "Python 3",
      "language": "python",
      "name": "python3"
    },
    "language_info": {
      "codemirror_mode": {
        "name": "ipython",
        "version": 3
      },
      "file_extension": ".py",
      "mimetype": "text/x-python",
      "name": "python",
      "nbconvert_exporter": "python",
      "pygments_lexer": "ipython3",
      "version": "3.11.6"
    },
    "widgets": {
      "application/vnd.jupyter.widget-state+json": {}
    }
  },
  "nbformat": 4,
  "nbformat_minor": 0
}
