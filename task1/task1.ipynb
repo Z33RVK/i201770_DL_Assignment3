{
 "cells": [
  {
   "cell_type": "code",
   "execution_count": null,
   "metadata": {},
   "outputs": [],
   "source": [
    "# Counting Objects and Estimation of Speed\n",
    "\n",
    "# Create a GUI and user will be able to select a video.\n",
    "\n",
    "# GUI should show the first frame of provided video\n",
    "\n",
    "# User will select ROI to count objects in \n",
    "\n",
    "# Develop counting algorithm each vehicle is counted once\n",
    "\n",
    "# Display the count of all three vehicles on each frame \n",
    "\n",
    "# Find total number of cars and the number of counts provided\n",
    "\n",
    "# Display count of all three types of vehicles\n",
    "\n",
    "# Estimate the speed of each car and display its speed on its center bounding box\n",
    "\n",
    "# If speed exceeds 30 km/hour then display a red bounding box around the speeding vehicle (assume 1 square foot is 8by20 pixels)\n",
    "\n",
    "# Deploy model in a local host and containerize the application using docker container \n"
   ]
  },
  {
   "cell_type": "code",
   "execution_count": 1,
   "metadata": {},
   "outputs": [],
   "source": [
    "import cv2\n",
    "import numpy as np\n",
    "\n",
    "# Create a VideoCapture object and read from input file\n",
    "cap = cv2.VideoCapture('Traffic1.mp4')\n",
    "\n",
    "# Check if the video file was opened successfully\n",
    "if not cap.isOpened():\n",
    "    print(\"Error opening video file\")\n",
    "\n",
    "# Read the first frame\n",
    "ret, frame = cap.read()\n",
    "\n",
    "# Display the first frame\n",
    "cv2.imshow('Frame', frame)\n",
    "\n",
    "# Wait for 'Enter' key press\n",
    "while cv2.waitKey(0) != 13:  # 13 is the ASCII code for 'Enter' key\n",
    "    pass\n",
    "\n",
    "# Play the video from the second frame onwards\n",
    "while cap.isOpened():\n",
    "    # Capture frame-by-frame\n",
    "    ret, frame = cap.read()\n",
    "    if ret:\n",
    "        # Display the resulting frame\n",
    "        cv2.imshow('Frame', frame)\n",
    "\n",
    "        # Press 'q' on the keyboard to exit\n",
    "        if cv2.waitKey(25) & 0xFF == ord('q'):\n",
    "            break\n",
    "    else:\n",
    "        break\n",
    "\n",
    "# When everything is done, release the video capture object\n",
    "cap.release()\n",
    "\n",
    "# Close all the frames\n",
    "cv2.destroyAllWindows()"
   ]
  },
  {
   "cell_type": "code",
   "execution_count": 1,
   "metadata": {},
   "outputs": [
    {
     "ename": "",
     "evalue": "",
     "output_type": "error",
     "traceback": [
      "\u001b[1;31mThe Kernel crashed while executing code in the the current cell or a previous cell. Please review the code in the cell(s) to identify a possible cause of the failure. Click <a href='https://aka.ms/vscodeJupyterKernelCrash'>here</a> for more info. View Jupyter <a href='command:jupyter.viewOutput'>log</a> for further details."
     ]
    }
   ],
   "source": [
    "import cv2\n",
    "import numpy as np\n",
    "\n",
    "# Create a VideoCapture object and read from input file\n",
    "cap = cv2.VideoCapture('Traffic1.mp4')\n",
    "\n",
    "# Check if the video file was opened successfully\n",
    "if not cap.isOpened():\n",
    "    print(\"Error opening video file\")\n",
    "\n",
    "# Read the first frame\n",
    "ret, frame = cap.read()\n",
    "\n",
    "# Create a copy of the first frame for drawing the bounding box\n",
    "frame_with_box = frame.copy()\n",
    "\n",
    "# Initialize variables for bounding box drawing\n",
    "drawing = False\n",
    "bbox = (0, 0, 0, 0)\n",
    "\n",
    "# Mouse callback function for drawing the bounding box\n",
    "def draw_bbox(event, x, y, flags, param):\n",
    "    global frame_with_box, drawing, bbox\n",
    "\n",
    "    if event == cv2.EVENT_LBUTTONDOWN:\n",
    "        drawing = True\n",
    "        bbox = (x, y, 0, 0)\n",
    "\n",
    "    elif event == cv2.EVENT_LBUTTONUP:\n",
    "        drawing = False\n",
    "        bbox = (bbox[0], bbox[1], x - bbox[0], y - bbox[1])\n",
    "        cv2.rectangle(frame_with_box, (bbox[0], bbox[1]), (x, y), (0, 255, 0), 2)\n",
    "        cv2.imshow('Frame', frame_with_box)\n",
    "\n",
    "# Create a window and set the mouse callback\n",
    "cv2.namedWindow('Frame')\n",
    "cv2.setMouseCallback('Frame', draw_bbox)\n",
    "\n",
    "# Display the initial frame with bounding box\n",
    "cv2.imshow('Frame', frame_with_box)\n",
    "\n",
    "# Wait for 'Enter' key press\n",
    "while cv2.waitKey(0) != 13:  # 13 is the ASCII code for 'Enter' key\n",
    "    pass\n",
    "\n",
    "# Play the video from the second frame onwards\n",
    "while cap.isOpened():\n",
    "    # Capture frame-by-frame\n",
    "    ret, frame = cap.read()\n",
    "    if ret:\n",
    "        # Draw the bounding box on the frame\n",
    "        cv2.rectangle(frame, (bbox[0], bbox[1]), (bbox[0] + bbox[2], bbox[1] + bbox[3]), (0, 255, 0), 2)\n",
    "\n",
    "        # Display the resulting frame\n",
    "        cv2.imshow('Frame', frame)\n",
    "\n",
    "        # Press 'q' on the keyboard to exit\n",
    "        if cv2.waitKey(25) & 0xFF == ord('q'):\n",
    "            break\n",
    "    else:\n",
    "        break\n",
    "\n",
    "# When everything is done, release the video capture object\n",
    "cap.release()\n",
    "\n",
    "# Close all the frames\n",
    "cv2.destroyAllWindows()"
   ]
  },
  {
   "cell_type": "code",
   "execution_count": 2,
   "metadata": {},
   "outputs": [
    {
     "name": "stderr",
     "output_type": "stream",
     "text": [
      "\n",
      "                   from  n    params  module                                       arguments                     \n"
     ]
    },
    {
     "name": "stderr",
     "output_type": "stream",
     "text": [
      "  0                  -1  1      3520  ultralytics.nn.modules.conv.Conv             [3, 32, 6, 2, 2]              \n",
      "  1                  -1  1     18560  ultralytics.nn.modules.conv.Conv             [32, 64, 3, 2]                \n",
      "  2                  -1  1     18816  ultralytics.nn.modules.block.C3              [64, 64, 1]                   \n",
      "  3                  -1  1     73984  ultralytics.nn.modules.conv.Conv             [64, 128, 3, 2]               \n",
      "  4                  -1  2    115712  ultralytics.nn.modules.block.C3              [128, 128, 2]                 \n",
      "  5                  -1  1    295424  ultralytics.nn.modules.conv.Conv             [128, 256, 3, 2]              \n",
      "  6                  -1  3    625152  ultralytics.nn.modules.block.C3              [256, 256, 3]                 \n",
      "  7                  -1  1   1180672  ultralytics.nn.modules.conv.Conv             [256, 512, 3, 2]              \n",
      "  8                  -1  1   1182720  ultralytics.nn.modules.block.C3              [512, 512, 1]                 \n",
      "  9                  -1  1    656896  ultralytics.nn.modules.block.SPPF            [512, 512, 5]                 \n",
      " 10                  -1  1    131584  ultralytics.nn.modules.conv.Conv             [512, 256, 1, 1]              \n",
      " 11                  -1  1         0  torch.nn.modules.upsampling.Upsample         [None, 2, 'nearest']          \n",
      " 12             [-1, 6]  1         0  ultralytics.nn.modules.conv.Concat           [1]                           \n",
      " 13                  -1  1    361984  ultralytics.nn.modules.block.C3              [512, 256, 1, False]          \n",
      " 14                  -1  1     33024  ultralytics.nn.modules.conv.Conv             [256, 128, 1, 1]              \n",
      " 15                  -1  1         0  torch.nn.modules.upsampling.Upsample         [None, 2, 'nearest']          \n",
      " 16             [-1, 4]  1         0  ultralytics.nn.modules.conv.Concat           [1]                           \n",
      " 17                  -1  1     90880  ultralytics.nn.modules.block.C3              [256, 128, 1, False]          \n",
      " 18                  -1  1    147712  ultralytics.nn.modules.conv.Conv             [128, 128, 3, 2]              \n",
      " 19            [-1, 14]  1         0  ultralytics.nn.modules.conv.Concat           [1]                           \n",
      " 20                  -1  1    296448  ultralytics.nn.modules.block.C3              [256, 256, 1, False]          \n",
      " 21                  -1  1    590336  ultralytics.nn.modules.conv.Conv             [256, 256, 3, 2]              \n",
      " 22            [-1, 10]  1         0  ultralytics.nn.modules.conv.Concat           [1]                           \n",
      " 23                  -1  1   1182720  ultralytics.nn.modules.block.C3              [512, 512, 1, False]          \n",
      " 24        [17, 20, 23]  1   2147008  ultralytics.nn.modules.head.Detect           [80, [128, 256, 512]]         \n",
      "YOLOv5s summary: 262 layers, 9153152 parameters, 9153136 gradients, 24.2 GFLOPs\n",
      "\n",
      "PRO TIP 💡 Replace 'model=yolov5s.pt' with new 'model=yolov5su.pt'.\n",
      "YOLOv5 'u' models are trained with https://github.com/ultralytics/ultralytics and feature improved performance vs standard YOLOv5 models trained with https://github.com/ultralytics/yolov5.\n",
      "\n"
     ]
    },
    {
     "name": "stdout",
     "output_type": "stream",
     "text": [
      "********Frame Count********:  1\n",
      "*****THE***** bbox length:  4\n",
      "*****THE***** bbox contents:  (323, 206, 602, 243)\n",
      "BBOX_0 323\n",
      "BBOX_1 206\n",
      "BBOX_2 602\n",
      "BBOX_3 243\n"
     ]
    },
    {
     "name": "stderr",
     "output_type": "stream",
     "text": [
      "\n",
      "0: 288x640 7 cars, 225.6ms\n",
      "Speed: 2.2ms preprocess, 225.6ms inference, 1.4ms postprocess per image at shape (1, 3, 288, 640)\n",
      "\n"
     ]
    },
    {
     "name": "stdout",
     "output_type": "stream",
     "text": [
      "********Frame Count********:  2\n",
      "*****THE***** bbox length:  4\n",
      "*****THE***** bbox contents:  (323, 206, 602, 243)\n",
      "BBOX_0 323\n",
      "BBOX_1 206\n",
      "BBOX_2 602\n",
      "BBOX_3 243\n"
     ]
    },
    {
     "name": "stderr",
     "output_type": "stream",
     "text": [
      "0: 288x640 7 cars, 216.2ms\n",
      "Speed: 2.9ms preprocess, 216.2ms inference, 0.9ms postprocess per image at shape (1, 3, 288, 640)\n",
      "\n"
     ]
    },
    {
     "name": "stdout",
     "output_type": "stream",
     "text": [
      "********Frame Count********:  3\n",
      "*****THE***** bbox length:  4\n",
      "*****THE***** bbox contents:  (323, 206, 602, 243)\n",
      "BBOX_0 323\n",
      "BBOX_1 206\n",
      "BBOX_2 602\n",
      "BBOX_3 243\n"
     ]
    },
    {
     "name": "stderr",
     "output_type": "stream",
     "text": [
      "0: 288x640 7 cars, 213.0ms\n",
      "Speed: 3.4ms preprocess, 213.0ms inference, 1.2ms postprocess per image at shape (1, 3, 288, 640)\n",
      "\n"
     ]
    },
    {
     "name": "stdout",
     "output_type": "stream",
     "text": [
      "********Frame Count********:  4\n",
      "*****THE***** bbox length:  4\n",
      "*****THE***** bbox contents:  (323, 206, 602, 243)\n",
      "BBOX_0 323\n",
      "BBOX_1 206\n",
      "BBOX_2 602\n",
      "BBOX_3 243\n"
     ]
    },
    {
     "name": "stderr",
     "output_type": "stream",
     "text": [
      "0: 288x640 7 cars, 214.9ms\n",
      "Speed: 3.3ms preprocess, 214.9ms inference, 0.9ms postprocess per image at shape (1, 3, 288, 640)\n",
      "\n"
     ]
    },
    {
     "name": "stdout",
     "output_type": "stream",
     "text": [
      "********Frame Count********:  5\n",
      "*****THE***** bbox length:  4\n",
      "*****THE***** bbox contents:  (323, 206, 602, 243)\n",
      "BBOX_0 323\n",
      "BBOX_1 206\n",
      "BBOX_2 602\n",
      "BBOX_3 243\n"
     ]
    },
    {
     "name": "stderr",
     "output_type": "stream",
     "text": [
      "0: 288x640 8 cars, 213.3ms\n",
      "Speed: 3.3ms preprocess, 213.3ms inference, 0.9ms postprocess per image at shape (1, 3, 288, 640)\n",
      "\n"
     ]
    },
    {
     "name": "stdout",
     "output_type": "stream",
     "text": [
      "********Frame Count********:  6\n",
      "*****THE***** bbox length:  4\n",
      "*****THE***** bbox contents:  (323, 206, 602, 243)\n",
      "BBOX_0 323\n",
      "BBOX_1 206\n",
      "BBOX_2 602\n",
      "BBOX_3 243\n"
     ]
    },
    {
     "name": "stderr",
     "output_type": "stream",
     "text": [
      "0: 288x640 8 cars, 227.2ms\n",
      "Speed: 3.4ms preprocess, 227.2ms inference, 1.1ms postprocess per image at shape (1, 3, 288, 640)\n",
      "\n"
     ]
    },
    {
     "name": "stdout",
     "output_type": "stream",
     "text": [
      "********Frame Count********:  7\n",
      "*****THE***** bbox length:  4\n",
      "*****THE***** bbox contents:  (323, 206, 602, 243)\n",
      "BBOX_0 323\n",
      "BBOX_1 206\n",
      "BBOX_2 602\n",
      "BBOX_3 243\n"
     ]
    },
    {
     "name": "stderr",
     "output_type": "stream",
     "text": [
      "0: 288x640 8 cars, 213.4ms\n",
      "Speed: 2.3ms preprocess, 213.4ms inference, 1.3ms postprocess per image at shape (1, 3, 288, 640)\n",
      "\n"
     ]
    },
    {
     "name": "stdout",
     "output_type": "stream",
     "text": [
      "********Frame Count********:  8\n",
      "*****THE***** bbox length:  4\n",
      "*****THE***** bbox contents:  (323, 206, 602, 243)\n",
      "BBOX_0 323\n",
      "BBOX_1 206\n",
      "BBOX_2 602\n",
      "BBOX_3 243\n"
     ]
    },
    {
     "name": "stderr",
     "output_type": "stream",
     "text": [
      "0: 288x640 8 cars, 213.4ms\n",
      "Speed: 1.5ms preprocess, 213.4ms inference, 1.1ms postprocess per image at shape (1, 3, 288, 640)\n",
      "\n"
     ]
    },
    {
     "name": "stdout",
     "output_type": "stream",
     "text": [
      "********Frame Count********:  9\n",
      "*****THE***** bbox length:  4\n",
      "*****THE***** bbox contents:  (323, 206, 602, 243)\n",
      "BBOX_0 323\n",
      "BBOX_1 206\n",
      "BBOX_2 602\n",
      "BBOX_3 243\n"
     ]
    },
    {
     "name": "stderr",
     "output_type": "stream",
     "text": [
      "0: 288x640 8 cars, 222.9ms\n",
      "Speed: 4.7ms preprocess, 222.9ms inference, 1.2ms postprocess per image at shape (1, 3, 288, 640)\n",
      "\n"
     ]
    },
    {
     "name": "stdout",
     "output_type": "stream",
     "text": [
      "********Frame Count********:  10\n",
      "*****THE***** bbox length:  4\n",
      "*****THE***** bbox contents:  (323, 206, 602, 243)\n",
      "BBOX_0 323\n",
      "BBOX_1 206\n",
      "BBOX_2 602\n",
      "BBOX_3 243\n"
     ]
    },
    {
     "name": "stderr",
     "output_type": "stream",
     "text": [
      "0: 288x640 8 cars, 218.1ms\n",
      "Speed: 5.4ms preprocess, 218.1ms inference, 0.9ms postprocess per image at shape (1, 3, 288, 640)\n",
      "\n"
     ]
    },
    {
     "name": "stdout",
     "output_type": "stream",
     "text": [
      "********Frame Count********:  11\n",
      "*****THE***** bbox length:  4\n",
      "*****THE***** bbox contents:  (323, 206, 602, 243)\n",
      "BBOX_0 323\n",
      "BBOX_1 206\n",
      "BBOX_2 602\n",
      "BBOX_3 243\n"
     ]
    },
    {
     "name": "stderr",
     "output_type": "stream",
     "text": [
      "0: 288x640 8 cars, 211.5ms\n",
      "Speed: 3.7ms preprocess, 211.5ms inference, 1.4ms postprocess per image at shape (1, 3, 288, 640)\n",
      "\n"
     ]
    },
    {
     "name": "stdout",
     "output_type": "stream",
     "text": [
      "********Frame Count********:  12\n",
      "*****THE***** bbox length:  4\n",
      "*****THE***** bbox contents:  (323, 206, 602, 243)\n",
      "BBOX_0 323\n",
      "BBOX_1 206\n",
      "BBOX_2 602\n",
      "BBOX_3 243\n"
     ]
    },
    {
     "name": "stderr",
     "output_type": "stream",
     "text": [
      "0: 288x640 8 cars, 213.2ms\n",
      "Speed: 3.7ms preprocess, 213.2ms inference, 1.0ms postprocess per image at shape (1, 3, 288, 640)\n",
      "\n"
     ]
    },
    {
     "name": "stdout",
     "output_type": "stream",
     "text": [
      "********Frame Count********:  13\n",
      "*****THE***** bbox length:  4\n",
      "*****THE***** bbox contents:  (323, 206, 602, 243)\n",
      "BBOX_0 323\n",
      "BBOX_1 206\n",
      "BBOX_2 602\n",
      "BBOX_3 243\n"
     ]
    },
    {
     "name": "stderr",
     "output_type": "stream",
     "text": [
      "0: 288x640 8 cars, 214.1ms\n",
      "Speed: 4.4ms preprocess, 214.1ms inference, 0.9ms postprocess per image at shape (1, 3, 288, 640)\n",
      "\n"
     ]
    },
    {
     "name": "stdout",
     "output_type": "stream",
     "text": [
      "********Frame Count********:  14\n",
      "*****THE***** bbox length:  4\n",
      "*****THE***** bbox contents:  (323, 206, 602, 243)\n",
      "BBOX_0 323\n",
      "BBOX_1 206\n",
      "BBOX_2 602\n",
      "BBOX_3 243\n"
     ]
    },
    {
     "name": "stderr",
     "output_type": "stream",
     "text": [
      "0: 288x640 7 cars, 212.0ms\n",
      "Speed: 3.1ms preprocess, 212.0ms inference, 1.0ms postprocess per image at shape (1, 3, 288, 640)\n",
      "\n"
     ]
    },
    {
     "name": "stdout",
     "output_type": "stream",
     "text": [
      "********Frame Count********:  15\n",
      "*****THE***** bbox length:  4\n",
      "*****THE***** bbox contents:  (323, 206, 602, 243)\n",
      "BBOX_0 323\n",
      "BBOX_1 206\n",
      "BBOX_2 602\n",
      "BBOX_3 243\n"
     ]
    },
    {
     "name": "stderr",
     "output_type": "stream",
     "text": [
      "0: 288x640 7 cars, 214.6ms\n",
      "Speed: 4.8ms preprocess, 214.6ms inference, 1.0ms postprocess per image at shape (1, 3, 288, 640)\n",
      "\n"
     ]
    },
    {
     "name": "stdout",
     "output_type": "stream",
     "text": [
      "********Frame Count********:  16\n",
      "*****THE***** bbox length:  4\n",
      "*****THE***** bbox contents:  (323, 206, 602, 243)\n",
      "BBOX_0 323\n",
      "BBOX_1 206\n",
      "BBOX_2 602\n",
      "BBOX_3 243\n"
     ]
    },
    {
     "name": "stderr",
     "output_type": "stream",
     "text": [
      "0: 288x640 7 cars, 233.3ms\n",
      "Speed: 17.4ms preprocess, 233.3ms inference, 0.9ms postprocess per image at shape (1, 3, 288, 640)\n",
      "\n"
     ]
    },
    {
     "name": "stdout",
     "output_type": "stream",
     "text": [
      "********Frame Count********:  17\n",
      "*****THE***** bbox length:  4\n",
      "*****THE***** bbox contents:  (323, 206, 602, 243)\n",
      "BBOX_0 323\n",
      "BBOX_1 206\n",
      "BBOX_2 602\n",
      "BBOX_3 243\n"
     ]
    },
    {
     "name": "stderr",
     "output_type": "stream",
     "text": [
      "0: 288x640 7 cars, 215.2ms\n",
      "Speed: 2.3ms preprocess, 215.2ms inference, 0.9ms postprocess per image at shape (1, 3, 288, 640)\n",
      "\n"
     ]
    },
    {
     "name": "stdout",
     "output_type": "stream",
     "text": [
      "********Frame Count********:  18\n",
      "*****THE***** bbox length:  4\n",
      "*****THE***** bbox contents:  (323, 206, 602, 243)\n",
      "BBOX_0 323\n",
      "BBOX_1 206\n",
      "BBOX_2 602\n",
      "BBOX_3 243\n"
     ]
    },
    {
     "name": "stderr",
     "output_type": "stream",
     "text": [
      "0: 288x640 7 cars, 214.6ms\n",
      "Speed: 1.6ms preprocess, 214.6ms inference, 1.1ms postprocess per image at shape (1, 3, 288, 640)\n",
      "\n"
     ]
    },
    {
     "name": "stdout",
     "output_type": "stream",
     "text": [
      "********Frame Count********:  19\n",
      "*****THE***** bbox length:  4\n",
      "*****THE***** bbox contents:  (323, 206, 602, 243)\n",
      "BBOX_0 323\n",
      "BBOX_1 206\n",
      "BBOX_2 602\n",
      "BBOX_3 243\n"
     ]
    },
    {
     "name": "stderr",
     "output_type": "stream",
     "text": [
      "0: 288x640 7 cars, 213.2ms\n",
      "Speed: 2.1ms preprocess, 213.2ms inference, 1.4ms postprocess per image at shape (1, 3, 288, 640)\n",
      "\n"
     ]
    },
    {
     "name": "stdout",
     "output_type": "stream",
     "text": [
      "********Frame Count********:  20\n",
      "*****THE***** bbox length:  4\n",
      "*****THE***** bbox contents:  (323, 206, 602, 243)\n",
      "BBOX_0 323\n",
      "BBOX_1 206\n",
      "BBOX_2 602\n",
      "BBOX_3 243\n"
     ]
    },
    {
     "name": "stderr",
     "output_type": "stream",
     "text": [
      "0: 288x640 7 cars, 213.2ms\n",
      "Speed: 2.0ms preprocess, 213.2ms inference, 1.4ms postprocess per image at shape (1, 3, 288, 640)\n",
      "\n"
     ]
    },
    {
     "name": "stdout",
     "output_type": "stream",
     "text": [
      "********Frame Count********:  21\n",
      "*****THE***** bbox length:  4\n",
      "*****THE***** bbox contents:  (323, 206, 602, 243)\n",
      "BBOX_0 323\n",
      "BBOX_1 206\n",
      "BBOX_2 602\n",
      "BBOX_3 243\n"
     ]
    },
    {
     "name": "stderr",
     "output_type": "stream",
     "text": [
      "0: 288x640 7 cars, 1 traffic light, 213.3ms\n",
      "Speed: 3.9ms preprocess, 213.3ms inference, 0.9ms postprocess per image at shape (1, 3, 288, 640)\n",
      "\n"
     ]
    },
    {
     "name": "stdout",
     "output_type": "stream",
     "text": [
      "********Frame Count********:  22\n",
      "*****THE***** bbox length:  4\n",
      "*****THE***** bbox contents:  (323, 206, 602, 243)\n",
      "BBOX_0 323\n",
      "BBOX_1 206\n",
      "BBOX_2 602\n",
      "BBOX_3 243\n"
     ]
    },
    {
     "name": "stderr",
     "output_type": "stream",
     "text": [
      "0: 288x640 7 cars, 213.6ms\n",
      "Speed: 3.4ms preprocess, 213.6ms inference, 1.1ms postprocess per image at shape (1, 3, 288, 640)\n",
      "\n"
     ]
    },
    {
     "name": "stdout",
     "output_type": "stream",
     "text": [
      "********Frame Count********:  23\n",
      "*****THE***** bbox length:  4\n",
      "*****THE***** bbox contents:  (323, 206, 602, 243)\n",
      "BBOX_0 323\n",
      "BBOX_1 206\n",
      "BBOX_2 602\n",
      "BBOX_3 243\n"
     ]
    },
    {
     "name": "stderr",
     "output_type": "stream",
     "text": [
      "0: 288x640 7 cars, 1 traffic light, 214.3ms\n",
      "Speed: 4.1ms preprocess, 214.3ms inference, 1.0ms postprocess per image at shape (1, 3, 288, 640)\n",
      "\n"
     ]
    },
    {
     "name": "stdout",
     "output_type": "stream",
     "text": [
      "********Frame Count********:  24\n",
      "*****THE***** bbox length:  4\n",
      "*****THE***** bbox contents:  (323, 206, 602, 243)\n",
      "BBOX_0 323\n",
      "BBOX_1 206\n",
      "BBOX_2 602\n",
      "BBOX_3 243\n"
     ]
    },
    {
     "name": "stderr",
     "output_type": "stream",
     "text": [
      "0: 288x640 6 cars, 1 truck, 226.0ms\n",
      "Speed: 8.9ms preprocess, 226.0ms inference, 0.9ms postprocess per image at shape (1, 3, 288, 640)\n",
      "\n"
     ]
    },
    {
     "name": "stdout",
     "output_type": "stream",
     "text": [
      "********Frame Count********:  25\n",
      "*****THE***** bbox length:  4\n",
      "*****THE***** bbox contents:  (323, 206, 602, 243)\n",
      "BBOX_0 323\n",
      "BBOX_1 206\n",
      "BBOX_2 602\n",
      "BBOX_3 243\n"
     ]
    },
    {
     "name": "stderr",
     "output_type": "stream",
     "text": [
      "0: 288x640 6 cars, 1 truck, 212.3ms\n",
      "Speed: 2.4ms preprocess, 212.3ms inference, 1.1ms postprocess per image at shape (1, 3, 288, 640)\n",
      "\n"
     ]
    },
    {
     "name": "stdout",
     "output_type": "stream",
     "text": [
      "********Frame Count********:  26\n",
      "*****THE***** bbox length:  4\n",
      "*****THE***** bbox contents:  (323, 206, 602, 243)\n",
      "BBOX_0 323\n",
      "BBOX_1 206\n",
      "BBOX_2 602\n",
      "BBOX_3 243\n"
     ]
    },
    {
     "name": "stderr",
     "output_type": "stream",
     "text": [
      "0: 288x640 7 cars, 213.7ms\n",
      "Speed: 4.1ms preprocess, 213.7ms inference, 0.9ms postprocess per image at shape (1, 3, 288, 640)\n",
      "\n"
     ]
    },
    {
     "name": "stdout",
     "output_type": "stream",
     "text": [
      "********Frame Count********:  27\n",
      "*****THE***** bbox length:  4\n",
      "*****THE***** bbox contents:  (323, 206, 602, 243)\n",
      "BBOX_0 323\n",
      "BBOX_1 206\n",
      "BBOX_2 602\n",
      "BBOX_3 243\n"
     ]
    },
    {
     "name": "stderr",
     "output_type": "stream",
     "text": [
      "0: 288x640 8 cars, 1 truck, 214.5ms\n",
      "Speed: 2.8ms preprocess, 214.5ms inference, 1.2ms postprocess per image at shape (1, 3, 288, 640)\n",
      "\n"
     ]
    },
    {
     "name": "stdout",
     "output_type": "stream",
     "text": [
      "********Frame Count********:  28\n",
      "*****THE***** bbox length:  4\n",
      "*****THE***** bbox contents:  (323, 206, 602, 243)\n",
      "BBOX_0 323\n",
      "BBOX_1 206\n",
      "BBOX_2 602\n",
      "BBOX_3 243\n"
     ]
    },
    {
     "name": "stderr",
     "output_type": "stream",
     "text": [
      "0: 288x640 8 cars, 214.0ms\n",
      "Speed: 2.9ms preprocess, 214.0ms inference, 1.0ms postprocess per image at shape (1, 3, 288, 640)\n",
      "\n"
     ]
    },
    {
     "name": "stdout",
     "output_type": "stream",
     "text": [
      "********Frame Count********:  29\n",
      "*****THE***** bbox length:  4\n",
      "*****THE***** bbox contents:  (323, 206, 602, 243)\n",
      "BBOX_0 323\n",
      "BBOX_1 206\n",
      "BBOX_2 602\n",
      "BBOX_3 243\n"
     ]
    },
    {
     "name": "stderr",
     "output_type": "stream",
     "text": [
      "0: 288x640 8 cars, 214.8ms\n",
      "Speed: 4.6ms preprocess, 214.8ms inference, 0.9ms postprocess per image at shape (1, 3, 288, 640)\n",
      "\n"
     ]
    },
    {
     "name": "stdout",
     "output_type": "stream",
     "text": [
      "********Frame Count********:  30\n",
      "*****THE***** bbox length:  4\n",
      "*****THE***** bbox contents:  (323, 206, 602, 243)\n",
      "BBOX_0 323\n",
      "BBOX_1 206\n",
      "BBOX_2 602\n",
      "BBOX_3 243\n"
     ]
    },
    {
     "name": "stderr",
     "output_type": "stream",
     "text": [
      "0: 288x640 8 cars, 213.3ms\n",
      "Speed: 2.8ms preprocess, 213.3ms inference, 1.1ms postprocess per image at shape (1, 3, 288, 640)\n",
      "\n"
     ]
    },
    {
     "name": "stdout",
     "output_type": "stream",
     "text": [
      "********Frame Count********:  31\n",
      "*****THE***** bbox length:  4\n",
      "*****THE***** bbox contents:  (323, 206, 602, 243)\n",
      "BBOX_0 323\n",
      "BBOX_1 206\n",
      "BBOX_2 602\n",
      "BBOX_3 243\n"
     ]
    },
    {
     "name": "stderr",
     "output_type": "stream",
     "text": [
      "0: 288x640 8 cars, 213.7ms\n",
      "Speed: 5.2ms preprocess, 213.7ms inference, 0.9ms postprocess per image at shape (1, 3, 288, 640)\n",
      "\n"
     ]
    },
    {
     "name": "stdout",
     "output_type": "stream",
     "text": [
      "********Frame Count********:  32\n",
      "*****THE***** bbox length:  4\n",
      "*****THE***** bbox contents:  (323, 206, 602, 243)\n",
      "BBOX_0 323\n",
      "BBOX_1 206\n",
      "BBOX_2 602\n",
      "BBOX_3 243\n"
     ]
    },
    {
     "name": "stderr",
     "output_type": "stream",
     "text": [
      "0: 288x640 8 cars, 222.1ms\n",
      "Speed: 6.2ms preprocess, 222.1ms inference, 0.9ms postprocess per image at shape (1, 3, 288, 640)\n",
      "\n"
     ]
    },
    {
     "name": "stdout",
     "output_type": "stream",
     "text": [
      "********Frame Count********:  33\n",
      "*****THE***** bbox length:  4\n",
      "*****THE***** bbox contents:  (323, 206, 602, 243)\n",
      "BBOX_0 323\n",
      "BBOX_1 206\n",
      "BBOX_2 602\n",
      "BBOX_3 243\n"
     ]
    },
    {
     "name": "stderr",
     "output_type": "stream",
     "text": [
      "0: 288x640 8 cars, 213.7ms\n",
      "Speed: 2.1ms preprocess, 213.7ms inference, 1.1ms postprocess per image at shape (1, 3, 288, 640)\n",
      "\n"
     ]
    },
    {
     "name": "stdout",
     "output_type": "stream",
     "text": [
      "********Frame Count********:  34\n",
      "*****THE***** bbox length:  4\n",
      "*****THE***** bbox contents:  (323, 206, 602, 243)\n",
      "BBOX_0 323\n",
      "BBOX_1 206\n",
      "BBOX_2 602\n",
      "BBOX_3 243\n"
     ]
    },
    {
     "name": "stderr",
     "output_type": "stream",
     "text": [
      "0: 288x640 7 cars, 213.9ms\n",
      "Speed: 2.5ms preprocess, 213.9ms inference, 1.2ms postprocess per image at shape (1, 3, 288, 640)\n",
      "\n"
     ]
    },
    {
     "name": "stdout",
     "output_type": "stream",
     "text": [
      "********Frame Count********:  35\n",
      "*****THE***** bbox length:  4\n",
      "*****THE***** bbox contents:  (323, 206, 602, 243)\n",
      "BBOX_0 323\n",
      "BBOX_1 206\n",
      "BBOX_2 602\n",
      "BBOX_3 243\n"
     ]
    },
    {
     "name": "stderr",
     "output_type": "stream",
     "text": [
      "0: 288x640 7 cars, 219.6ms\n",
      "Speed: 2.8ms preprocess, 219.6ms inference, 1.0ms postprocess per image at shape (1, 3, 288, 640)\n",
      "\n"
     ]
    },
    {
     "name": "stdout",
     "output_type": "stream",
     "text": [
      "********Frame Count********:  36\n",
      "*****THE***** bbox length:  4\n",
      "*****THE***** bbox contents:  (323, 206, 602, 243)\n",
      "BBOX_0 323\n",
      "BBOX_1 206\n",
      "BBOX_2 602\n",
      "BBOX_3 243\n"
     ]
    },
    {
     "name": "stderr",
     "output_type": "stream",
     "text": [
      "0: 288x640 7 cars, 218.6ms\n",
      "Speed: 2.2ms preprocess, 218.6ms inference, 1.0ms postprocess per image at shape (1, 3, 288, 640)\n",
      "\n"
     ]
    },
    {
     "name": "stdout",
     "output_type": "stream",
     "text": [
      "********Frame Count********:  37\n",
      "*****THE***** bbox length:  4\n",
      "*****THE***** bbox contents:  (323, 206, 602, 243)\n",
      "BBOX_0 323\n",
      "BBOX_1 206\n",
      "BBOX_2 602\n",
      "BBOX_3 243\n"
     ]
    },
    {
     "name": "stderr",
     "output_type": "stream",
     "text": [
      "0: 288x640 7 cars, 214.5ms\n",
      "Speed: 2.0ms preprocess, 214.5ms inference, 1.1ms postprocess per image at shape (1, 3, 288, 640)\n",
      "\n"
     ]
    },
    {
     "name": "stdout",
     "output_type": "stream",
     "text": [
      "********Frame Count********:  38\n",
      "*****THE***** bbox length:  4\n",
      "*****THE***** bbox contents:  (323, 206, 602, 243)\n",
      "BBOX_0 323\n",
      "BBOX_1 206\n",
      "BBOX_2 602\n",
      "BBOX_3 243\n"
     ]
    },
    {
     "name": "stderr",
     "output_type": "stream",
     "text": [
      "0: 288x640 7 cars, 214.7ms\n",
      "Speed: 2.0ms preprocess, 214.7ms inference, 1.2ms postprocess per image at shape (1, 3, 288, 640)\n",
      "\n"
     ]
    },
    {
     "name": "stdout",
     "output_type": "stream",
     "text": [
      "********Frame Count********:  39\n",
      "*****THE***** bbox length:  4\n",
      "*****THE***** bbox contents:  (323, 206, 602, 243)\n",
      "BBOX_0 323\n",
      "BBOX_1 206\n",
      "BBOX_2 602\n",
      "BBOX_3 243\n"
     ]
    },
    {
     "name": "stderr",
     "output_type": "stream",
     "text": [
      "0: 288x640 7 cars, 1 traffic light, 213.8ms\n",
      "Speed: 1.9ms preprocess, 213.8ms inference, 1.0ms postprocess per image at shape (1, 3, 288, 640)\n",
      "\n"
     ]
    },
    {
     "name": "stdout",
     "output_type": "stream",
     "text": [
      "********Frame Count********:  40\n",
      "*****THE***** bbox length:  4\n",
      "*****THE***** bbox contents:  (323, 206, 602, 243)\n",
      "BBOX_0 323\n",
      "BBOX_1 206\n",
      "BBOX_2 602\n",
      "BBOX_3 243\n"
     ]
    },
    {
     "name": "stderr",
     "output_type": "stream",
     "text": [
      "0: 288x640 7 cars, 1 traffic light, 218.3ms\n",
      "Speed: 3.6ms preprocess, 218.3ms inference, 0.9ms postprocess per image at shape (1, 3, 288, 640)\n",
      "\n"
     ]
    },
    {
     "name": "stdout",
     "output_type": "stream",
     "text": [
      "********Frame Count********:  41\n",
      "*****THE***** bbox length:  4\n",
      "*****THE***** bbox contents:  (323, 206, 602, 243)\n",
      "BBOX_0 323\n",
      "BBOX_1 206\n",
      "BBOX_2 602\n",
      "BBOX_3 243\n"
     ]
    },
    {
     "name": "stderr",
     "output_type": "stream",
     "text": [
      "0: 288x640 8 cars, 215.4ms\n",
      "Speed: 3.2ms preprocess, 215.4ms inference, 1.0ms postprocess per image at shape (1, 3, 288, 640)\n",
      "\n"
     ]
    },
    {
     "name": "stdout",
     "output_type": "stream",
     "text": [
      "********Frame Count********:  42\n",
      "*****THE***** bbox length:  4\n",
      "*****THE***** bbox contents:  (323, 206, 602, 243)\n",
      "BBOX_0 323\n",
      "BBOX_1 206\n",
      "BBOX_2 602\n",
      "BBOX_3 243\n"
     ]
    },
    {
     "name": "stderr",
     "output_type": "stream",
     "text": [
      "0: 288x640 8 cars, 215.5ms\n",
      "Speed: 3.8ms preprocess, 215.5ms inference, 0.9ms postprocess per image at shape (1, 3, 288, 640)\n",
      "\n"
     ]
    },
    {
     "name": "stdout",
     "output_type": "stream",
     "text": [
      "********Frame Count********:  43\n",
      "*****THE***** bbox length:  4\n",
      "*****THE***** bbox contents:  (323, 206, 602, 243)\n",
      "BBOX_0 323\n",
      "BBOX_1 206\n",
      "BBOX_2 602\n",
      "BBOX_3 243\n"
     ]
    },
    {
     "name": "stderr",
     "output_type": "stream",
     "text": [
      "0: 288x640 8 cars, 215.0ms\n",
      "Speed: 3.4ms preprocess, 215.0ms inference, 1.0ms postprocess per image at shape (1, 3, 288, 640)\n",
      "\n"
     ]
    },
    {
     "name": "stdout",
     "output_type": "stream",
     "text": [
      "********Frame Count********:  44\n",
      "*****THE***** bbox length:  4\n",
      "*****THE***** bbox contents:  (323, 206, 602, 243)\n",
      "BBOX_0 323\n",
      "BBOX_1 206\n",
      "BBOX_2 602\n",
      "BBOX_3 243\n"
     ]
    },
    {
     "name": "stderr",
     "output_type": "stream",
     "text": [
      "0: 288x640 8 cars, 221.8ms\n",
      "Speed: 3.6ms preprocess, 221.8ms inference, 1.4ms postprocess per image at shape (1, 3, 288, 640)\n",
      "\n"
     ]
    },
    {
     "name": "stdout",
     "output_type": "stream",
     "text": [
      "********Frame Count********:  45\n",
      "*****THE***** bbox length:  4\n",
      "*****THE***** bbox contents:  (323, 206, 602, 243)\n",
      "BBOX_0 323\n",
      "BBOX_1 206\n",
      "BBOX_2 602\n",
      "BBOX_3 243\n"
     ]
    },
    {
     "name": "stderr",
     "output_type": "stream",
     "text": [
      "0: 288x640 8 cars, 213.1ms\n",
      "Speed: 1.7ms preprocess, 213.1ms inference, 1.1ms postprocess per image at shape (1, 3, 288, 640)\n",
      "\n"
     ]
    },
    {
     "name": "stdout",
     "output_type": "stream",
     "text": [
      "********Frame Count********:  46\n",
      "*****THE***** bbox length:  4\n",
      "*****THE***** bbox contents:  (323, 206, 602, 243)\n",
      "BBOX_0 323\n",
      "BBOX_1 206\n",
      "BBOX_2 602\n",
      "BBOX_3 243\n"
     ]
    },
    {
     "name": "stderr",
     "output_type": "stream",
     "text": [
      "0: 288x640 9 cars, 1 truck, 215.9ms\n",
      "Speed: 1.7ms preprocess, 215.9ms inference, 1.1ms postprocess per image at shape (1, 3, 288, 640)\n",
      "\n"
     ]
    },
    {
     "name": "stdout",
     "output_type": "stream",
     "text": [
      "********Frame Count********:  47\n",
      "*****THE***** bbox length:  4\n",
      "*****THE***** bbox contents:  (323, 206, 602, 243)\n",
      "BBOX_0 323\n",
      "BBOX_1 206\n",
      "BBOX_2 602\n",
      "BBOX_3 243\n"
     ]
    },
    {
     "name": "stderr",
     "output_type": "stream",
     "text": [
      "0: 288x640 9 cars, 254.6ms\n",
      "Speed: 2.0ms preprocess, 254.6ms inference, 0.9ms postprocess per image at shape (1, 3, 288, 640)\n",
      "\n"
     ]
    },
    {
     "name": "stdout",
     "output_type": "stream",
     "text": [
      "********Frame Count********:  48\n",
      "*****THE***** bbox length:  4\n",
      "*****THE***** bbox contents:  (323, 206, 602, 243)\n",
      "BBOX_0 323\n",
      "BBOX_1 206\n",
      "BBOX_2 602\n",
      "BBOX_3 243\n"
     ]
    },
    {
     "name": "stderr",
     "output_type": "stream",
     "text": [
      "0: 288x640 9 cars, 1 truck, 217.8ms\n",
      "Speed: 1.7ms preprocess, 217.8ms inference, 1.1ms postprocess per image at shape (1, 3, 288, 640)\n",
      "\n"
     ]
    },
    {
     "name": "stdout",
     "output_type": "stream",
     "text": [
      "********Frame Count********:  49\n",
      "*****THE***** bbox length:  4\n",
      "*****THE***** bbox contents:  (323, 206, 602, 243)\n",
      "BBOX_0 323\n",
      "BBOX_1 206\n",
      "BBOX_2 602\n",
      "BBOX_3 243\n"
     ]
    },
    {
     "name": "stderr",
     "output_type": "stream",
     "text": [
      "0: 288x640 9 cars, 1 truck, 216.5ms\n",
      "Speed: 3.9ms preprocess, 216.5ms inference, 1.0ms postprocess per image at shape (1, 3, 288, 640)\n",
      "\n"
     ]
    },
    {
     "name": "stdout",
     "output_type": "stream",
     "text": [
      "********Frame Count********:  50\n",
      "*****THE***** bbox length:  4\n",
      "*****THE***** bbox contents:  (323, 206, 602, 243)\n",
      "BBOX_0 323\n",
      "BBOX_1 206\n",
      "BBOX_2 602\n",
      "BBOX_3 243\n"
     ]
    },
    {
     "name": "stderr",
     "output_type": "stream",
     "text": [
      "0: 288x640 9 cars, 216.6ms\n",
      "Speed: 2.5ms preprocess, 216.6ms inference, 0.9ms postprocess per image at shape (1, 3, 288, 640)\n",
      "\n"
     ]
    },
    {
     "name": "stdout",
     "output_type": "stream",
     "text": [
      "********Frame Count********:  51\n",
      "*****THE***** bbox length:  4\n",
      "*****THE***** bbox contents:  (323, 206, 602, 243)\n",
      "BBOX_0 323\n",
      "BBOX_1 206\n",
      "BBOX_2 602\n",
      "BBOX_3 243\n"
     ]
    },
    {
     "name": "stderr",
     "output_type": "stream",
     "text": [
      "0: 288x640 9 cars, 1 truck, 216.0ms\n",
      "Speed: 1.7ms preprocess, 216.0ms inference, 1.2ms postprocess per image at shape (1, 3, 288, 640)\n",
      "\n"
     ]
    },
    {
     "name": "stdout",
     "output_type": "stream",
     "text": [
      "********Frame Count********:  52\n",
      "*****THE***** bbox length:  4\n",
      "*****THE***** bbox contents:  (323, 206, 602, 243)\n",
      "BBOX_0 323\n",
      "BBOX_1 206\n",
      "BBOX_2 602\n",
      "BBOX_3 243\n"
     ]
    },
    {
     "name": "stderr",
     "output_type": "stream",
     "text": [
      "0: 288x640 9 cars, 1 truck, 212.6ms\n",
      "Speed: 1.9ms preprocess, 212.6ms inference, 1.1ms postprocess per image at shape (1, 3, 288, 640)\n",
      "\n"
     ]
    },
    {
     "name": "stdout",
     "output_type": "stream",
     "text": [
      "********Frame Count********:  53\n",
      "*****THE***** bbox length:  4\n",
      "*****THE***** bbox contents:  (323, 206, 602, 243)\n",
      "BBOX_0 323\n",
      "BBOX_1 206\n",
      "BBOX_2 602\n",
      "BBOX_3 243\n"
     ]
    },
    {
     "name": "stderr",
     "output_type": "stream",
     "text": [
      "0: 288x640 10 cars, 1 truck, 212.9ms\n",
      "Speed: 1.6ms preprocess, 212.9ms inference, 1.3ms postprocess per image at shape (1, 3, 288, 640)\n",
      "\n"
     ]
    },
    {
     "name": "stdout",
     "output_type": "stream",
     "text": [
      "********Frame Count********:  54\n",
      "*****THE***** bbox length:  4\n",
      "*****THE***** bbox contents:  (323, 206, 602, 243)\n",
      "BBOX_0 323\n",
      "BBOX_1 206\n",
      "BBOX_2 602\n",
      "BBOX_3 243\n"
     ]
    },
    {
     "name": "stderr",
     "output_type": "stream",
     "text": [
      "0: 288x640 10 cars, 231.8ms\n",
      "Speed: 3.1ms preprocess, 231.8ms inference, 6.3ms postprocess per image at shape (1, 3, 288, 640)\n",
      "\n"
     ]
    },
    {
     "name": "stdout",
     "output_type": "stream",
     "text": [
      "********Frame Count********:  55\n",
      "*****THE***** bbox length:  4\n",
      "*****THE***** bbox contents:  (323, 206, 602, 243)\n",
      "BBOX_0 323\n",
      "BBOX_1 206\n",
      "BBOX_2 602\n",
      "BBOX_3 243\n"
     ]
    },
    {
     "name": "stderr",
     "output_type": "stream",
     "text": [
      "0: 288x640 10 cars, 215.1ms\n",
      "Speed: 5.2ms preprocess, 215.1ms inference, 1.0ms postprocess per image at shape (1, 3, 288, 640)\n",
      "\n"
     ]
    },
    {
     "name": "stdout",
     "output_type": "stream",
     "text": [
      "********Frame Count********:  56\n",
      "*****THE***** bbox length:  4\n",
      "*****THE***** bbox contents:  (323, 206, 602, 243)\n",
      "BBOX_0 323\n",
      "BBOX_1 206\n",
      "BBOX_2 602\n",
      "BBOX_3 243\n"
     ]
    },
    {
     "name": "stderr",
     "output_type": "stream",
     "text": [
      "0: 288x640 9 cars, 215.2ms\n",
      "Speed: 3.9ms preprocess, 215.2ms inference, 1.1ms postprocess per image at shape (1, 3, 288, 640)\n",
      "\n"
     ]
    },
    {
     "name": "stdout",
     "output_type": "stream",
     "text": [
      "********Frame Count********:  57\n",
      "*****THE***** bbox length:  4\n",
      "*****THE***** bbox contents:  (323, 206, 602, 243)\n",
      "BBOX_0 323\n",
      "BBOX_1 206\n",
      "BBOX_2 602\n",
      "BBOX_3 243\n"
     ]
    },
    {
     "name": "stderr",
     "output_type": "stream",
     "text": [
      "0: 288x640 9 cars, 215.7ms\n",
      "Speed: 4.3ms preprocess, 215.7ms inference, 0.9ms postprocess per image at shape (1, 3, 288, 640)\n",
      "\n"
     ]
    },
    {
     "name": "stdout",
     "output_type": "stream",
     "text": [
      "********Frame Count********:  58\n",
      "*****THE***** bbox length:  4\n",
      "*****THE***** bbox contents:  (323, 206, 602, 243)\n",
      "BBOX_0 323\n",
      "BBOX_1 206\n",
      "BBOX_2 602\n",
      "BBOX_3 243\n"
     ]
    },
    {
     "name": "stderr",
     "output_type": "stream",
     "text": [
      "0: 288x640 8 cars, 214.7ms\n",
      "Speed: 3.7ms preprocess, 214.7ms inference, 0.9ms postprocess per image at shape (1, 3, 288, 640)\n",
      "\n"
     ]
    },
    {
     "name": "stdout",
     "output_type": "stream",
     "text": [
      "********Frame Count********:  59\n",
      "*****THE***** bbox length:  4\n",
      "*****THE***** bbox contents:  (323, 206, 602, 243)\n",
      "BBOX_0 323\n",
      "BBOX_1 206\n",
      "BBOX_2 602\n",
      "BBOX_3 243\n"
     ]
    },
    {
     "name": "stderr",
     "output_type": "stream",
     "text": [
      "0: 288x640 8 cars, 1 truck, 214.7ms\n",
      "Speed: 3.9ms preprocess, 214.7ms inference, 1.0ms postprocess per image at shape (1, 3, 288, 640)\n",
      "\n"
     ]
    },
    {
     "name": "stdout",
     "output_type": "stream",
     "text": [
      "********Frame Count********:  60\n",
      "*****THE***** bbox length:  4\n",
      "*****THE***** bbox contents:  (323, 206, 602, 243)\n",
      "BBOX_0 323\n",
      "BBOX_1 206\n",
      "BBOX_2 602\n",
      "BBOX_3 243\n"
     ]
    },
    {
     "name": "stderr",
     "output_type": "stream",
     "text": [
      "0: 288x640 8 cars, 1 truck, 213.1ms\n",
      "Speed: 1.6ms preprocess, 213.1ms inference, 1.0ms postprocess per image at shape (1, 3, 288, 640)\n",
      "\n"
     ]
    },
    {
     "name": "stdout",
     "output_type": "stream",
     "text": [
      "********Frame Count********:  61\n",
      "*****THE***** bbox length:  4\n",
      "*****THE***** bbox contents:  (323, 206, 602, 243)\n",
      "BBOX_0 323\n",
      "BBOX_1 206\n",
      "BBOX_2 602\n",
      "BBOX_3 243\n"
     ]
    },
    {
     "name": "stderr",
     "output_type": "stream",
     "text": [
      "0: 288x640 8 cars, 1 truck, 213.3ms\n",
      "Speed: 1.9ms preprocess, 213.3ms inference, 0.9ms postprocess per image at shape (1, 3, 288, 640)\n",
      "\n"
     ]
    },
    {
     "name": "stdout",
     "output_type": "stream",
     "text": [
      "********Frame Count********:  62\n",
      "*****THE***** bbox length:  4\n",
      "*****THE***** bbox contents:  (323, 206, 602, 243)\n",
      "BBOX_0 323\n",
      "BBOX_1 206\n",
      "BBOX_2 602\n",
      "BBOX_3 243\n"
     ]
    },
    {
     "name": "stderr",
     "output_type": "stream",
     "text": [
      "0: 288x640 8 cars, 256.4ms\n",
      "Speed: 2.9ms preprocess, 256.4ms inference, 0.9ms postprocess per image at shape (1, 3, 288, 640)\n",
      "\n"
     ]
    },
    {
     "name": "stdout",
     "output_type": "stream",
     "text": [
      "********Frame Count********:  63\n",
      "*****THE***** bbox length:  4\n",
      "*****THE***** bbox contents:  (323, 206, 602, 243)\n",
      "BBOX_0 323\n",
      "BBOX_1 206\n",
      "BBOX_2 602\n",
      "BBOX_3 243\n"
     ]
    },
    {
     "name": "stderr",
     "output_type": "stream",
     "text": [
      "0: 288x640 8 cars, 1 truck, 214.6ms\n",
      "Speed: 1.6ms preprocess, 214.6ms inference, 1.1ms postprocess per image at shape (1, 3, 288, 640)\n",
      "\n"
     ]
    },
    {
     "name": "stdout",
     "output_type": "stream",
     "text": [
      "********Frame Count********:  64\n",
      "*****THE***** bbox length:  4\n",
      "*****THE***** bbox contents:  (323, 206, 602, 243)\n",
      "BBOX_0 323\n",
      "BBOX_1 206\n",
      "BBOX_2 602\n",
      "BBOX_3 243\n"
     ]
    },
    {
     "name": "stderr",
     "output_type": "stream",
     "text": [
      "0: 288x640 8 cars, 1 truck, 216.4ms\n",
      "Speed: 1.8ms preprocess, 216.4ms inference, 1.5ms postprocess per image at shape (1, 3, 288, 640)\n",
      "\n"
     ]
    },
    {
     "name": "stdout",
     "output_type": "stream",
     "text": [
      "********Frame Count********:  65\n",
      "*****THE***** bbox length:  4\n",
      "*****THE***** bbox contents:  (323, 206, 602, 243)\n",
      "BBOX_0 323\n",
      "BBOX_1 206\n",
      "BBOX_2 602\n",
      "BBOX_3 243\n"
     ]
    },
    {
     "name": "stderr",
     "output_type": "stream",
     "text": [
      "0: 288x640 8 cars, 1 truck, 215.4ms\n",
      "Speed: 1.7ms preprocess, 215.4ms inference, 1.0ms postprocess per image at shape (1, 3, 288, 640)\n",
      "\n"
     ]
    },
    {
     "name": "stdout",
     "output_type": "stream",
     "text": [
      "********Frame Count********:  66\n",
      "*****THE***** bbox length:  4\n",
      "*****THE***** bbox contents:  (323, 206, 602, 243)\n",
      "BBOX_0 323\n",
      "BBOX_1 206\n",
      "BBOX_2 602\n",
      "BBOX_3 243\n"
     ]
    },
    {
     "name": "stderr",
     "output_type": "stream",
     "text": [
      "0: 288x640 7 cars, 1 truck, 216.6ms\n",
      "Speed: 2.4ms preprocess, 216.6ms inference, 1.3ms postprocess per image at shape (1, 3, 288, 640)\n",
      "\n"
     ]
    },
    {
     "name": "stdout",
     "output_type": "stream",
     "text": [
      "********Frame Count********:  67\n",
      "*****THE***** bbox length:  4\n",
      "*****THE***** bbox contents:  (323, 206, 602, 243)\n",
      "BBOX_0 323\n",
      "BBOX_1 206\n",
      "BBOX_2 602\n",
      "BBOX_3 243\n"
     ]
    },
    {
     "name": "stderr",
     "output_type": "stream",
     "text": [
      "0: 288x640 7 cars, 1 truck, 214.0ms\n",
      "Speed: 1.7ms preprocess, 214.0ms inference, 1.0ms postprocess per image at shape (1, 3, 288, 640)\n",
      "\n"
     ]
    },
    {
     "name": "stdout",
     "output_type": "stream",
     "text": [
      "********Frame Count********:  68\n",
      "*****THE***** bbox length:  4\n",
      "*****THE***** bbox contents:  (323, 206, 602, 243)\n",
      "BBOX_0 323\n",
      "BBOX_1 206\n",
      "BBOX_2 602\n",
      "BBOX_3 243\n"
     ]
    },
    {
     "name": "stderr",
     "output_type": "stream",
     "text": [
      "0: 288x640 7 cars, 1 truck, 216.7ms\n",
      "Speed: 2.1ms preprocess, 216.7ms inference, 1.3ms postprocess per image at shape (1, 3, 288, 640)\n",
      "\n"
     ]
    },
    {
     "name": "stdout",
     "output_type": "stream",
     "text": [
      "********Frame Count********:  69\n",
      "*****THE***** bbox length:  4\n",
      "*****THE***** bbox contents:  (323, 206, 602, 243)\n",
      "BBOX_0 323\n",
      "BBOX_1 206\n",
      "BBOX_2 602\n",
      "BBOX_3 243\n"
     ]
    },
    {
     "name": "stderr",
     "output_type": "stream",
     "text": [
      "0: 288x640 7 cars, 1 truck, 255.9ms\n",
      "Speed: 1.8ms preprocess, 255.9ms inference, 1.0ms postprocess per image at shape (1, 3, 288, 640)\n",
      "\n"
     ]
    },
    {
     "name": "stdout",
     "output_type": "stream",
     "text": [
      "********Frame Count********:  70\n",
      "*****THE***** bbox length:  4\n",
      "*****THE***** bbox contents:  (323, 206, 602, 243)\n",
      "BBOX_0 323\n",
      "BBOX_1 206\n",
      "BBOX_2 602\n",
      "BBOX_3 243\n"
     ]
    },
    {
     "name": "stderr",
     "output_type": "stream",
     "text": [
      "0: 288x640 7 cars, 1 truck, 217.3ms\n",
      "Speed: 2.3ms preprocess, 217.3ms inference, 1.1ms postprocess per image at shape (1, 3, 288, 640)\n",
      "\n"
     ]
    },
    {
     "name": "stdout",
     "output_type": "stream",
     "text": [
      "********Frame Count********:  71\n",
      "*****THE***** bbox length:  4\n",
      "*****THE***** bbox contents:  (323, 206, 602, 243)\n",
      "BBOX_0 323\n",
      "BBOX_1 206\n",
      "BBOX_2 602\n",
      "BBOX_3 243\n"
     ]
    },
    {
     "name": "stderr",
     "output_type": "stream",
     "text": [
      "0: 288x640 7 cars, 1 truck, 218.8ms\n",
      "Speed: 3.7ms preprocess, 218.8ms inference, 1.0ms postprocess per image at shape (1, 3, 288, 640)\n",
      "\n"
     ]
    },
    {
     "name": "stdout",
     "output_type": "stream",
     "text": [
      "********Frame Count********:  72\n",
      "*****THE***** bbox length:  4\n",
      "*****THE***** bbox contents:  (323, 206, 602, 243)\n",
      "BBOX_0 323\n",
      "BBOX_1 206\n",
      "BBOX_2 602\n",
      "BBOX_3 243\n"
     ]
    },
    {
     "name": "stderr",
     "output_type": "stream",
     "text": [
      "0: 288x640 6 cars, 1 truck, 213.6ms\n",
      "Speed: 1.7ms preprocess, 213.6ms inference, 0.9ms postprocess per image at shape (1, 3, 288, 640)\n",
      "\n"
     ]
    },
    {
     "name": "stdout",
     "output_type": "stream",
     "text": [
      "********Frame Count********:  73\n",
      "*****THE***** bbox length:  4\n",
      "*****THE***** bbox contents:  (323, 206, 602, 243)\n",
      "BBOX_0 323\n",
      "BBOX_1 206\n",
      "BBOX_2 602\n",
      "BBOX_3 243\n"
     ]
    },
    {
     "name": "stderr",
     "output_type": "stream",
     "text": [
      "0: 288x640 6 cars, 1 truck, 214.8ms\n",
      "Speed: 2.0ms preprocess, 214.8ms inference, 0.9ms postprocess per image at shape (1, 3, 288, 640)\n",
      "\n"
     ]
    },
    {
     "name": "stdout",
     "output_type": "stream",
     "text": [
      "********Frame Count********:  74\n",
      "*****THE***** bbox length:  4\n",
      "*****THE***** bbox contents:  (323, 206, 602, 243)\n",
      "BBOX_0 323\n",
      "BBOX_1 206\n",
      "BBOX_2 602\n",
      "BBOX_3 243\n"
     ]
    },
    {
     "name": "stderr",
     "output_type": "stream",
     "text": [
      "0: 288x640 7 cars, 1 truck, 211.3ms\n",
      "Speed: 1.9ms preprocess, 211.3ms inference, 0.9ms postprocess per image at shape (1, 3, 288, 640)\n",
      "\n"
     ]
    },
    {
     "name": "stdout",
     "output_type": "stream",
     "text": [
      "********Frame Count********:  75\n",
      "*****THE***** bbox length:  4\n",
      "*****THE***** bbox contents:  (323, 206, 602, 243)\n",
      "BBOX_0 323\n",
      "BBOX_1 206\n",
      "BBOX_2 602\n",
      "BBOX_3 243\n"
     ]
    },
    {
     "name": "stderr",
     "output_type": "stream",
     "text": [
      "0: 288x640 6 cars, 1 truck, 216.4ms\n",
      "Speed: 2.4ms preprocess, 216.4ms inference, 0.9ms postprocess per image at shape (1, 3, 288, 640)\n"
     ]
    },
    {
     "ename": "",
     "evalue": "",
     "output_type": "error",
     "traceback": [
      "\u001b[1;31mThe Kernel crashed while executing code in the the current cell or a previous cell. Please review the code in the cell(s) to identify a possible cause of the failure. Click <a href='https://aka.ms/vscodeJupyterKernelCrash'>here</a> for more info. View Jupyter <a href='command:jupyter.viewOutput'>log</a> for further details."
     ]
    }
   ],
   "source": [
    "import cv2\n",
    "import numpy as np\n",
    "from ultralytics import YOLO\n",
    "\n",
    "# Create a new YOLO model from scratch\n",
    "model = YOLO('yolov5s.yaml')\n",
    "\n",
    "# Load a pretrained YOLO model (recommended for training)\n",
    "model = YOLO('yolov5s.pt')\n",
    "\n",
    "# Create a VideoCapture object and read from input file\n",
    "cap = cv2.VideoCapture('Traffic1.mp4')\n",
    "\n",
    "# Check if the video file was opened successfully\n",
    "if not cap.isOpened():\n",
    "    print(\"Error opening video file\")\n",
    "\n",
    "# Read the first frame\n",
    "ret, frame = cap.read()\n",
    "\n",
    "# Create a copy of the first frame for drawing the bounding box\n",
    "frame_with_box = frame.copy()\n",
    "\n",
    "# Initialize variables for bounding box drawing\n",
    "drawing = False\n",
    "bbox1 = (0, 0, 0, 0)\n",
    "\n",
    "# Mouse callback function for drawing the bounding box\n",
    "def draw_bbox(event, x, y, flags, param):\n",
    "    global frame_with_box, drawing, bbox1\n",
    "\n",
    "    if event == cv2.EVENT_LBUTTONDOWN:\n",
    "        drawing = True\n",
    "        bbox1 = (x, y, 0, 0)\n",
    "\n",
    "    elif event == cv2.EVENT_LBUTTONUP:\n",
    "        drawing = False\n",
    "        bbox1 = (bbox1[0], bbox1[1], x - bbox1[0], y - bbox1[1])\n",
    "        cv2.rectangle(frame_with_box, (bbox1[0], bbox1[1]), (x, y), (0, 255, 0), 2)\n",
    "        cv2.imshow('Frame', frame_with_box)\n",
    "\n",
    "# Create a window and set the mouse callback\n",
    "cv2.namedWindow('Frame')\n",
    "cv2.setMouseCallback('Frame', draw_bbox)\n",
    "\n",
    "# Display the initial frame with bounding box\n",
    "cv2.imshow('Frame', frame_with_box)\n",
    "\n",
    "# Wait for 'Enter' key press\n",
    "while cv2.waitKey(0) != 13:  # 13 is the ASCII code for 'Enter' key\n",
    "    pass\n",
    "\n",
    "frame_count = 0\n",
    "# Play the video from the second frame onwards\n",
    "while cap.isOpened():\n",
    "    # Capture frame-by-frame\n",
    "    ret, frame = cap.read()\n",
    "    frame_count += 1\n",
    "    print(\"********Frame Count********: \",frame_count)\n",
    "    if ret:\n",
    "        print(\"*****THE***** bbox length: \",len(bbox1))\n",
    "        print(\"*****THE***** bbox contents: \",bbox1)\n",
    "\n",
    "        # Draw the bounding box on the frame\n",
    "        #print(bbox)\n",
    "        print(\"BBOX_0\", bbox1[0])\n",
    "        print(\"BBOX_1\", bbox1[1])\n",
    "        print(\"BBOX_2\", bbox1[2])\n",
    "        print(\"BBOX_3\", bbox1[3])\n",
    "        cv2.rectangle(frame, (bbox1[0], bbox1[1]), (bbox1[0] - bbox1[2], bbox1[1] - bbox1[3]), (0, 255, 0), 2)\n",
    "        \n",
    "        #cv2.rectangle(frame, (bbox[0], bbox[1]), (bbox[0] + bbox[2], bbox[1] + bbox[3]), (0, 255, 0), 2)\n",
    "\n",
    "        # Extract the region of interest (ROI) within the bounding box\n",
    "        roi = frame[bbox1[1]:bbox1[1] + bbox1[3], bbox1[0]:bbox1[0] + bbox1[2]]\n",
    "\n",
    "        # Perform object detection on the ROI using YOLO\n",
    "        if roi.size > 0:  # Check if the ROI is non-empty\n",
    "            results = model(roi)\n",
    "            # print(type(results))\n",
    "            # print(type(results[0]))\n",
    "            # print(dir(results))\n",
    "            # print([attr for attr in dir(results) if not attr.startswith('__') and attr != '__class__'])\n",
    "\n",
    "            bboxes = []\n",
    "            labels = []\n",
    "                    \n",
    "            for result in results:\n",
    "                bboxes = result.boxes.numpy()\n",
    "                labels = result.names\n",
    "\n",
    "                for bbox, name in zip(bboxes, labels):\n",
    "                    #print(\"Length of bbox: \",len(bbox))\n",
    "                    #print(\"Bbox contents: \",bbox.xyxy)\n",
    "                    #print(type(bbox.xyxy))\n",
    "                    if bbox.xyxy.size >= 4:\n",
    "                        x1, y1, x2, y2 = bbox.xyxy[0]\n",
    "                        #print(f\"Bounding box: ({x1}, {y1}) - ({x2}, {y2}), Name: {name}\")\n",
    "                    else:\n",
    "                        print(\"Invalid bounding box format1\")\n",
    "\n",
    "            num_objects = len(bboxes)\n",
    "            # Draw bounding boxes and labels on the frame if objects are detected\n",
    "            if num_objects > 0:\n",
    "                for bbox in bboxes:\n",
    "                    if bbox.xyxy.size >= 4:\n",
    "                        x1, y1, x2, y2 = bbox.xyxy[0]\n",
    "                        x1, y1, x2, y2 = int(x1.item()), int(y1.item()), int(x2.item()), int(y2.item())\n",
    "                        cv2.rectangle(frame, (x1, y1), (x2, y2), (0, 255, 0), 2)\n",
    "                        roi = frame[y1:y2, x1:x2]\n",
    "                        # Process the ROI as needed\n",
    "                    \n",
    "                        #print(f\"Bounding box: ({x1}, {y1}) - ({x2}, {y2})\")\n",
    "                    else:\n",
    "                        print(\"Invalid bounding box format2\")\n",
    "            \n",
    "        # Display the frame with bounding boxes and labels\n",
    "        cv2.imshow('Frame', frame)\n",
    "    \n",
    "        # Break the loop if 'q' key is pressed\n",
    "        if cv2.waitKey(1) & 0xFF == ord('q'):\n",
    "            break\n",
    "\n",
    "# Release the VideoCapture object and close the windows\n",
    "cap.release()\n",
    "cv2.destroyAllWindows()"
   ]
  },
  {
   "cell_type": "code",
   "execution_count": 17,
   "metadata": {},
   "outputs": [
    {
     "name": "stdout",
     "output_type": "stream",
     "text": [
      "None\n"
     ]
    }
   ],
   "source": []
  }
 ],
 "metadata": {
  "kernelspec": {
   "display_name": "Python 3",
   "language": "python",
   "name": "python3"
  },
  "language_info": {
   "codemirror_mode": {
    "name": "ipython",
    "version": 3
   },
   "file_extension": ".py",
   "mimetype": "text/x-python",
   "name": "python",
   "nbconvert_exporter": "python",
   "pygments_lexer": "ipython3",
   "version": "3.11.6"
  }
 },
 "nbformat": 4,
 "nbformat_minor": 2
}
